{
 "cells": [
  {
   "cell_type": "code",
   "execution_count": 1,
   "metadata": {
    "collapsed": true
   },
   "outputs": [],
   "source": [
    "# Import packages.\n",
    "using JuMP, SCS, Mayday, Mosek"
   ]
  },
  {
   "cell_type": "code",
   "execution_count": 2,
   "metadata": {},
   "outputs": [
    {
     "name": "stdout",
     "output_type": "stream",
     "text": [
      "----------------------------------------------------------------------------\n",
      "\tSCS v1.1.5 - Splitting Conic Solver\n",
      "\t(c) Brendan O'Donoghue, Stanford University, 2012\n",
      "----------------------------------------------------------------------------\n",
      "Lin-sys: sparse-direct, nnz in A = 44195\n",
      "eps = 1.00e-004, alpha = 1.80, max_iters = 20000, normalize = 1, scale = 5.00\n",
      "Variables n = 14660, constraints m = 15080\n",
      "Cones:\tprimal zero / dual free vars: 7820\n",
      "\tsd vars: 7260, sd blks: 1\n",
      "Setup time: 1.12e-002s\n",
      "----------------------------------------------------------------------------\n",
      " Iter | pri res | dua res | rel gap | pri obj | dua obj | kap/tau | time (s)\n",
      "----------------------------------------------------------------------------\n",
      "     0|1.#Je+000 1.#Je+000 -1.#Je+000 1.#Je+000 1.#Je+000 1.#Je+000 1.24e-002 \n",
      "   100|5.29e-003 5.96e-003 5.95e-004 1.71e+001 1.70e+001 0.00e+000 4.82e-001 \n",
      "   200|2.94e-003 2.66e-003 3.73e-004 1.71e+001 1.71e+001 0.00e+000 8.67e-001 \n",
      "   300|6.77e-004 2.30e-003 7.09e-005 1.71e+001 1.71e+001 0.00e+000 1.29e+000 \n",
      "   400|3.81e-004 9.08e-004 6.20e-005 1.71e+001 1.71e+001 0.00e+000 1.75e+000 \n",
      "   500|2.59e-004 3.16e-004 3.53e-005 1.71e+001 1.71e+001 0.00e+000 2.16e+000 \n",
      "   600|2.77e-005 2.35e-004 1.23e-006 1.71e+001 1.71e+001 0.00e+000 2.58e+000 \n",
      "   660|7.44e-005 8.24e-005 1.11e-005 1.71e+001 1.71e+001 0.00e+000 2.82e+000 \n",
      "----------------------------------------------------------------------------\n",
      "Status: Solved\n",
      "Timing: Total solve time: 2.82e+000s\n",
      "\tLin-sys: nnz in L factor: 89716, avg solve time: 4.71e-004s\n",
      "\tCones: avg projection time: 3.48e-003s\n",
      "----------------------------------------------------------------------------\n",
      "Error metrics:\n",
      "dist(s, K) = 6.2795e-010, dist(y, K*) = 1.2894e-009, s'y/m = -1.3196e-014\n",
      "|Ax + s - b|_2 / (1 + |b|_2) = 7.4357e-005\n",
      "|A'y + c|_2 / (1 + |c|_2) = 8.2369e-005\n",
      "|c'x + b'y| / (1 + |c'x| + |b'y|) = 1.1053e-005\n",
      "----------------------------------------------------------------------------\n",
      "c'x = 17.1250, -b'y = 17.1254\n",
      "============================================================================\n"
     ]
    },
    {
     "data": {
      "text/plain": [
       ":Optimal"
      ]
     },
     "execution_count": 2,
     "metadata": {},
     "output_type": "execute_result"
    }
   ],
   "source": [
    "m = Model(solver=SCSSolver())\n",
    "\n",
    "@variable(m, γ)\n",
    "\n",
    "x = generator(:x)\n",
    "y = generator(:y)\n",
    "z = generator(:z)\n",
    "v = defPolynomial(m, [:x, :y, :z], 9)\n",
    "w = defPolynomial(m, [:x, :y, :z], 1)\n",
    "r = defPolynomial(m, [:x, :y, :z], 4)\n",
    "p = 2x^14 - x^7 + 3y^14 + 2z^7 + 4z^14 - 17\n",
    "f = x^5 - 4y^3 + 10z^2 - 1\n",
    "g = 2x^13 - x + 2y + 3y^12 - x^7*z^4 + z^13\n",
    "h = 4x^10 - x^3 + 2y^2 + 3y^8 - x*z + z^10\n",
    "\n",
    "@objective(m, Max, γ)\n",
    "\n",
    "addSoSConstraint(m, p - γ + v*f + w*g + r*h)\n",
    "\n",
    "solve(m)"
   ]
  },
  {
   "cell_type": "code",
   "execution_count": 3,
   "metadata": {},
   "outputs": [
    {
     "data": {
      "text/html": [
       "-17.12503429105385"
      ],
      "text/plain": [
       "-17.12503429105385"
      ]
     },
     "execution_count": 3,
     "metadata": {},
     "output_type": "execute_result"
    }
   ],
   "source": [
    "getvalue(γ)"
   ]
  },
  {
   "cell_type": "code",
   "execution_count": 4,
   "metadata": {},
   "outputs": [
    {
     "name": "stdout",
     "output_type": "stream",
     "text": [
      "Problem\n",
      "  Name                   :                 \n",
      "  Objective sense        : min             \n",
      "  Type                   : CONIC (conic optimization problem)\n",
      "  Constraints            : 15080           \n",
      "  Cones                  : 0               \n",
      "  Scalar variables       : 14660           \n",
      "  Matrix variables       : 1               \n",
      "  Integer variables      : 0               \n",
      "\n",
      "Optimizer started.\n",
      "Conic interior-point optimizer started.\n",
      "Presolve started.\n",
      "Linear dependency checker started.\n",
      "Linear dependency checker terminated.\n",
      "Eliminator started.\n",
      "Freed constraints in eliminator : 7612\n",
      "Eliminator terminated.\n",
      "Eliminator started.\n",
      "Freed constraints in eliminator : 0\n",
      "Eliminator terminated.\n",
      "Eliminator - tries                  : 2                 time                   : 0.00            \n",
      "Lin. dep.  - tries                  : 1                 time                   : 0.02            \n",
      "Lin. dep.  - number                 : 0               \n",
      "Presolve terminated. Time: 0.08    \n",
      "Optimizer  - threads                : 4               \n",
      "Optimizer  - solved problem         : the primal      \n",
      "Optimizer  - Constraints            : 7467\n",
      "Optimizer  - Cones                  : 1\n",
      "Optimizer  - Scalar variables       : 7048              conic                  : 7048            \n",
      "Optimizer  - Semi-definite variables: 1                 scalarized             : 7260            \n",
      "Factor     - setup time             : 6.89              dense det. time        : 0.00            \n",
      "Factor     - ML order time          : 2.88              GP order time          : 0.00            \n",
      "Factor     - nonzeros before factor : 2.64e+007         after factor           : 2.64e+007       \n",
      "Factor     - dense dim.             : 2                 flops                  : 1.28e+011       \n",
      "ITE PFEAS    DFEAS    GFEAS    PRSTATUS   POBJ              DOBJ              MU       TIME  \n",
      "0   5.3e+000 1.0e+000 1.0e+000 0.00e+000  0.000000000e+000  0.000000000e+000  1.0e+000 7.00  \n",
      "1   2.2e+000 4.3e-001 3.4e-001 -9.36e-001 5.077543166e+000  1.811853063e+001  4.3e-001 10.27 \n",
      "2   2.2e-001 4.2e-002 3.0e-001 1.63e+000  1.765433486e+001  1.751156776e+001  4.2e-002 13.45 \n",
      "3   2.2e-002 4.1e-003 1.3e-001 1.46e+000  1.711718745e+001  1.710356922e+001  4.1e-003 17.00 \n",
      "4   2.1e-003 4.0e-004 3.3e-002 9.32e-001  1.711912044e+001  1.711838217e+001  4.0e-004 20.08 \n",
      "5   4.0e-006 7.6e-007 2.1e-003 9.92e-001  1.712472993e+001  1.712472589e+001  7.6e-007 23.34 \n",
      "6   4.4e-010 3.6e-011 3.6e-011 1.00e+000  1.712472928e+001  1.712472928e+001  3.3e-011 26.47 \n",
      "Interior-point optimizer terminated. Time: 26.52. \n",
      "\n",
      "Optimizer terminated. Time: 26.55   \n",
      "\n",
      "Interior-point solution summary\n",
      "  Problem status  : PRIMAL_AND_DUAL_FEASIBLE\n",
      "  Solution status : OPTIMAL\n",
      "  Primal.  obj: 1.7124729281e+001   nrm: 2e+001   Viol.  con: 9e-010   var: 0e+000   barvar: 0e+000 \n",
      "  Dual.    obj: 1.7124729280e+001   nrm: 1e+000   Viol.  con: 0e+000   var: 4e-011   barvar: 7e-011 \n"
     ]
    },
    {
     "data": {
      "text/plain": [
       ":Optimal"
      ]
     },
     "execution_count": 4,
     "metadata": {},
     "output_type": "execute_result"
    }
   ],
   "source": [
    "m = Model(solver=MosekSolver())\n",
    "\n",
    "@variable(m, γ)\n",
    "\n",
    "x = generator(:x)\n",
    "y = generator(:y)\n",
    "z = generator(:z)\n",
    "v = defPolynomial(m, [:x, :y, :z], 9)\n",
    "w = defPolynomial(m, [:x, :y, :z], 1)\n",
    "r = defPolynomial(m, [:x, :y, :z], 4)\n",
    "p = 2x^14 - x^7 + 3y^14 + 2z^7 + 4z^14 - 17\n",
    "f = x^5 - 4y^3 + 10z^2 - 1\n",
    "g = 2x^13 - x + 2y + 3y^12 - x^7*z^4 + z^13\n",
    "h = 4x^10 - x^3 + 2y^2 + 3y^8 - x*z + z^10\n",
    "\n",
    "@objective(m, Max, γ)\n",
    "\n",
    "addSoSConstraint(m, p - γ + v*f + w*g + r*h)\n",
    "\n",
    "solve(m)"
   ]
  },
  {
   "cell_type": "code",
   "execution_count": 5,
   "metadata": {},
   "outputs": [
    {
     "data": {
      "text/html": [
       "-17.124729280548483"
      ],
      "text/plain": [
       "-17.124729280548483"
      ]
     },
     "execution_count": 5,
     "metadata": {},
     "output_type": "execute_result"
    }
   ],
   "source": [
    "getvalue(γ)"
   ]
  }
 ],
 "metadata": {
  "kernelspec": {
   "display_name": "Julia 0.6.2",
   "language": "julia",
   "name": "julia-0.6"
  },
  "language_info": {
   "file_extension": ".jl",
   "mimetype": "application/julia",
   "name": "julia",
   "version": "0.6.0"
  }
 },
 "nbformat": 4,
 "nbformat_minor": 2
}
