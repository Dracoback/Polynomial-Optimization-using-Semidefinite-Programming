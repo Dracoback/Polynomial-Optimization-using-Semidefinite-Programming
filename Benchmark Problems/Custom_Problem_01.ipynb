{
 "cells": [
  {
   "cell_type": "code",
   "execution_count": 22,
   "metadata": {
    "collapsed": true
   },
   "outputs": [],
   "source": [
    "# Import packages.\n",
    "using JuMP, SCS, Mayday, Mosek"
   ]
  },
  {
   "cell_type": "code",
   "execution_count": 23,
   "metadata": {},
   "outputs": [
    {
     "name": "stderr",
     "output_type": "stream",
     "text": [
      "\u001b[1m\u001b[33mWARNING: \u001b[39m\u001b[22m\u001b[33mArray{T}(::Type{T}, m::Int, n::Int) is deprecated, use Array{T}(m, n) instead.\u001b[39m\n",
      "Stacktrace:\n",
      " [1] \u001b[1mdepwarn\u001b[22m\u001b[22m\u001b[1m(\u001b[22m\u001b[22m::String, ::Symbol\u001b[1m)\u001b[22m\u001b[22m at \u001b[1m.\\deprecated.jl:70\u001b[22m\u001b[22m\n",
      " [2] \u001b[1mArray\u001b[22m\u001b[22m\u001b[1m(\u001b[22m\u001b[22m::Type{Int64}, ::Int64, ::Int64\u001b[1m)\u001b[22m\u001b[22m at \u001b[1m.\\deprecated.jl:57\u001b[22m\u001b[22m\n",
      " [3] \u001b[1mMultiPoly.PolyUnion\u001b[22m\u001b[22m\u001b[1m(\u001b[22m\u001b[22m::Array{MultiPoly.MPoly{Float64},1}\u001b[1m)\u001b[22m\u001b[22m at \u001b[1mC:\\Users\\Michael\\.julia\\v0.6\\MultiPoly\\src\\polyunion.jl:9\u001b[22m\u001b[22m\n",
      " [4] \u001b[1m*\u001b[22m\u001b[22m\u001b[1m(\u001b[22m\u001b[22m::MultiPoly.MPoly{Float64}, ::MultiPoly.MPoly{Float64}\u001b[1m)\u001b[22m\u001b[22m at \u001b[1mC:\\Users\\Michael\\.julia\\v0.6\\MultiPoly\\src\\mpolyarithmetic.jl:63\u001b[22m\u001b[22m\n",
      " [5] \u001b[1m_mapreduce\u001b[22m\u001b[22m\u001b[1m(\u001b[22m\u001b[22m::Base.#identity, ::Base.#*, ::IndexLinear, ::Array{MultiPoly.MPoly{Float64},1}\u001b[1m)\u001b[22m\u001b[22m at \u001b[1m.\\reduce.jl:273\u001b[22m\u001b[22m\n",
      " [6] \u001b[1m_collect\u001b[22m\u001b[22m\u001b[1m(\u001b[22m\u001b[22m::Array{Array{Int64,1},1}, ::Base.Generator{Array{Array{Int64,1},1},Mayday.##1#3{Array{Symbol,1},Mayday.#monomial}}, ::Base.EltypeUnknown, ::Base.HasShape\u001b[1m)\u001b[22m\u001b[22m at \u001b[1m.\\array.jl:454\u001b[22m\u001b[22m\n",
      " [7] \u001b[1mdefPolynomial\u001b[22m\u001b[22m\u001b[1m(\u001b[22m\u001b[22m::JuMP.Model, ::Array{Symbol,1}, ::Int64\u001b[1m)\u001b[22m\u001b[22m at \u001b[1mC:\\Users\\Michael\\.julia\\v0.6\\Mayday\\src\\Mayday.jl:64\u001b[22m\u001b[22m\n",
      " [8] \u001b[1minclude_string\u001b[22m\u001b[22m\u001b[1m(\u001b[22m\u001b[22m::String, ::String\u001b[1m)\u001b[22m\u001b[22m at \u001b[1m.\\loading.jl:515\u001b[22m\u001b[22m\n",
      " [9] \u001b[1minclude_string\u001b[22m\u001b[22m\u001b[1m(\u001b[22m\u001b[22m::Module, ::String, ::String\u001b[1m)\u001b[22m\u001b[22m at \u001b[1mC:\\Users\\Michael\\.julia\\v0.6\\Compat\\src\\Compat.jl:71\u001b[22m\u001b[22m\n",
      " [10] \u001b[1mexecute_request\u001b[22m\u001b[22m\u001b[1m(\u001b[22m\u001b[22m::ZMQ.Socket, ::IJulia.Msg\u001b[1m)\u001b[22m\u001b[22m at \u001b[1mC:\\Users\\Michael\\.julia\\v0.6\\IJulia\\src\\execute_request.jl:158\u001b[22m\u001b[22m\n",
      " [11] \u001b[1m(::Compat.#inner#17{Array{Any,1},IJulia.#execute_request,Tuple{ZMQ.Socket,IJulia.Msg}})\u001b[22m\u001b[22m\u001b[1m(\u001b[22m\u001b[22m\u001b[1m)\u001b[22m\u001b[22m at \u001b[1mC:\\Users\\Michael\\.julia\\v0.6\\Compat\\src\\Compat.jl:385\u001b[22m\u001b[22m\n",
      " [12] \u001b[1meventloop\u001b[22m\u001b[22m\u001b[1m(\u001b[22m\u001b[22m::ZMQ.Socket\u001b[1m)\u001b[22m\u001b[22m at \u001b[1mC:\\Users\\Michael\\.julia\\v0.6\\IJulia\\src\\eventloop.jl:8\u001b[22m\u001b[22m\n",
      " [13] \u001b[1m(::IJulia.##14#17)\u001b[22m\u001b[22m\u001b[1m(\u001b[22m\u001b[22m\u001b[1m)\u001b[22m\u001b[22m at \u001b[1m.\\task.jl:335\u001b[22m\u001b[22m\n",
      "while loading In[23], in expression starting on line 7\n",
      "\u001b[1m\u001b[33mWARNING: \u001b[39m\u001b[22m\u001b[33mArray{T}(::Type{T}, m::Int, n::Int) is deprecated, use Array{T}(m, n) instead.\u001b[39m\n",
      "Stacktrace:\n",
      " [1] \u001b[1mdepwarn\u001b[22m\u001b[22m\u001b[1m(\u001b[22m\u001b[22m::String, ::Symbol\u001b[1m)\u001b[22m\u001b[22m at \u001b[1m.\\deprecated.jl:70\u001b[22m\u001b[22m\n",
      " [2] \u001b[1mArray\u001b[22m\u001b[22m\u001b[1m(\u001b[22m\u001b[22m::Type{Int64}, ::Int64, ::Int64\u001b[1m)\u001b[22m\u001b[22m at \u001b[1m.\\deprecated.jl:57\u001b[22m\u001b[22m\n",
      " [3] \u001b[1mMultiPoly.PolyUnion\u001b[22m\u001b[22m\u001b[1m(\u001b[22m\u001b[22m::Array{MultiPoly.MPoly{Float64},1}\u001b[1m)\u001b[22m\u001b[22m at \u001b[1mC:\\Users\\Michael\\.julia\\v0.6\\MultiPoly\\src\\polyunion.jl:9\u001b[22m\u001b[22m\n",
      " [4] \u001b[1m*\u001b[22m\u001b[22m\u001b[1m(\u001b[22m\u001b[22m::MultiPoly.MPoly{Float64}, ::MultiPoly.MPoly{Float64}\u001b[1m)\u001b[22m\u001b[22m at \u001b[1mC:\\Users\\Michael\\.julia\\v0.6\\MultiPoly\\src\\mpolyarithmetic.jl:63\u001b[22m\u001b[22m\n",
      " [5] \u001b[1m^\u001b[22m\u001b[22m\u001b[1m(\u001b[22m\u001b[22m::MultiPoly.MPoly{Float64}, ::Int64\u001b[1m)\u001b[22m\u001b[22m at \u001b[1mC:\\Users\\Michael\\.julia\\v0.6\\MultiPoly\\src\\mpolyarithmetic.jl:92\u001b[22m\u001b[22m (repeats 2 times)\n",
      " [6] \u001b[1mliteral_pow\u001b[22m\u001b[22m\u001b[1m(\u001b[22m\u001b[22m::Base.#^, ::MultiPoly.MPoly{Float64}, ::Type{Val{4}}\u001b[1m)\u001b[22m\u001b[22m at \u001b[1m.\\intfuncs.jl:205\u001b[22m\u001b[22m\n",
      " [7] \u001b[1minclude_string\u001b[22m\u001b[22m\u001b[1m(\u001b[22m\u001b[22m::String, ::String\u001b[1m)\u001b[22m\u001b[22m at \u001b[1m.\\loading.jl:515\u001b[22m\u001b[22m\n",
      " [8] \u001b[1minclude_string\u001b[22m\u001b[22m\u001b[1m(\u001b[22m\u001b[22m::Module, ::String, ::String\u001b[1m)\u001b[22m\u001b[22m at \u001b[1mC:\\Users\\Michael\\.julia\\v0.6\\Compat\\src\\Compat.jl:71\u001b[22m\u001b[22m\n",
      " [9] \u001b[1mexecute_request\u001b[22m\u001b[22m\u001b[1m(\u001b[22m\u001b[22m::ZMQ.Socket, ::IJulia.Msg\u001b[1m)\u001b[22m\u001b[22m at \u001b[1mC:\\Users\\Michael\\.julia\\v0.6\\IJulia\\src\\execute_request.jl:158\u001b[22m\u001b[22m\n",
      " [10] \u001b[1m(::Compat.#inner#17{Array{Any,1},IJulia.#execute_request,Tuple{ZMQ.Socket,IJulia.Msg}})\u001b[22m\u001b[22m\u001b[1m(\u001b[22m\u001b[22m\u001b[1m)\u001b[22m\u001b[22m at \u001b[1mC:\\Users\\Michael\\.julia\\v0.6\\Compat\\src\\Compat.jl:385\u001b[22m\u001b[22m\n",
      " [11] \u001b[1meventloop\u001b[22m\u001b[22m\u001b[1m(\u001b[22m\u001b[22m::ZMQ.Socket\u001b[1m)\u001b[22m\u001b[22m at \u001b[1mC:\\Users\\Michael\\.julia\\v0.6\\IJulia\\src\\eventloop.jl:8\u001b[22m\u001b[22m\n",
      " [12] \u001b[1m(::IJulia.##14#17)\u001b[22m\u001b[22m\u001b[1m(\u001b[22m\u001b[22m\u001b[1m)\u001b[22m\u001b[22m at \u001b[1m.\\task.jl:335\u001b[22m\u001b[22m\n",
      "while loading In[23], in expression starting on line 8\n",
      "\u001b[1m\u001b[33mWARNING: \u001b[39m\u001b[22m\u001b[33mArray{T}(::Type{T}, m::Int, n::Int) is deprecated, use Array{T}(m, n) instead.\u001b[39m\n",
      "Stacktrace:\n",
      " [1] \u001b[1mdepwarn\u001b[22m\u001b[22m\u001b[1m(\u001b[22m\u001b[22m::String, ::Symbol\u001b[1m)\u001b[22m\u001b[22m at \u001b[1m.\\deprecated.jl:70\u001b[22m\u001b[22m\n",
      " [2] \u001b[1mArray\u001b[22m\u001b[22m\u001b[1m(\u001b[22m\u001b[22m::Type{Int64}, ::Int64, ::Int64\u001b[1m)\u001b[22m\u001b[22m at \u001b[1m.\\deprecated.jl:57\u001b[22m\u001b[22m\n",
      " [3] \u001b[1mMultiPoly.PolyUnion\u001b[22m\u001b[22m\u001b[1m(\u001b[22m\u001b[22m::Array{MultiPoly.MPoly{Float64},1}\u001b[1m)\u001b[22m\u001b[22m at \u001b[1mC:\\Users\\Michael\\.julia\\v0.6\\MultiPoly\\src\\polyunion.jl:9\u001b[22m\u001b[22m\n",
      " [4] \u001b[1m*\u001b[22m\u001b[22m\u001b[1m(\u001b[22m\u001b[22m::MultiPoly.MPoly{Float64}, ::MultiPoly.MPoly{Float64}\u001b[1m)\u001b[22m\u001b[22m at \u001b[1mC:\\Users\\Michael\\.julia\\v0.6\\MultiPoly\\src\\mpolyarithmetic.jl:63\u001b[22m\u001b[22m\n",
      " [5] \u001b[1m^\u001b[22m\u001b[22m\u001b[1m(\u001b[22m\u001b[22m::MultiPoly.MPoly{Float64}, ::Int64\u001b[1m)\u001b[22m\u001b[22m at \u001b[1mC:\\Users\\Michael\\.julia\\v0.6\\MultiPoly\\src\\mpolyarithmetic.jl:92\u001b[22m\u001b[22m (repeats 2 times)\n",
      " [6] \u001b[1mliteral_pow\u001b[22m\u001b[22m\u001b[1m(\u001b[22m\u001b[22m::Base.#^, ::MultiPoly.MPoly{Float64}, ::Type{Val{3}}\u001b[1m)\u001b[22m\u001b[22m at \u001b[1m.\\intfuncs.jl:205\u001b[22m\u001b[22m\n",
      " [7] \u001b[1minclude_string\u001b[22m\u001b[22m\u001b[1m(\u001b[22m\u001b[22m::String, ::String\u001b[1m)\u001b[22m\u001b[22m at \u001b[1m.\\loading.jl:515\u001b[22m\u001b[22m\n",
      " [8] \u001b[1minclude_string\u001b[22m\u001b[22m\u001b[1m(\u001b[22m\u001b[22m::Module, ::String, ::String\u001b[1m)\u001b[22m\u001b[22m at \u001b[1mC:\\Users\\Michael\\.julia\\v0.6\\Compat\\src\\Compat.jl:71\u001b[22m\u001b[22m\n",
      " [9] \u001b[1mexecute_request\u001b[22m\u001b[22m\u001b[1m(\u001b[22m\u001b[22m::ZMQ.Socket, ::IJulia.Msg\u001b[1m)\u001b[22m\u001b[22m at \u001b[1mC:\\Users\\Michael\\.julia\\v0.6\\IJulia\\src\\execute_request.jl:158\u001b[22m\u001b[22m\n",
      " [10] \u001b[1m(::Compat.#inner#17{Array{Any,1},IJulia.#execute_request,Tuple{ZMQ.Socket,IJulia.Msg}})\u001b[22m\u001b[22m\u001b[1m(\u001b[22m\u001b[22m\u001b[1m)\u001b[22m\u001b[22m at \u001b[1mC:\\Users\\Michael\\.julia\\v0.6\\Compat\\src\\Compat.jl:385\u001b[22m\u001b[22m\n",
      " [11] \u001b[1meventloop\u001b[22m\u001b[22m\u001b[1m(\u001b[22m\u001b[22m::ZMQ.Socket\u001b[1m)\u001b[22m\u001b[22m at \u001b[1mC:\\Users\\Michael\\.julia\\v0.6\\IJulia\\src\\eventloop.jl:8\u001b[22m\u001b[22m\n",
      " [12] \u001b[1m(::IJulia.##14#17)\u001b[22m\u001b[22m\u001b[1m(\u001b[22m\u001b[22m\u001b[1m)\u001b[22m\u001b[22m at \u001b[1m.\\task.jl:335\u001b[22m\u001b[22m\n",
      "while loading In[23], in expression starting on line 9\n",
      "\u001b[1m\u001b[33mWARNING: \u001b[39m\u001b[22m\u001b[33mArray{T}(::Type{T}, m::Int, n::Int) is deprecated, use Array{T}(m, n) instead.\u001b[39m\n",
      "Stacktrace:\n",
      " [1] \u001b[1mdepwarn\u001b[22m\u001b[22m\u001b[1m(\u001b[22m\u001b[22m::String, ::Symbol\u001b[1m)\u001b[22m\u001b[22m at \u001b[1m.\\deprecated.jl:70\u001b[22m\u001b[22m\n",
      " [2] \u001b[1mArray\u001b[22m\u001b[22m\u001b[1m(\u001b[22m\u001b[22m::Type{Int64}, ::Int64, ::Int64\u001b[1m)\u001b[22m\u001b[22m at \u001b[1m.\\deprecated.jl:57\u001b[22m\u001b[22m\n",
      " [3] \u001b[1mMultiPoly.PolyUnion\u001b[22m\u001b[22m\u001b[1m(\u001b[22m\u001b[22m::Array{MultiPoly.MPoly{JuMP.GenericAffExpr{Float64,JuMP.Variable}},1}\u001b[1m)\u001b[22m\u001b[22m at \u001b[1mC:\\Users\\Michael\\.julia\\v0.6\\MultiPoly\\src\\polyunion.jl:9\u001b[22m\u001b[22m\n",
      " [4] \u001b[1m*\u001b[22m\u001b[22m\u001b[1m(\u001b[22m\u001b[22m::MultiPoly.MPoly{JuMP.GenericAffExpr{Float64,JuMP.Variable}}, ::MultiPoly.MPoly{Float64}\u001b[1m)\u001b[22m\u001b[22m at \u001b[1mC:\\Users\\Michael\\.julia\\v0.6\\MultiPoly\\src\\mpolyarithmetic.jl:63\u001b[22m\u001b[22m\n",
      " [5] \u001b[1minclude_string\u001b[22m\u001b[22m\u001b[1m(\u001b[22m\u001b[22m::String, ::String\u001b[1m)\u001b[22m\u001b[22m at \u001b[1m.\\loading.jl:515\u001b[22m\u001b[22m\n",
      " [6] \u001b[1minclude_string\u001b[22m\u001b[22m\u001b[1m(\u001b[22m\u001b[22m::Module, ::String, ::String\u001b[1m)\u001b[22m\u001b[22m at \u001b[1mC:\\Users\\Michael\\.julia\\v0.6\\Compat\\src\\Compat.jl:71\u001b[22m\u001b[22m\n",
      " [7] \u001b[1mexecute_request\u001b[22m\u001b[22m\u001b[1m(\u001b[22m\u001b[22m::ZMQ.Socket, ::IJulia.Msg\u001b[1m)\u001b[22m\u001b[22m at \u001b[1mC:\\Users\\Michael\\.julia\\v0.6\\IJulia\\src\\execute_request.jl:158\u001b[22m\u001b[22m\n",
      " [8] \u001b[1m(::Compat.#inner#17{Array{Any,1},IJulia.#execute_request,Tuple{ZMQ.Socket,IJulia.Msg}})\u001b[22m\u001b[22m\u001b[1m(\u001b[22m\u001b[22m\u001b[1m)\u001b[22m\u001b[22m at \u001b[1mC:\\Users\\Michael\\.julia\\v0.6\\Compat\\src\\Compat.jl:385\u001b[22m\u001b[22m\n",
      " [9] \u001b[1meventloop\u001b[22m\u001b[22m\u001b[1m(\u001b[22m\u001b[22m::ZMQ.Socket\u001b[1m)\u001b[22m\u001b[22m at \u001b[1mC:\\Users\\Michael\\.julia\\v0.6\\IJulia\\src\\eventloop.jl:8\u001b[22m\u001b[22m\n",
      " [10] \u001b[1m(::IJulia.##14#17)\u001b[22m\u001b[22m\u001b[1m(\u001b[22m\u001b[22m\u001b[1m)\u001b[22m\u001b[22m at \u001b[1m.\\task.jl:335\u001b[22m\u001b[22m\n",
      "while loading In[23], in expression starting on line 13\n"
     ]
    },
    {
     "data": {
      "text/latex": [
       "$$ \\begin{alignat*}{1}\\max\\quad & γ\\\\\n",
       "\\text{Subject to} \\quad & -γ - coeff_{1} - Q_{1,1} = -1\\\\\n",
       " & -4 coeff_{1} - coeff_{2} - Q_{1,2} - Q_{2,1} = 0\\\\\n",
       " & -4 coeff_{2} - Q_{1,3} - Q_{2,2} - Q_{3,1} = -3\\\\\n",
       " & -coeff_{3} - Q_{1,4} - Q_{4,1} = 0\\\\\n",
       " & -4 coeff_{3} - Q_{1,5} - Q_{2,4} - Q_{4,2} - Q_{5,1} = 0\\\\\n",
       " & -Q_{1,6} - Q_{4,4} - Q_{6,1} = 0\\\\\n",
       " & -Q_{2,3} - Q_{3,2} = 0\\\\\n",
       " & -Q_{2,5} - Q_{3,4} - Q_{4,3} - Q_{5,2} = 0\\\\\n",
       " & -Q_{2,6} - Q_{4,5} - Q_{5,4} - Q_{6,2} = 0\\\\\n",
       " & -Q_{3,3} = 0\\\\\n",
       " & -Q_{3,5} - Q_{5,3} = 0\\\\\n",
       " & -Q_{3,6} - Q_{5,5} - Q_{6,3} = 0\\\\\n",
       " & coeff_{1} - Q_{4,6} - Q_{6,4} = 0\\\\\n",
       " & coeff_{2} - Q_{5,6} - Q_{6,5} = 0\\\\\n",
       " & coeff_{3} - Q_{6,6} = -1\\\\\n",
       " & coeff_{i} \\quad\\forall i \\in \\{1,2,3\\}\\\\\n",
       " & Q_{i,j} \\quad\\forall i \\in \\{1,2,\\dots,5,6\\}, j \\in \\{1,2,\\dots,5,6\\}\\\\\n",
       " & γ\\\\\n",
       "\\end{alignat*}\n",
       " $$"
      ],
      "text/plain": [
       "Maximization problem with:\n",
       " * 15 linear constraints\n",
       " * 1 semidefinite constraint\n",
       " * 40 variables\n",
       "Solver is SCS"
      ]
     },
     "execution_count": 23,
     "metadata": {},
     "output_type": "execute_result"
    }
   ],
   "source": [
    "m = Model(solver=SCSSolver())\n",
    "\n",
    "@variable(m, γ)\n",
    "\n",
    "x = generator(:x)\n",
    "y = generator(:y)\n",
    "v = defPolynomial(m, [:x, :y], 1)\n",
    "p = x^4 + 3y^2 + 1\n",
    "f = x^3 - 4y - 1\n",
    "\n",
    "@objective(m, Max, γ)\n",
    "\n",
    "addSoSConstraint(m, p - γ + v*f)\n",
    "\n",
    "m"
   ]
  },
  {
   "cell_type": "code",
   "execution_count": 24,
   "metadata": {},
   "outputs": [
    {
     "data": {
      "text/plain": [
       ":Optimal"
      ]
     },
     "execution_count": 24,
     "metadata": {},
     "output_type": "execute_result"
    }
   ],
   "source": [
    "solve(m)"
   ]
  },
  {
   "cell_type": "code",
   "execution_count": 25,
   "metadata": {},
   "outputs": [
    {
     "name": "stdout",
     "output_type": "stream",
     "text": [
      "----------------------------------------------------------------------------\n",
      "\tSCS v1.1.5 - Splitting Conic Solver\n",
      "\t(c) Brendan O'Donoghue, Stanford University, 2012\n",
      "----------------------------------------------------------------------------\n",
      "Lin-sys: sparse-direct, nnz in A = 112\n",
      "eps = 1.00e-004, alpha = 1.80, max_iters = 20000, normalize = 1, scale = 5.00\n",
      "Variables n = 40, constraints m = 51\n",
      "Cones:\tprimal zero / dual free vars: 30\n",
      "\tsd vars: 21, sd blks: 1\n",
      "Setup time: 1.17e-004s\n",
      "----------------------------------------------------------------------------\n",
      " Iter | pri res | dua res | rel gap | pri obj | dua obj | kap/tau | time (s)\n",
      "----------------------------------------------------------------------------\n",
      "     0|1.#Je+000 1.#Je+000 -1.#Je+000 -1.#Je+000 1.#Je+000 1.#Je+000 1.07e-004 \n",
      "   100|1.74e-003 1.68e-002 8.77e-004 -1.18e+000 -1.18e+000 9.39e-017 3.77e-003 \n",
      "   200|3.34e-004 5.62e-003 8.46e-005 -1.18e+000 -1.18e+000 0.00e+000 6.42e-003 \n",
      "   300|1.71e-004 3.10e-003 3.88e-005 -1.18e+000 -1.18e+000 0.00e+000 8.42e-003 \n",
      "   400|1.12e-004 1.86e-003 3.35e-005 -1.19e+000 -1.19e+000 0.00e+000 1.05e-002 \n",
      "   500|8.08e-005 1.13e-003 3.16e-005 -1.19e+000 -1.19e+000 0.00e+000 1.29e-002 \n",
      "   600|6.17e-005 7.04e-004 2.82e-005 -1.19e+000 -1.19e+000 0.00e+000 1.53e-002 \n",
      "   700|4.85e-005 4.65e-004 2.35e-005 -1.19e+000 -1.19e+000 0.00e+000 1.79e-002 \n",
      "   800|3.86e-005 3.27e-004 1.89e-005 -1.19e+000 -1.19e+000 0.00e+000 2.07e-002 \n",
      "   900|3.10e-005 2.42e-004 1.50e-005 -1.19e+000 -1.19e+000 0.00e+000 2.30e-002 \n",
      "  1000|2.52e-005 1.85e-004 1.19e-005 -1.19e+000 -1.19e+000 0.00e+000 2.83e-002 \n",
      "  1100|2.07e-005 1.45e-004 9.55e-006 -1.19e+000 -1.19e+000 0.00e+000 3.10e-002 \n",
      "  1200|1.73e-005 1.16e-004 7.77e-006 -1.19e+000 -1.19e+000 0.00e+000 3.32e-002 \n",
      "  1280|1.51e-005 9.85e-005 6.65e-006 -1.19e+000 -1.19e+000 0.00e+000 3.55e-002 \n",
      "----------------------------------------------------------------------------\n",
      "Status: Solved\n",
      "Timing: Total solve time: 3.55e-002s\n",
      "\tLin-sys: nnz in L factor: 236, avg solve time: 1.16e-006s\n",
      "\tCones: avg projection time: 2.54e-005s\n",
      "----------------------------------------------------------------------------\n",
      "Error metrics:\n",
      "dist(s, K) = 2.0683e-009, dist(y, K*) = 1.6104e-009, s'y/m = -1.6844e-010\n",
      "|Ax + s - b|_2 / (1 + |b|_2) = 1.5105e-005\n",
      "|A'y + c|_2 / (1 + |c|_2) = 9.8522e-005\n",
      "|c'x + b'y| / (1 + |c'x| + |b'y|) = 6.6478e-006\n",
      "----------------------------------------------------------------------------\n",
      "c'x = -1.1855, -b'y = -1.1855\n",
      "============================================================================\n"
     ]
    },
    {
     "data": {
      "text/html": [
       "1.1855058208005316"
      ],
      "text/plain": [
       "1.1855058208005316"
      ]
     },
     "execution_count": 25,
     "metadata": {},
     "output_type": "execute_result"
    }
   ],
   "source": [
    "getvalue(γ)"
   ]
  },
  {
   "cell_type": "code",
   "execution_count": 26,
   "metadata": {},
   "outputs": [
    {
     "name": "stderr",
     "output_type": "stream",
     "text": [
      "\u001b[1m\u001b[33mWARNING: \u001b[39m\u001b[22m\u001b[33mArray{T}(::Type{T}, m::Int, n::Int) is deprecated, use Array{T}(m, n) instead.\u001b[39m\n",
      "Stacktrace:\n",
      " [1] \u001b[1mdepwarn\u001b[22m\u001b[22m\u001b[1m(\u001b[22m\u001b[22m::String, ::Symbol\u001b[1m)\u001b[22m\u001b[22m at \u001b[1m.\\deprecated.jl:70\u001b[22m\u001b[22m\n",
      " [2] \u001b[1mArray\u001b[22m\u001b[22m\u001b[1m(\u001b[22m\u001b[22m::Type{Int64}, ::Int64, ::Int64\u001b[1m)\u001b[22m\u001b[22m at \u001b[1m.\\deprecated.jl:57\u001b[22m\u001b[22m\n",
      " [3] \u001b[1mMultiPoly.PolyUnion\u001b[22m\u001b[22m\u001b[1m(\u001b[22m\u001b[22m::Array{MultiPoly.MPoly{Float64},1}\u001b[1m)\u001b[22m\u001b[22m at \u001b[1mC:\\Users\\Michael\\.julia\\v0.6\\MultiPoly\\src\\polyunion.jl:9\u001b[22m\u001b[22m\n",
      " [4] \u001b[1m*\u001b[22m\u001b[22m\u001b[1m(\u001b[22m\u001b[22m::MultiPoly.MPoly{Float64}, ::MultiPoly.MPoly{Float64}\u001b[1m)\u001b[22m\u001b[22m at \u001b[1mC:\\Users\\Michael\\.julia\\v0.6\\MultiPoly\\src\\mpolyarithmetic.jl:63\u001b[22m\u001b[22m\n",
      " [5] \u001b[1m_mapreduce\u001b[22m\u001b[22m\u001b[1m(\u001b[22m\u001b[22m::Base.#identity, ::Base.#*, ::IndexLinear, ::Array{MultiPoly.MPoly{Float64},1}\u001b[1m)\u001b[22m\u001b[22m at \u001b[1m.\\reduce.jl:273\u001b[22m\u001b[22m\n",
      " [6] \u001b[1m_collect\u001b[22m\u001b[22m\u001b[1m(\u001b[22m\u001b[22m::Array{Array{Int64,1},1}, ::Base.Generator{Array{Array{Int64,1},1},Mayday.##1#3{Array{Symbol,1},Mayday.#monomial}}, ::Base.EltypeUnknown, ::Base.HasShape\u001b[1m)\u001b[22m\u001b[22m at \u001b[1m.\\array.jl:454\u001b[22m\u001b[22m\n",
      " [7] \u001b[1mdefPolynomial\u001b[22m\u001b[22m\u001b[1m(\u001b[22m\u001b[22m::JuMP.Model, ::Array{Symbol,1}, ::Int64\u001b[1m)\u001b[22m\u001b[22m at \u001b[1mC:\\Users\\Michael\\.julia\\v0.6\\Mayday\\src\\Mayday.jl:64\u001b[22m\u001b[22m\n",
      " [8] \u001b[1minclude_string\u001b[22m\u001b[22m\u001b[1m(\u001b[22m\u001b[22m::String, ::String\u001b[1m)\u001b[22m\u001b[22m at \u001b[1m.\\loading.jl:515\u001b[22m\u001b[22m\n",
      " [9] \u001b[1minclude_string\u001b[22m\u001b[22m\u001b[1m(\u001b[22m\u001b[22m::Module, ::String, ::String\u001b[1m)\u001b[22m\u001b[22m at \u001b[1mC:\\Users\\Michael\\.julia\\v0.6\\Compat\\src\\Compat.jl:71\u001b[22m\u001b[22m\n",
      " [10] \u001b[1mexecute_request\u001b[22m\u001b[22m\u001b[1m(\u001b[22m\u001b[22m::ZMQ.Socket, ::IJulia.Msg\u001b[1m)\u001b[22m\u001b[22m at \u001b[1mC:\\Users\\Michael\\.julia\\v0.6\\IJulia\\src\\execute_request.jl:158\u001b[22m\u001b[22m\n",
      " [11] \u001b[1m(::Compat.#inner#17{Array{Any,1},IJulia.#execute_request,Tuple{ZMQ.Socket,IJulia.Msg}})\u001b[22m\u001b[22m\u001b[1m(\u001b[22m\u001b[22m\u001b[1m)\u001b[22m\u001b[22m at \u001b[1mC:\\Users\\Michael\\.julia\\v0.6\\Compat\\src\\Compat.jl:385\u001b[22m\u001b[22m\n",
      " [12] \u001b[1meventloop\u001b[22m\u001b[22m\u001b[1m(\u001b[22m\u001b[22m::ZMQ.Socket\u001b[1m)\u001b[22m\u001b[22m at \u001b[1mC:\\Users\\Michael\\.julia\\v0.6\\IJulia\\src\\eventloop.jl:8\u001b[22m\u001b[22m\n",
      " [13] \u001b[1m(::IJulia.##14#17)\u001b[22m\u001b[22m\u001b[1m(\u001b[22m\u001b[22m\u001b[1m)\u001b[22m\u001b[22m at \u001b[1m.\\task.jl:335\u001b[22m\u001b[22m\n",
      "while loading In[26], in expression starting on line 7\n",
      "\u001b[1m\u001b[33mWARNING: \u001b[39m\u001b[22m\u001b[33mArray{T}(::Type{T}, m::Int, n::Int) is deprecated, use Array{T}(m, n) instead.\u001b[39m\n",
      "Stacktrace:\n",
      " [1] \u001b[1mdepwarn\u001b[22m\u001b[22m\u001b[1m(\u001b[22m\u001b[22m::String, ::Symbol\u001b[1m)\u001b[22m\u001b[22m at \u001b[1m.\\deprecated.jl:70\u001b[22m\u001b[22m\n",
      " [2] \u001b[1mArray\u001b[22m\u001b[22m\u001b[1m(\u001b[22m\u001b[22m::Type{Int64}, ::Int64, ::Int64\u001b[1m)\u001b[22m\u001b[22m at \u001b[1m.\\deprecated.jl:57\u001b[22m\u001b[22m\n",
      " [3] \u001b[1mMultiPoly.PolyUnion\u001b[22m\u001b[22m\u001b[1m(\u001b[22m\u001b[22m::Array{MultiPoly.MPoly{Float64},1}\u001b[1m)\u001b[22m\u001b[22m at \u001b[1mC:\\Users\\Michael\\.julia\\v0.6\\MultiPoly\\src\\polyunion.jl:9\u001b[22m\u001b[22m\n",
      " [4] \u001b[1m*\u001b[22m\u001b[22m\u001b[1m(\u001b[22m\u001b[22m::MultiPoly.MPoly{Float64}, ::MultiPoly.MPoly{Float64}\u001b[1m)\u001b[22m\u001b[22m at \u001b[1mC:\\Users\\Michael\\.julia\\v0.6\\MultiPoly\\src\\mpolyarithmetic.jl:63\u001b[22m\u001b[22m\n",
      " [5] \u001b[1m^\u001b[22m\u001b[22m\u001b[1m(\u001b[22m\u001b[22m::MultiPoly.MPoly{Float64}, ::Int64\u001b[1m)\u001b[22m\u001b[22m at \u001b[1mC:\\Users\\Michael\\.julia\\v0.6\\MultiPoly\\src\\mpolyarithmetic.jl:92\u001b[22m\u001b[22m (repeats 2 times)\n",
      " [6] \u001b[1mliteral_pow\u001b[22m\u001b[22m\u001b[1m(\u001b[22m\u001b[22m::Base.#^, ::MultiPoly.MPoly{Float64}, ::Type{Val{4}}\u001b[1m)\u001b[22m\u001b[22m at \u001b[1m.\\intfuncs.jl:205\u001b[22m\u001b[22m\n",
      " [7] \u001b[1minclude_string\u001b[22m\u001b[22m\u001b[1m(\u001b[22m\u001b[22m::String, ::String\u001b[1m)\u001b[22m\u001b[22m at \u001b[1m.\\loading.jl:515\u001b[22m\u001b[22m\n",
      " [8] \u001b[1minclude_string\u001b[22m\u001b[22m\u001b[1m(\u001b[22m\u001b[22m::Module, ::String, ::String\u001b[1m)\u001b[22m\u001b[22m at \u001b[1mC:\\Users\\Michael\\.julia\\v0.6\\Compat\\src\\Compat.jl:71\u001b[22m\u001b[22m\n",
      " [9] \u001b[1mexecute_request\u001b[22m\u001b[22m\u001b[1m(\u001b[22m\u001b[22m::ZMQ.Socket, ::IJulia.Msg\u001b[1m)\u001b[22m\u001b[22m at \u001b[1mC:\\Users\\Michael\\.julia\\v0.6\\IJulia\\src\\execute_request.jl:158\u001b[22m\u001b[22m\n",
      " [10] \u001b[1m(::Compat.#inner#17{Array{Any,1},IJulia.#execute_request,Tuple{ZMQ.Socket,IJulia.Msg}})\u001b[22m\u001b[22m\u001b[1m(\u001b[22m\u001b[22m\u001b[1m)\u001b[22m\u001b[22m at \u001b[1mC:\\Users\\Michael\\.julia\\v0.6\\Compat\\src\\Compat.jl:385\u001b[22m\u001b[22m\n",
      " [11] \u001b[1meventloop\u001b[22m\u001b[22m\u001b[1m(\u001b[22m\u001b[22m::ZMQ.Socket\u001b[1m)\u001b[22m\u001b[22m at \u001b[1mC:\\Users\\Michael\\.julia\\v0.6\\IJulia\\src\\eventloop.jl:8\u001b[22m\u001b[22m\n",
      " [12] \u001b[1m(::IJulia.##14#17)\u001b[22m\u001b[22m\u001b[1m(\u001b[22m\u001b[22m\u001b[1m)\u001b[22m\u001b[22m at \u001b[1m.\\task.jl:335\u001b[22m\u001b[22m\n",
      "while loading In[26], in expression starting on line 8\n",
      "\u001b[1m\u001b[33mWARNING: \u001b[39m\u001b[22m\u001b[33mArray{T}(::Type{T}, m::Int, n::Int) is deprecated, use Array{T}(m, n) instead.\u001b[39m\n",
      "Stacktrace:\n",
      " [1] \u001b[1mdepwarn\u001b[22m\u001b[22m\u001b[1m(\u001b[22m\u001b[22m::String, ::Symbol\u001b[1m)\u001b[22m\u001b[22m at \u001b[1m.\\deprecated.jl:70\u001b[22m\u001b[22m\n",
      " [2] \u001b[1mArray\u001b[22m\u001b[22m\u001b[1m(\u001b[22m\u001b[22m::Type{Int64}, ::Int64, ::Int64\u001b[1m)\u001b[22m\u001b[22m at \u001b[1m.\\deprecated.jl:57\u001b[22m\u001b[22m\n",
      " [3] \u001b[1mMultiPoly.PolyUnion\u001b[22m\u001b[22m\u001b[1m(\u001b[22m\u001b[22m::Array{MultiPoly.MPoly{Float64},1}\u001b[1m)\u001b[22m\u001b[22m at \u001b[1mC:\\Users\\Michael\\.julia\\v0.6\\MultiPoly\\src\\polyunion.jl:9\u001b[22m\u001b[22m\n",
      " [4] \u001b[1m*\u001b[22m\u001b[22m\u001b[1m(\u001b[22m\u001b[22m::MultiPoly.MPoly{Float64}, ::MultiPoly.MPoly{Float64}\u001b[1m)\u001b[22m\u001b[22m at \u001b[1mC:\\Users\\Michael\\.julia\\v0.6\\MultiPoly\\src\\mpolyarithmetic.jl:63\u001b[22m\u001b[22m\n",
      " [5] \u001b[1m^\u001b[22m\u001b[22m\u001b[1m(\u001b[22m\u001b[22m::MultiPoly.MPoly{Float64}, ::Int64\u001b[1m)\u001b[22m\u001b[22m at \u001b[1mC:\\Users\\Michael\\.julia\\v0.6\\MultiPoly\\src\\mpolyarithmetic.jl:92\u001b[22m\u001b[22m (repeats 2 times)\n",
      " [6] \u001b[1mliteral_pow\u001b[22m\u001b[22m\u001b[1m(\u001b[22m\u001b[22m::Base.#^, ::MultiPoly.MPoly{Float64}, ::Type{Val{3}}\u001b[1m)\u001b[22m\u001b[22m at \u001b[1m.\\intfuncs.jl:205\u001b[22m\u001b[22m\n",
      " [7] \u001b[1minclude_string\u001b[22m\u001b[22m\u001b[1m(\u001b[22m\u001b[22m::String, ::String\u001b[1m)\u001b[22m\u001b[22m at \u001b[1m.\\loading.jl:515\u001b[22m\u001b[22m\n",
      " [8] \u001b[1minclude_string\u001b[22m\u001b[22m\u001b[1m(\u001b[22m\u001b[22m::Module, ::String, ::String\u001b[1m)\u001b[22m\u001b[22m at \u001b[1mC:\\Users\\Michael\\.julia\\v0.6\\Compat\\src\\Compat.jl:71\u001b[22m\u001b[22m\n",
      " [9] \u001b[1mexecute_request\u001b[22m\u001b[22m\u001b[1m(\u001b[22m\u001b[22m::ZMQ.Socket, ::IJulia.Msg\u001b[1m)\u001b[22m\u001b[22m at \u001b[1mC:\\Users\\Michael\\.julia\\v0.6\\IJulia\\src\\execute_request.jl:158\u001b[22m\u001b[22m\n",
      " [10] \u001b[1m(::Compat.#inner#17{Array{Any,1},IJulia.#execute_request,Tuple{ZMQ.Socket,IJulia.Msg}})\u001b[22m\u001b[22m\u001b[1m(\u001b[22m\u001b[22m\u001b[1m)\u001b[22m\u001b[22m at \u001b[1mC:\\Users\\Michael\\.julia\\v0.6\\Compat\\src\\Compat.jl:385\u001b[22m\u001b[22m\n",
      " [11] \u001b[1meventloop\u001b[22m\u001b[22m\u001b[1m(\u001b[22m\u001b[22m::ZMQ.Socket\u001b[1m)\u001b[22m\u001b[22m at \u001b[1mC:\\Users\\Michael\\.julia\\v0.6\\IJulia\\src\\eventloop.jl:8\u001b[22m\u001b[22m\n",
      " [12] \u001b[1m(::IJulia.##14#17)\u001b[22m\u001b[22m\u001b[1m(\u001b[22m\u001b[22m\u001b[1m)\u001b[22m\u001b[22m at \u001b[1m.\\task.jl:335\u001b[22m\u001b[22m\n",
      "while loading In[26], in expression starting on line 9\n",
      "\u001b[1m\u001b[33mWARNING: \u001b[39m\u001b[22m\u001b[33mArray{T}(::Type{T}, m::Int, n::Int) is deprecated, use Array{T}(m, n) instead.\u001b[39m\n",
      "Stacktrace:\n",
      " [1] \u001b[1mdepwarn\u001b[22m\u001b[22m\u001b[1m(\u001b[22m\u001b[22m::String, ::Symbol\u001b[1m)\u001b[22m\u001b[22m at \u001b[1m.\\deprecated.jl:70\u001b[22m\u001b[22m\n",
      " [2] \u001b[1mArray\u001b[22m\u001b[22m\u001b[1m(\u001b[22m\u001b[22m::Type{Int64}, ::Int64, ::Int64\u001b[1m)\u001b[22m\u001b[22m at \u001b[1m.\\deprecated.jl:57\u001b[22m\u001b[22m\n",
      " [3] \u001b[1mMultiPoly.PolyUnion\u001b[22m\u001b[22m\u001b[1m(\u001b[22m\u001b[22m::Array{MultiPoly.MPoly{JuMP.GenericAffExpr{Float64,JuMP.Variable}},1}\u001b[1m)\u001b[22m\u001b[22m at \u001b[1mC:\\Users\\Michael\\.julia\\v0.6\\MultiPoly\\src\\polyunion.jl:9\u001b[22m\u001b[22m\n",
      " [4] \u001b[1m*\u001b[22m\u001b[22m\u001b[1m(\u001b[22m\u001b[22m::MultiPoly.MPoly{JuMP.GenericAffExpr{Float64,JuMP.Variable}}, ::MultiPoly.MPoly{Float64}\u001b[1m)\u001b[22m\u001b[22m at \u001b[1mC:\\Users\\Michael\\.julia\\v0.6\\MultiPoly\\src\\mpolyarithmetic.jl:63\u001b[22m\u001b[22m\n",
      " [5] \u001b[1minclude_string\u001b[22m\u001b[22m\u001b[1m(\u001b[22m\u001b[22m::String, ::String\u001b[1m)\u001b[22m\u001b[22m at \u001b[1m.\\loading.jl:515\u001b[22m\u001b[22m\n",
      " [6] \u001b[1minclude_string\u001b[22m\u001b[22m\u001b[1m(\u001b[22m\u001b[22m::Module, ::String, ::String\u001b[1m)\u001b[22m\u001b[22m at \u001b[1mC:\\Users\\Michael\\.julia\\v0.6\\Compat\\src\\Compat.jl:71\u001b[22m\u001b[22m\n",
      " [7] \u001b[1mexecute_request\u001b[22m\u001b[22m\u001b[1m(\u001b[22m\u001b[22m::ZMQ.Socket, ::IJulia.Msg\u001b[1m)\u001b[22m\u001b[22m at \u001b[1mC:\\Users\\Michael\\.julia\\v0.6\\IJulia\\src\\execute_request.jl:158\u001b[22m\u001b[22m\n",
      " [8] \u001b[1m(::Compat.#inner#17{Array{Any,1},IJulia.#execute_request,Tuple{ZMQ.Socket,IJulia.Msg}})\u001b[22m\u001b[22m\u001b[1m(\u001b[22m\u001b[22m\u001b[1m)\u001b[22m\u001b[22m at \u001b[1mC:\\Users\\Michael\\.julia\\v0.6\\Compat\\src\\Compat.jl:385\u001b[22m\u001b[22m\n",
      " [9] \u001b[1meventloop\u001b[22m\u001b[22m\u001b[1m(\u001b[22m\u001b[22m::ZMQ.Socket\u001b[1m)\u001b[22m\u001b[22m at \u001b[1mC:\\Users\\Michael\\.julia\\v0.6\\IJulia\\src\\eventloop.jl:8\u001b[22m\u001b[22m\n",
      " [10] \u001b[1m(::IJulia.##14#17)\u001b[22m\u001b[22m\u001b[1m(\u001b[22m\u001b[22m\u001b[1m)\u001b[22m\u001b[22m at \u001b[1m.\\task.jl:335\u001b[22m\u001b[22m\n",
      "while loading In[26], in expression starting on line 13\n"
     ]
    },
    {
     "data": {
      "text/latex": [
       "$$ \\begin{alignat*}{1}\\max\\quad & γ\\\\\n",
       "\\text{Subject to} \\quad & -γ - coeff_{1} - Q_{1,1} = -1\\\\\n",
       " & -4 coeff_{1} - coeff_{2} - Q_{1,2} - Q_{2,1} = 0\\\\\n",
       " & -4 coeff_{2} - Q_{1,3} - Q_{2,2} - Q_{3,1} = -3\\\\\n",
       " & -coeff_{3} - Q_{1,4} - Q_{4,1} = 0\\\\\n",
       " & -4 coeff_{3} - Q_{1,5} - Q_{2,4} - Q_{4,2} - Q_{5,1} = 0\\\\\n",
       " & -Q_{1,6} - Q_{4,4} - Q_{6,1} = 0\\\\\n",
       " & -Q_{2,3} - Q_{3,2} = 0\\\\\n",
       " & -Q_{2,5} - Q_{3,4} - Q_{4,3} - Q_{5,2} = 0\\\\\n",
       " & -Q_{2,6} - Q_{4,5} - Q_{5,4} - Q_{6,2} = 0\\\\\n",
       " & -Q_{3,3} = 0\\\\\n",
       " & -Q_{3,5} - Q_{5,3} = 0\\\\\n",
       " & -Q_{3,6} - Q_{5,5} - Q_{6,3} = 0\\\\\n",
       " & coeff_{1} - Q_{4,6} - Q_{6,4} = 0\\\\\n",
       " & coeff_{2} - Q_{5,6} - Q_{6,5} = 0\\\\\n",
       " & coeff_{3} - Q_{6,6} = -1\\\\\n",
       " & coeff_{i} \\quad\\forall i \\in \\{1,2,3\\}\\\\\n",
       " & Q_{i,j} \\quad\\forall i \\in \\{1,2,\\dots,5,6\\}, j \\in \\{1,2,\\dots,5,6\\}\\\\\n",
       " & γ\\\\\n",
       "\\end{alignat*}\n",
       " $$"
      ],
      "text/plain": [
       "Maximization problem with:\n",
       " * 15 linear constraints\n",
       " * 1 semidefinite constraint\n",
       " * 40 variables\n",
       "Solver is Mosek"
      ]
     },
     "execution_count": 26,
     "metadata": {},
     "output_type": "execute_result"
    }
   ],
   "source": [
    "m = Model(solver=MosekSolver())\n",
    "\n",
    "@variable(m, γ)\n",
    "\n",
    "x = generator(:x)\n",
    "y = generator(:y)\n",
    "v = defPolynomial(m, [:x, :y], 1)\n",
    "p = x^4 + 3y^2 + 1\n",
    "f = x^3 - 4y - 1\n",
    "\n",
    "@objective(m, Max, γ)\n",
    "\n",
    "addSoSConstraint(m, p - γ + v*f)\n",
    "\n",
    "m"
   ]
  },
  {
   "cell_type": "code",
   "execution_count": 27,
   "metadata": {},
   "outputs": [
    {
     "name": "stdout",
     "output_type": "stream",
     "text": [
      "Problem\n",
      "  Name                   :                 \n",
      "  Objective sense        : min             \n",
      "  Type                   : CONIC (conic optimization problem)\n",
      "  Constraints            : 51              \n",
      "  Cones                  : 0               \n",
      "  Scalar variables       : 40              \n",
      "  Matrix variables       : 1               \n",
      "  Integer variables      : 0               \n",
      "\n",
      "Optimizer started.\n",
      "Conic interior-point optimizer started.\n",
      "Presolve started.\n",
      "Linear dependency checker started.\n",
      "Linear dependency checker terminated.\n",
      "Eliminator started.\n",
      "Freed constraints in eliminator : 29\n",
      "Eliminator terminated.\n",
      "Eliminator - tries                  : 1                 time                   : 0.00            \n",
      "Lin. dep.  - tries                  : 1                 time                   : 0.00            \n",
      "Lin. dep.  - number                 : 0               \n",
      "Presolve terminated. Time: 0.00    \n",
      "Optimizer  - threads                : 4               \n",
      "Optimizer  - solved problem         : the primal      \n",
      "Optimizer  - Constraints            : 21\n",
      "Optimizer  - Cones                  : 1\n",
      "Optimizer  - Scalar variables       : 11                conic                  : 11              \n",
      "Optimizer  - Semi-definite variables: 1                 scalarized             : 21              \n",
      "Factor     - setup time             : 0.00              dense det. time        : 0.00            \n",
      "Factor     - ML order time          : 0.00              GP order time          : 0.00            \n",
      "Factor     - nonzeros before factor : 231               after factor           : 231             \n",
      "Factor     - dense dim.             : 0                 flops                  : 5.47e+003       \n",
      "ITE PFEAS    DFEAS    GFEAS    PRSTATUS   POBJ              DOBJ              MU       TIME  \n",
      "0   1.0e+000 1.0e+000 1.0e+000 0.00e+000  0.000000000e+000  0.000000000e+000  1.0e+000 0.00  \n",
      "1   2.8e-001 2.8e-001 5.0e-001 7.38e-001  -6.338332582e-001 -6.343015374e-001 2.8e-001 0.00  \n",
      "2   3.4e-002 3.4e-002 2.0e-001 8.61e-001  -1.114417766e+000 -1.124382514e+000 3.4e-002 0.00  \n",
      "3   6.8e-003 6.8e-003 7.0e-002 8.34e-001  -1.162558079e+000 -1.162045309e+000 6.8e-003 0.00  \n",
      "4   1.9e-003 1.9e-003 3.5e-002 8.47e-001  -1.180408729e+000 -1.180090933e+000 1.9e-003 0.00  \n",
      "5   6.7e-004 6.7e-004 1.8e-002 8.27e-001  -1.182812063e+000 -1.182443173e+000 6.7e-004 0.00  \n",
      "6   1.8e-004 1.8e-004 9.8e-003 9.80e-001  -1.185279740e+000 -1.185214073e+000 1.8e-004 0.00  \n",
      "7   3.2e-005 3.2e-005 3.8e-003 9.62e-001  -1.185429570e+000 -1.185407931e+000 3.2e-005 0.00  \n",
      "8   6.4e-006 6.4e-006 1.6e-003 9.46e-001  -1.185485244e+000 -1.185479842e+000 6.4e-006 0.00  \n",
      "9   1.4e-006 1.4e-006 7.6e-004 1.01e+000  -1.185498082e+000 -1.185497043e+000 1.4e-006 0.00  \n",
      "10  5.1e-007 5.1e-007 4.2e-004 8.72e-001  -1.185499817e+000 -1.185499191e+000 5.1e-007 0.00  \n",
      "11  9.0e-008 9.0e-008 2.1e-004 1.12e+000  -1.185501206e+000 -1.185501170e+000 9.0e-008 0.00  \n",
      "12  2.7e-008 2.5e-008 9.5e-005 9.40e-001  -1.185501317e+000 -1.185501290e+000 2.5e-008 0.00  \n",
      "13  5.3e-009 5.0e-009 4.4e-005 1.03e+000  -1.185501375e+000 -1.185501371e+000 5.1e-009 0.00  \n",
      "Interior-point optimizer terminated. Time: 0.00. \n",
      "\n",
      "Optimizer terminated. Time: 0.00    \n",
      "\n",
      "Interior-point solution summary\n",
      "  Problem status  : PRIMAL_AND_DUAL_FEASIBLE\n",
      "  Solution status : OPTIMAL\n",
      "  Primal.  obj: -1.1855013754e+000  nrm: 3e+000   Viol.  con: 2e-008   var: 0e+000   barvar: 0e+000 \n",
      "  Dual.    obj: -1.1855013711e+000  nrm: 3e+000   Viol.  con: 0e+000   var: 1e-008   barvar: 8e-009 \n"
     ]
    },
    {
     "data": {
      "text/plain": [
       ":Optimal"
      ]
     },
     "execution_count": 27,
     "metadata": {},
     "output_type": "execute_result"
    }
   ],
   "source": [
    "solve(m)"
   ]
  },
  {
   "cell_type": "code",
   "execution_count": 28,
   "metadata": {},
   "outputs": [
    {
     "data": {
      "text/html": [
       "1.1855013753868198"
      ],
      "text/plain": [
       "1.1855013753868198"
      ]
     },
     "execution_count": 28,
     "metadata": {},
     "output_type": "execute_result"
    }
   ],
   "source": [
    "getvalue(γ)"
   ]
  }
 ],
 "metadata": {
  "kernelspec": {
   "display_name": "Julia 0.6.2",
   "language": "julia",
   "name": "julia-0.6"
  },
  "language_info": {
   "file_extension": ".jl",
   "mimetype": "application/julia",
   "name": "julia",
   "version": "0.6.0"
  }
 },
 "nbformat": 4,
 "nbformat_minor": 2
}
