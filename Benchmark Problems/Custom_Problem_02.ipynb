{
 "cells": [
  {
   "cell_type": "code",
   "execution_count": 22,
   "metadata": {
    "collapsed": true
   },
   "outputs": [],
   "source": [
    "# Import packages.\n",
    "using JuMP, SCS, Mayday, Mosek"
   ]
  },
  {
   "cell_type": "code",
   "execution_count": 23,
   "metadata": {},
   "outputs": [
    {
     "name": "stderr",
     "output_type": "stream",
     "text": [
      "\u001b[1m\u001b[33mWARNING: \u001b[39m\u001b[22m\u001b[33mArray{T}(::Type{T}, m::Int, n::Int) is deprecated, use Array{T}(m, n) instead.\u001b[39m\n",
      "Stacktrace:\n",
      " [1] \u001b[1mdepwarn\u001b[22m\u001b[22m\u001b[1m(\u001b[22m\u001b[22m::String, ::Symbol\u001b[1m)\u001b[22m\u001b[22m at \u001b[1m.\\deprecated.jl:70\u001b[22m\u001b[22m\n",
      " [2] \u001b[1mArray\u001b[22m\u001b[22m\u001b[1m(\u001b[22m\u001b[22m::Type{Int64}, ::Int64, ::Int64\u001b[1m)\u001b[22m\u001b[22m at \u001b[1m.\\deprecated.jl:57\u001b[22m\u001b[22m\n",
      " [3] \u001b[1mMultiPoly.PolyUnion\u001b[22m\u001b[22m\u001b[1m(\u001b[22m\u001b[22m::Array{MultiPoly.MPoly{Float64},1}\u001b[1m)\u001b[22m\u001b[22m at \u001b[1mC:\\Users\\Michael\\.julia\\v0.6\\MultiPoly\\src\\polyunion.jl:9\u001b[22m\u001b[22m\n",
      " [4] \u001b[1m*\u001b[22m\u001b[22m\u001b[1m(\u001b[22m\u001b[22m::MultiPoly.MPoly{Float64}, ::MultiPoly.MPoly{Float64}\u001b[1m)\u001b[22m\u001b[22m at \u001b[1mC:\\Users\\Michael\\.julia\\v0.6\\MultiPoly\\src\\mpolyarithmetic.jl:63\u001b[22m\u001b[22m\n",
      " [5] \u001b[1m_mapreduce\u001b[22m\u001b[22m\u001b[1m(\u001b[22m\u001b[22m::Base.#identity, ::Base.#*, ::IndexLinear, ::Array{MultiPoly.MPoly{Float64},1}\u001b[1m)\u001b[22m\u001b[22m at \u001b[1m.\\reduce.jl:273\u001b[22m\u001b[22m\n",
      " [6] \u001b[1m_collect\u001b[22m\u001b[22m\u001b[1m(\u001b[22m\u001b[22m::Array{Array{Int64,1},1}, ::Base.Generator{Array{Array{Int64,1},1},Mayday.##1#3{Array{Symbol,1},Mayday.#monomial}}, ::Base.EltypeUnknown, ::Base.HasShape\u001b[1m)\u001b[22m\u001b[22m at \u001b[1m.\\array.jl:454\u001b[22m\u001b[22m\n",
      " [7] \u001b[1mdefPolynomial\u001b[22m\u001b[22m\u001b[1m(\u001b[22m\u001b[22m::JuMP.Model, ::Array{Symbol,1}, ::Int64\u001b[1m)\u001b[22m\u001b[22m at \u001b[1mC:\\Users\\Michael\\.julia\\v0.6\\Mayday\\src\\Mayday.jl:64\u001b[22m\u001b[22m\n",
      " [8] \u001b[1minclude_string\u001b[22m\u001b[22m\u001b[1m(\u001b[22m\u001b[22m::String, ::String\u001b[1m)\u001b[22m\u001b[22m at \u001b[1m.\\loading.jl:515\u001b[22m\u001b[22m\n",
      " [9] \u001b[1minclude_string\u001b[22m\u001b[22m\u001b[1m(\u001b[22m\u001b[22m::Module, ::String, ::String\u001b[1m)\u001b[22m\u001b[22m at \u001b[1mC:\\Users\\Michael\\.julia\\v0.6\\Compat\\src\\Compat.jl:71\u001b[22m\u001b[22m\n",
      " [10] \u001b[1mexecute_request\u001b[22m\u001b[22m\u001b[1m(\u001b[22m\u001b[22m::ZMQ.Socket, ::IJulia.Msg\u001b[1m)\u001b[22m\u001b[22m at \u001b[1mC:\\Users\\Michael\\.julia\\v0.6\\IJulia\\src\\execute_request.jl:158\u001b[22m\u001b[22m\n",
      " [11] \u001b[1m(::Compat.#inner#17{Array{Any,1},IJulia.#execute_request,Tuple{ZMQ.Socket,IJulia.Msg}})\u001b[22m\u001b[22m\u001b[1m(\u001b[22m\u001b[22m\u001b[1m)\u001b[22m\u001b[22m at \u001b[1mC:\\Users\\Michael\\.julia\\v0.6\\Compat\\src\\Compat.jl:385\u001b[22m\u001b[22m\n",
      " [12] \u001b[1meventloop\u001b[22m\u001b[22m\u001b[1m(\u001b[22m\u001b[22m::ZMQ.Socket\u001b[1m)\u001b[22m\u001b[22m at \u001b[1mC:\\Users\\Michael\\.julia\\v0.6\\IJulia\\src\\eventloop.jl:8\u001b[22m\u001b[22m\n",
      " [13] \u001b[1m(::IJulia.##14#17)\u001b[22m\u001b[22m\u001b[1m(\u001b[22m\u001b[22m\u001b[1m)\u001b[22m\u001b[22m at \u001b[1m.\\task.jl:335\u001b[22m\u001b[22m\n",
      "while loading In[23], in expression starting on line 8\n",
      "\u001b[1m\u001b[33mWARNING: \u001b[39m\u001b[22m\u001b[33mArray{T}(::Type{T}, m::Int, n::Int) is deprecated, use Array{T}(m, n) instead.\u001b[39m\n",
      "Stacktrace:\n",
      " [1] \u001b[1mdepwarn\u001b[22m\u001b[22m\u001b[1m(\u001b[22m\u001b[22m::String, ::Symbol\u001b[1m)\u001b[22m\u001b[22m at \u001b[1m.\\deprecated.jl:70\u001b[22m\u001b[22m\n",
      " [2] \u001b[1mArray\u001b[22m\u001b[22m\u001b[1m(\u001b[22m\u001b[22m::Type{Int64}, ::Int64, ::Int64\u001b[1m)\u001b[22m\u001b[22m at \u001b[1m.\\deprecated.jl:57\u001b[22m\u001b[22m\n",
      " [3] \u001b[1mMultiPoly.PolyUnion\u001b[22m\u001b[22m\u001b[1m(\u001b[22m\u001b[22m::Array{MultiPoly.MPoly{Float64},1}\u001b[1m)\u001b[22m\u001b[22m at \u001b[1mC:\\Users\\Michael\\.julia\\v0.6\\MultiPoly\\src\\polyunion.jl:9\u001b[22m\u001b[22m\n",
      " [4] \u001b[1m*\u001b[22m\u001b[22m\u001b[1m(\u001b[22m\u001b[22m::MultiPoly.MPoly{Float64}, ::MultiPoly.MPoly{Float64}\u001b[1m)\u001b[22m\u001b[22m at \u001b[1mC:\\Users\\Michael\\.julia\\v0.6\\MultiPoly\\src\\mpolyarithmetic.jl:63\u001b[22m\u001b[22m\n",
      " [5] \u001b[1m^\u001b[22m\u001b[22m\u001b[1m(\u001b[22m\u001b[22m::MultiPoly.MPoly{Float64}, ::Int64\u001b[1m)\u001b[22m\u001b[22m at \u001b[1mC:\\Users\\Michael\\.julia\\v0.6\\MultiPoly\\src\\mpolyarithmetic.jl:92\u001b[22m\u001b[22m (repeats 2 times)\n",
      " [6] \u001b[1mliteral_pow\u001b[22m\u001b[22m\u001b[1m(\u001b[22m\u001b[22m::Base.#^, ::MultiPoly.MPoly{Float64}, ::Type{Val{4}}\u001b[1m)\u001b[22m\u001b[22m at \u001b[1m.\\intfuncs.jl:205\u001b[22m\u001b[22m\n",
      " [7] \u001b[1minclude_string\u001b[22m\u001b[22m\u001b[1m(\u001b[22m\u001b[22m::String, ::String\u001b[1m)\u001b[22m\u001b[22m at \u001b[1m.\\loading.jl:515\u001b[22m\u001b[22m\n",
      " [8] \u001b[1minclude_string\u001b[22m\u001b[22m\u001b[1m(\u001b[22m\u001b[22m::Module, ::String, ::String\u001b[1m)\u001b[22m\u001b[22m at \u001b[1mC:\\Users\\Michael\\.julia\\v0.6\\Compat\\src\\Compat.jl:71\u001b[22m\u001b[22m\n",
      " [9] \u001b[1mexecute_request\u001b[22m\u001b[22m\u001b[1m(\u001b[22m\u001b[22m::ZMQ.Socket, ::IJulia.Msg\u001b[1m)\u001b[22m\u001b[22m at \u001b[1mC:\\Users\\Michael\\.julia\\v0.6\\IJulia\\src\\execute_request.jl:158\u001b[22m\u001b[22m\n",
      " [10] \u001b[1m(::Compat.#inner#17{Array{Any,1},IJulia.#execute_request,Tuple{ZMQ.Socket,IJulia.Msg}})\u001b[22m\u001b[22m\u001b[1m(\u001b[22m\u001b[22m\u001b[1m)\u001b[22m\u001b[22m at \u001b[1mC:\\Users\\Michael\\.julia\\v0.6\\Compat\\src\\Compat.jl:385\u001b[22m\u001b[22m\n",
      " [11] \u001b[1meventloop\u001b[22m\u001b[22m\u001b[1m(\u001b[22m\u001b[22m::ZMQ.Socket\u001b[1m)\u001b[22m\u001b[22m at \u001b[1mC:\\Users\\Michael\\.julia\\v0.6\\IJulia\\src\\eventloop.jl:8\u001b[22m\u001b[22m\n",
      " [12] \u001b[1m(::IJulia.##14#17)\u001b[22m\u001b[22m\u001b[1m(\u001b[22m\u001b[22m\u001b[1m)\u001b[22m\u001b[22m at \u001b[1m.\\task.jl:335\u001b[22m\u001b[22m\n",
      "while loading In[23], in expression starting on line 9\n",
      "\u001b[1m\u001b[33mWARNING: \u001b[39m\u001b[22m\u001b[33mArray{T}(::Type{T}, m::Int, n::Int) is deprecated, use Array{T}(m, n) instead.\u001b[39m\n",
      "Stacktrace:\n",
      " [1] \u001b[1mdepwarn\u001b[22m\u001b[22m\u001b[1m(\u001b[22m\u001b[22m::String, ::Symbol\u001b[1m)\u001b[22m\u001b[22m at \u001b[1m.\\deprecated.jl:70\u001b[22m\u001b[22m\n",
      " [2] \u001b[1mArray\u001b[22m\u001b[22m\u001b[1m(\u001b[22m\u001b[22m::Type{Int64}, ::Int64, ::Int64\u001b[1m)\u001b[22m\u001b[22m at \u001b[1m.\\deprecated.jl:57\u001b[22m\u001b[22m\n",
      " [3] \u001b[1mMultiPoly.PolyUnion\u001b[22m\u001b[22m\u001b[1m(\u001b[22m\u001b[22m::Array{MultiPoly.MPoly{Float64},1}\u001b[1m)\u001b[22m\u001b[22m at \u001b[1mC:\\Users\\Michael\\.julia\\v0.6\\MultiPoly\\src\\polyunion.jl:9\u001b[22m\u001b[22m\n",
      " [4] \u001b[1m*\u001b[22m\u001b[22m\u001b[1m(\u001b[22m\u001b[22m::MultiPoly.MPoly{Float64}, ::MultiPoly.MPoly{Float64}\u001b[1m)\u001b[22m\u001b[22m at \u001b[1mC:\\Users\\Michael\\.julia\\v0.6\\MultiPoly\\src\\mpolyarithmetic.jl:63\u001b[22m\u001b[22m\n",
      " [5] \u001b[1m^\u001b[22m\u001b[22m\u001b[1m(\u001b[22m\u001b[22m::MultiPoly.MPoly{Float64}, ::Int64\u001b[1m)\u001b[22m\u001b[22m at \u001b[1mC:\\Users\\Michael\\.julia\\v0.6\\MultiPoly\\src\\mpolyarithmetic.jl:92\u001b[22m\u001b[22m (repeats 2 times)\n",
      " [6] \u001b[1mliteral_pow\u001b[22m\u001b[22m\u001b[1m(\u001b[22m\u001b[22m::Base.#^, ::MultiPoly.MPoly{Float64}, ::Type{Val{3}}\u001b[1m)\u001b[22m\u001b[22m at \u001b[1m.\\intfuncs.jl:205\u001b[22m\u001b[22m\n",
      " [7] \u001b[1minclude_string\u001b[22m\u001b[22m\u001b[1m(\u001b[22m\u001b[22m::String, ::String\u001b[1m)\u001b[22m\u001b[22m at \u001b[1m.\\loading.jl:515\u001b[22m\u001b[22m\n",
      " [8] \u001b[1minclude_string\u001b[22m\u001b[22m\u001b[1m(\u001b[22m\u001b[22m::Module, ::String, ::String\u001b[1m)\u001b[22m\u001b[22m at \u001b[1mC:\\Users\\Michael\\.julia\\v0.6\\Compat\\src\\Compat.jl:71\u001b[22m\u001b[22m\n",
      " [9] \u001b[1mexecute_request\u001b[22m\u001b[22m\u001b[1m(\u001b[22m\u001b[22m::ZMQ.Socket, ::IJulia.Msg\u001b[1m)\u001b[22m\u001b[22m at \u001b[1mC:\\Users\\Michael\\.julia\\v0.6\\IJulia\\src\\execute_request.jl:158\u001b[22m\u001b[22m\n",
      " [10] \u001b[1m(::Compat.#inner#17{Array{Any,1},IJulia.#execute_request,Tuple{ZMQ.Socket,IJulia.Msg}})\u001b[22m\u001b[22m\u001b[1m(\u001b[22m\u001b[22m\u001b[1m)\u001b[22m\u001b[22m at \u001b[1mC:\\Users\\Michael\\.julia\\v0.6\\Compat\\src\\Compat.jl:385\u001b[22m\u001b[22m\n",
      " [11] \u001b[1meventloop\u001b[22m\u001b[22m\u001b[1m(\u001b[22m\u001b[22m::ZMQ.Socket\u001b[1m)\u001b[22m\u001b[22m at \u001b[1mC:\\Users\\Michael\\.julia\\v0.6\\IJulia\\src\\eventloop.jl:8\u001b[22m\u001b[22m\n",
      " [12] \u001b[1m(::IJulia.##14#17)\u001b[22m\u001b[22m\u001b[1m(\u001b[22m\u001b[22m\u001b[1m)\u001b[22m\u001b[22m at \u001b[1m.\\task.jl:335\u001b[22m\u001b[22m\n",
      "while loading In[23], in expression starting on line 10\n",
      "\u001b[1m\u001b[33mWARNING: \u001b[39m\u001b[22m\u001b[33mArray{T}(::Type{T}, m::Int, n::Int) is deprecated, use Array{T}(m, n) instead.\u001b[39m\n",
      "Stacktrace:\n",
      " [1] \u001b[1mdepwarn\u001b[22m\u001b[22m\u001b[1m(\u001b[22m\u001b[22m::String, ::Symbol\u001b[1m)\u001b[22m\u001b[22m at \u001b[1m.\\deprecated.jl:70\u001b[22m\u001b[22m\n",
      " [2] \u001b[1mArray\u001b[22m\u001b[22m\u001b[1m(\u001b[22m\u001b[22m::Type{Int64}, ::Int64, ::Int64\u001b[1m)\u001b[22m\u001b[22m at \u001b[1m.\\deprecated.jl:57\u001b[22m\u001b[22m\n",
      " [3] \u001b[1mMultiPoly.PolyUnion\u001b[22m\u001b[22m\u001b[1m(\u001b[22m\u001b[22m::Array{MultiPoly.MPoly{JuMP.GenericAffExpr{Float64,JuMP.Variable}},1}\u001b[1m)\u001b[22m\u001b[22m at \u001b[1mC:\\Users\\Michael\\.julia\\v0.6\\MultiPoly\\src\\polyunion.jl:9\u001b[22m\u001b[22m\n",
      " [4] \u001b[1m*\u001b[22m\u001b[22m\u001b[1m(\u001b[22m\u001b[22m::MultiPoly.MPoly{JuMP.GenericAffExpr{Float64,JuMP.Variable}}, ::MultiPoly.MPoly{Float64}\u001b[1m)\u001b[22m\u001b[22m at \u001b[1mC:\\Users\\Michael\\.julia\\v0.6\\MultiPoly\\src\\mpolyarithmetic.jl:63\u001b[22m\u001b[22m\n",
      " [5] \u001b[1minclude_string\u001b[22m\u001b[22m\u001b[1m(\u001b[22m\u001b[22m::String, ::String\u001b[1m)\u001b[22m\u001b[22m at \u001b[1m.\\loading.jl:515\u001b[22m\u001b[22m\n",
      " [6] \u001b[1minclude_string\u001b[22m\u001b[22m\u001b[1m(\u001b[22m\u001b[22m::Module, ::String, ::String\u001b[1m)\u001b[22m\u001b[22m at \u001b[1mC:\\Users\\Michael\\.julia\\v0.6\\Compat\\src\\Compat.jl:71\u001b[22m\u001b[22m\n",
      " [7] \u001b[1mexecute_request\u001b[22m\u001b[22m\u001b[1m(\u001b[22m\u001b[22m::ZMQ.Socket, ::IJulia.Msg\u001b[1m)\u001b[22m\u001b[22m at \u001b[1mC:\\Users\\Michael\\.julia\\v0.6\\IJulia\\src\\execute_request.jl:158\u001b[22m\u001b[22m\n",
      " [8] \u001b[1m(::Compat.#inner#17{Array{Any,1},IJulia.#execute_request,Tuple{ZMQ.Socket,IJulia.Msg}})\u001b[22m\u001b[22m\u001b[1m(\u001b[22m\u001b[22m\u001b[1m)\u001b[22m\u001b[22m at \u001b[1mC:\\Users\\Michael\\.julia\\v0.6\\Compat\\src\\Compat.jl:385\u001b[22m\u001b[22m\n",
      " [9] \u001b[1meventloop\u001b[22m\u001b[22m\u001b[1m(\u001b[22m\u001b[22m::ZMQ.Socket\u001b[1m)\u001b[22m\u001b[22m at \u001b[1mC:\\Users\\Michael\\.julia\\v0.6\\IJulia\\src\\eventloop.jl:8\u001b[22m\u001b[22m\n",
      " [10] \u001b[1m(::IJulia.##14#17)\u001b[22m\u001b[22m\u001b[1m(\u001b[22m\u001b[22m\u001b[1m)\u001b[22m\u001b[22m at \u001b[1m.\\task.jl:335\u001b[22m\u001b[22m\n",
      "while loading In[23], in expression starting on line 14\n"
     ]
    },
    {
     "data": {
      "text/latex": [
       "$$ \\begin{alignat*}{1}\\max\\quad & γ\\\\\n",
       "\\text{Subject to} \\quad & -γ - coeff_{1} - Q_{1,1} = -1\\\\\n",
       " & 10 coeff_{1} - coeff_{2} - Q_{1,2} - Q_{2,1} = 0\\\\\n",
       " & 10 coeff_{2} - Q_{1,3} - Q_{2,2} - Q_{3,1} = 0\\\\\n",
       " & -4 coeff_{1} - coeff_{3} - Q_{1,4} - Q_{4,1} = 0\\\\\n",
       " & -4 coeff_{2} + 10 coeff_{3} - Q_{1,5} - Q_{2,4} - Q_{4,2} - Q_{5,1} = 0\\\\\n",
       " & -4 coeff_{3} - Q_{1,6} - Q_{4,4} - Q_{6,1} = -3\\\\\n",
       " & -coeff_{4} - Q_{1,7} - Q_{7,1} = 0\\\\\n",
       " & 10 coeff_{4} - Q_{1,8} - Q_{2,7} - Q_{7,2} - Q_{8,1} = 0\\\\\n",
       " & -4 coeff_{4} - Q_{1,9} - Q_{4,7} - Q_{7,4} - Q_{9,1} = 0\\\\\n",
       " & -Q_{1,10} - Q_{7,7} - Q_{10,1} = 0\\\\\n",
       " & -Q_{2,3} - Q_{3,2} = 0\\\\\n",
       " & -Q_{2,5} - Q_{3,4} - Q_{4,3} - Q_{5,2} = 0\\\\\n",
       " & -Q_{2,6} - Q_{4,5} - Q_{5,4} - Q_{6,2} = 0\\\\\n",
       " & -Q_{2,8} - Q_{3,7} - Q_{7,3} - Q_{8,2} = 0\\\\\n",
       " & -Q_{2,9} - Q_{4,8} - Q_{5,7} - Q_{7,5} - Q_{8,4} - Q_{9,2} = 0\\\\\n",
       " & -Q_{2,10} - Q_{7,8} - Q_{8,7} - Q_{10,2} = 0\\\\\n",
       " & -Q_{3,3} = -2\\\\\n",
       " & -Q_{3,5} - Q_{5,3} = 0\\\\\n",
       " & -Q_{3,6} - Q_{5,5} - Q_{6,3} = 0\\\\\n",
       " & -Q_{3,8} - Q_{8,3} = 0\\\\\n",
       " & -Q_{3,9} - Q_{5,8} - Q_{8,5} - Q_{9,3} = 0\\\\\n",
       " & -Q_{3,10} - Q_{8,8} - Q_{10,3} = 0\\\\\n",
       " & -Q_{4,6} - Q_{6,4} = 0\\\\\n",
       " & -Q_{4,9} - Q_{6,7} - Q_{7,6} - Q_{9,4} = 0\\\\\n",
       " & -Q_{4,10} - Q_{7,9} - Q_{9,7} - Q_{10,4} = 0\\\\\n",
       " & -Q_{5,6} - Q_{6,5} = 0\\\\\n",
       " & -Q_{5,9} - Q_{6,8} - Q_{8,6} - Q_{9,5} = 0\\\\\n",
       " & -Q_{5,10} - Q_{8,9} - Q_{9,8} - Q_{10,5} = 0\\\\\n",
       " & -Q_{6,6} = 0\\\\\n",
       " & -Q_{6,9} - Q_{9,6} = 0\\\\\n",
       " & -Q_{6,10} - Q_{9,9} - Q_{10,6} = 0\\\\\n",
       " & coeff_{1} - Q_{7,10} - Q_{10,7} = 0\\\\\n",
       " & coeff_{2} - Q_{8,10} - Q_{10,8} = 0\\\\\n",
       " & coeff_{3} - Q_{9,10} - Q_{10,9} = 0\\\\\n",
       " & coeff_{4} - Q_{10,10} = -1\\\\\n",
       " & coeff_{i} \\quad\\forall i \\in \\{1,2,3,4\\}\\\\\n",
       " & Q_{i,j} \\quad\\forall i \\in \\{1,2,\\dots,9,10\\}, j \\in \\{1,2,\\dots,9,10\\}\\\\\n",
       " & γ\\\\\n",
       "\\end{alignat*}\n",
       " $$"
      ],
      "text/plain": [
       "Maximization problem with:\n",
       " * 35 linear constraints\n",
       " * 1 semidefinite constraint\n",
       " * 105 variables\n",
       "Solver is SCS"
      ]
     },
     "execution_count": 23,
     "metadata": {},
     "output_type": "execute_result"
    }
   ],
   "source": [
    "m = Model(solver=SCSSolver())\n",
    "\n",
    "@variable(m, γ)\n",
    "\n",
    "x = generator(:x)\n",
    "y = generator(:y)\n",
    "z = generator(:z)\n",
    "v = defPolynomial(m, [:x, :y, :z], 1)\n",
    "p = x^4 + 3y^2 + 2z^4 + 1\n",
    "f = x^3 - 4y + 10z - 1\n",
    "\n",
    "@objective(m, Max, γ)\n",
    "\n",
    "addSoSConstraint(m, p - γ + v*f)\n",
    "\n",
    "m"
   ]
  },
  {
   "cell_type": "code",
   "execution_count": 24,
   "metadata": {},
   "outputs": [
    {
     "data": {
      "text/plain": [
       ":Optimal"
      ]
     },
     "execution_count": 24,
     "metadata": {},
     "output_type": "execute_result"
    }
   ],
   "source": [
    "solve(m)"
   ]
  },
  {
   "cell_type": "code",
   "execution_count": 25,
   "metadata": {},
   "outputs": [
    {
     "name": "stdout",
     "output_type": "stream",
     "text": [
      "----------------------------------------------------------------------------\n",
      "\tSCS v1.1.5 - Splitting Conic Solver\n",
      "\t(c) Brendan O'Donoghue, Stanford University, 2012\n",
      "----------------------------------------------------------------------------\n",
      "Lin-sys: sparse-direct, nnz in A = 307\n",
      "eps = 1.00e-004, alpha = 1.80, max_iters = 20000, normalize = 1, scale = 5.00\n",
      "Variables n = 105, constraints m = 135\n",
      "Cones:\tprimal zero / dual free vars: 80\n",
      "\tsd vars: 55, sd blks: 1\n",
      "Setup time: 2.25e-004s\n",
      "----------------------------------------------------------------------------\n",
      " Iter | pri res | dua res | rel gap | pri obj | dua obj | kap/tau | time (s)\n",
      "----------------------------------------------------------------------------\n",
      "     0|1.#Je+000 1.#Je+000 -1.#Je+000 -1.#Je+000 1.#Je+000 1.#Je+000 1.64e-004 \n",
      "   100|3.42e-002 1.17e-001 9.60e-003 -9.86e-001 -9.58e-001 1.64e-017 8.60e-003 \n",
      "   200|6.29e-003 1.52e-002 1.10e-003 -1.00e+000 -1.00e+000 1.62e-017 1.69e-002 \n",
      "   300|1.41e-003 1.50e-003 1.18e-004 -1.00e+000 -1.00e+000 1.62e-017 2.47e-002 \n",
      "   400|1.80e-004 3.87e-004 7.53e-006 -1.00e+000 -1.00e+000 1.62e-017 3.24e-002 \n",
      "   500|3.20e-005 3.51e-004 3.15e-006 -1.00e+000 -1.00e+000 1.63e-017 3.93e-002 \n",
      "   600|2.82e-005 3.30e-004 4.43e-006 -1.00e+000 -1.00e+000 1.63e-017 4.80e-002 \n",
      "   700|2.64e-005 3.11e-004 3.94e-006 -1.00e+000 -1.00e+000 1.63e-017 5.65e-002 \n",
      "   800|2.49e-005 2.95e-004 3.88e-006 -1.00e+000 -1.00e+000 1.63e-017 6.42e-002 \n",
      "   900|2.35e-005 2.79e-004 3.77e-006 -1.00e+000 -1.00e+000 1.63e-017 7.20e-002 \n",
      "  1000|2.23e-005 2.65e-004 3.66e-006 -1.00e+000 -1.00e+000 1.64e-017 8.01e-002 \n",
      "  1100|2.12e-005 2.51e-004 3.56e-006 -1.00e+000 -1.00e+000 1.64e-017 8.81e-002 \n",
      "  1200|2.01e-005 2.39e-004 3.46e-006 -1.00e+000 -1.00e+000 1.64e-017 9.61e-002 \n",
      "  1300|1.92e-005 2.28e-004 3.36e-006 -1.00e+000 -1.00e+000 1.64e-017 1.03e-001 \n",
      "  1400|1.83e-005 2.17e-004 3.27e-006 -1.00e+000 -1.00e+000 1.64e-017 1.12e-001 \n",
      "  1500|1.75e-005 2.07e-004 3.17e-006 -1.00e+000 -1.00e+000 1.65e-017 1.18e-001 \n",
      "  1600|1.67e-005 1.98e-004 3.08e-006 -1.00e+000 -1.00e+000 1.65e-017 1.27e-001 \n",
      "  1700|1.60e-005 1.90e-004 3.00e-006 -1.00e+000 -1.00e+000 1.65e-017 1.35e-001 \n",
      "  1800|1.53e-005 1.82e-004 2.91e-006 -1.00e+000 -1.00e+000 1.65e-017 1.43e-001 \n",
      "  1900|1.47e-005 1.74e-004 2.83e-006 -1.00e+000 -1.00e+000 1.65e-017 1.51e-001 \n",
      "  2000|1.41e-005 1.67e-004 2.75e-006 -1.00e+000 -1.00e+000 1.65e-017 1.59e-001 \n",
      "  2100|1.36e-005 1.61e-004 2.68e-006 -1.00e+000 -1.00e+000 1.65e-017 1.69e-001 \n",
      "  2200|1.31e-005 1.55e-004 2.61e-006 -1.00e+000 -1.00e+000 1.66e-017 1.79e-001 \n",
      "  2300|1.26e-005 1.49e-004 2.54e-006 -1.00e+000 -1.00e+000 1.66e-017 1.87e-001 \n",
      "  2400|1.21e-005 1.43e-004 2.47e-006 -1.00e+000 -1.00e+000 1.66e-017 1.95e-001 \n",
      "  2500|1.17e-005 1.38e-004 2.41e-006 -1.00e+000 -1.00e+000 1.66e-017 2.03e-001 \n",
      "  2600|1.13e-005 1.33e-004 2.35e-006 -1.00e+000 -1.00e+000 1.66e-017 2.11e-001 \n",
      "  2700|1.09e-005 1.29e-004 2.28e-006 -1.00e+000 -1.00e+000 1.66e-017 2.19e-001 \n",
      "  2800|1.05e-005 1.24e-004 2.23e-006 -1.00e+000 -1.00e+000 1.66e-017 2.27e-001 \n",
      "  2900|1.02e-005 1.20e-004 2.17e-006 -1.00e+000 -1.00e+000 1.66e-017 2.34e-001 \n",
      "  3000|9.83e-006 1.16e-004 2.12e-006 -1.00e+000 -1.00e+000 1.67e-017 2.43e-001 \n",
      "  3100|9.52e-006 1.13e-004 2.07e-006 -1.00e+000 -1.00e+000 1.67e-017 2.51e-001 \n",
      "  3200|9.22e-006 1.09e-004 2.02e-006 -1.00e+000 -1.00e+000 1.67e-017 2.60e-001 \n",
      "  3300|8.94e-006 1.06e-004 1.97e-006 -1.00e+000 -1.00e+000 1.67e-017 2.69e-001 \n",
      "  3400|8.67e-006 1.03e-004 1.92e-006 -1.00e+000 -1.00e+000 1.67e-017 2.77e-001 \n",
      "  3500|8.42e-006 9.95e-005 1.88e-006 -1.00e+000 -1.00e+000 1.67e-017 2.85e-001 \n",
      "----------------------------------------------------------------------------\n",
      "Status: Solved\n",
      "Timing: Total solve time: 2.85e-001s\n",
      "\tLin-sys: nnz in L factor: 642, avg solve time: 2.63e-006s\n",
      "\tCones: avg projection time: 7.63e-005s\n",
      "----------------------------------------------------------------------------\n",
      "Error metrics:\n",
      "dist(s, K) = 2.4032e-009, dist(y, K*) = 3.3258e-009, s'y/m = 3.1051e-012\n",
      "|Ax + s - b|_2 / (1 + |b|_2) = 8.4190e-006\n",
      "|A'y + c|_2 / (1 + |c|_2) = 9.9472e-005\n",
      "|c'x + b'y| / (1 + |c'x| + |b'y|) = 1.8790e-006\n",
      "----------------------------------------------------------------------------\n",
      "c'x = -1.0002, -b'y = -1.0002\n",
      "============================================================================\n"
     ]
    },
    {
     "data": {
      "text/html": [
       "1.0001977711616608"
      ],
      "text/plain": [
       "1.0001977711616608"
      ]
     },
     "execution_count": 25,
     "metadata": {},
     "output_type": "execute_result"
    }
   ],
   "source": [
    "getvalue(γ)"
   ]
  },
  {
   "cell_type": "code",
   "execution_count": 26,
   "metadata": {},
   "outputs": [
    {
     "name": "stderr",
     "output_type": "stream",
     "text": [
      "\u001b[1m\u001b[33mWARNING: \u001b[39m\u001b[22m\u001b[33mArray{T}(::Type{T}, m::Int, n::Int) is deprecated, use Array{T}(m, n) instead.\u001b[39m\n",
      "Stacktrace:\n",
      " [1] \u001b[1mdepwarn\u001b[22m\u001b[22m\u001b[1m(\u001b[22m\u001b[22m::String, ::Symbol\u001b[1m)\u001b[22m\u001b[22m at \u001b[1m.\\deprecated.jl:70\u001b[22m\u001b[22m\n",
      " [2] \u001b[1mArray\u001b[22m\u001b[22m\u001b[1m(\u001b[22m\u001b[22m::Type{Int64}, ::Int64, ::Int64\u001b[1m)\u001b[22m\u001b[22m at \u001b[1m.\\deprecated.jl:57\u001b[22m\u001b[22m\n",
      " [3] \u001b[1mMultiPoly.PolyUnion\u001b[22m\u001b[22m\u001b[1m(\u001b[22m\u001b[22m::Array{MultiPoly.MPoly{Float64},1}\u001b[1m)\u001b[22m\u001b[22m at \u001b[1mC:\\Users\\Michael\\.julia\\v0.6\\MultiPoly\\src\\polyunion.jl:9\u001b[22m\u001b[22m\n",
      " [4] \u001b[1m*\u001b[22m\u001b[22m\u001b[1m(\u001b[22m\u001b[22m::MultiPoly.MPoly{Float64}, ::MultiPoly.MPoly{Float64}\u001b[1m)\u001b[22m\u001b[22m at \u001b[1mC:\\Users\\Michael\\.julia\\v0.6\\MultiPoly\\src\\mpolyarithmetic.jl:63\u001b[22m\u001b[22m\n",
      " [5] \u001b[1m_mapreduce\u001b[22m\u001b[22m\u001b[1m(\u001b[22m\u001b[22m::Base.#identity, ::Base.#*, ::IndexLinear, ::Array{MultiPoly.MPoly{Float64},1}\u001b[1m)\u001b[22m\u001b[22m at \u001b[1m.\\reduce.jl:273\u001b[22m\u001b[22m\n",
      " [6] \u001b[1m_collect\u001b[22m\u001b[22m\u001b[1m(\u001b[22m\u001b[22m::Array{Array{Int64,1},1}, ::Base.Generator{Array{Array{Int64,1},1},Mayday.##1#3{Array{Symbol,1},Mayday.#monomial}}, ::Base.EltypeUnknown, ::Base.HasShape\u001b[1m)\u001b[22m\u001b[22m at \u001b[1m.\\array.jl:454\u001b[22m\u001b[22m\n",
      " [7] \u001b[1mdefPolynomial\u001b[22m\u001b[22m\u001b[1m(\u001b[22m\u001b[22m::JuMP.Model, ::Array{Symbol,1}, ::Int64\u001b[1m)\u001b[22m\u001b[22m at \u001b[1mC:\\Users\\Michael\\.julia\\v0.6\\Mayday\\src\\Mayday.jl:64\u001b[22m\u001b[22m\n",
      " [8] \u001b[1minclude_string\u001b[22m\u001b[22m\u001b[1m(\u001b[22m\u001b[22m::String, ::String\u001b[1m)\u001b[22m\u001b[22m at \u001b[1m.\\loading.jl:515\u001b[22m\u001b[22m\n",
      " [9] \u001b[1minclude_string\u001b[22m\u001b[22m\u001b[1m(\u001b[22m\u001b[22m::Module, ::String, ::String\u001b[1m)\u001b[22m\u001b[22m at \u001b[1mC:\\Users\\Michael\\.julia\\v0.6\\Compat\\src\\Compat.jl:71\u001b[22m\u001b[22m\n",
      " [10] \u001b[1mexecute_request\u001b[22m\u001b[22m\u001b[1m(\u001b[22m\u001b[22m::ZMQ.Socket, ::IJulia.Msg\u001b[1m)\u001b[22m\u001b[22m at \u001b[1mC:\\Users\\Michael\\.julia\\v0.6\\IJulia\\src\\execute_request.jl:158\u001b[22m\u001b[22m\n",
      " [11] \u001b[1m(::Compat.#inner#17{Array{Any,1},IJulia.#execute_request,Tuple{ZMQ.Socket,IJulia.Msg}})\u001b[22m\u001b[22m\u001b[1m(\u001b[22m\u001b[22m\u001b[1m)\u001b[22m\u001b[22m at \u001b[1mC:\\Users\\Michael\\.julia\\v0.6\\Compat\\src\\Compat.jl:385\u001b[22m\u001b[22m\n",
      " [12] \u001b[1meventloop\u001b[22m\u001b[22m\u001b[1m(\u001b[22m\u001b[22m::ZMQ.Socket\u001b[1m)\u001b[22m\u001b[22m at \u001b[1mC:\\Users\\Michael\\.julia\\v0.6\\IJulia\\src\\eventloop.jl:8\u001b[22m\u001b[22m\n",
      " [13] \u001b[1m(::IJulia.##14#17)\u001b[22m\u001b[22m\u001b[1m(\u001b[22m\u001b[22m\u001b[1m)\u001b[22m\u001b[22m at \u001b[1m.\\task.jl:335\u001b[22m\u001b[22m\n",
      "while loading In[26], in expression starting on line 8\n",
      "\u001b[1m\u001b[33mWARNING: \u001b[39m\u001b[22m\u001b[33mArray{T}(::Type{T}, m::Int, n::Int) is deprecated, use Array{T}(m, n) instead.\u001b[39m\n",
      "Stacktrace:\n",
      " [1] \u001b[1mdepwarn\u001b[22m\u001b[22m\u001b[1m(\u001b[22m\u001b[22m::String, ::Symbol\u001b[1m)\u001b[22m\u001b[22m at \u001b[1m.\\deprecated.jl:70\u001b[22m\u001b[22m\n",
      " [2] \u001b[1mArray\u001b[22m\u001b[22m\u001b[1m(\u001b[22m\u001b[22m::Type{Int64}, ::Int64, ::Int64\u001b[1m)\u001b[22m\u001b[22m at \u001b[1m.\\deprecated.jl:57\u001b[22m\u001b[22m\n",
      " [3] \u001b[1mMultiPoly.PolyUnion\u001b[22m\u001b[22m\u001b[1m(\u001b[22m\u001b[22m::Array{MultiPoly.MPoly{Float64},1}\u001b[1m)\u001b[22m\u001b[22m at \u001b[1mC:\\Users\\Michael\\.julia\\v0.6\\MultiPoly\\src\\polyunion.jl:9\u001b[22m\u001b[22m\n",
      " [4] \u001b[1m*\u001b[22m\u001b[22m\u001b[1m(\u001b[22m\u001b[22m::MultiPoly.MPoly{Float64}, ::MultiPoly.MPoly{Float64}\u001b[1m)\u001b[22m\u001b[22m at \u001b[1mC:\\Users\\Michael\\.julia\\v0.6\\MultiPoly\\src\\mpolyarithmetic.jl:63\u001b[22m\u001b[22m\n",
      " [5] \u001b[1m^\u001b[22m\u001b[22m\u001b[1m(\u001b[22m\u001b[22m::MultiPoly.MPoly{Float64}, ::Int64\u001b[1m)\u001b[22m\u001b[22m at \u001b[1mC:\\Users\\Michael\\.julia\\v0.6\\MultiPoly\\src\\mpolyarithmetic.jl:92\u001b[22m\u001b[22m (repeats 2 times)\n",
      " [6] \u001b[1mliteral_pow\u001b[22m\u001b[22m\u001b[1m(\u001b[22m\u001b[22m::Base.#^, ::MultiPoly.MPoly{Float64}, ::Type{Val{4}}\u001b[1m)\u001b[22m\u001b[22m at \u001b[1m.\\intfuncs.jl:205\u001b[22m\u001b[22m\n",
      " [7] \u001b[1minclude_string\u001b[22m\u001b[22m\u001b[1m(\u001b[22m\u001b[22m::String, ::String\u001b[1m)\u001b[22m\u001b[22m at \u001b[1m.\\loading.jl:515\u001b[22m\u001b[22m\n",
      " [8] \u001b[1minclude_string\u001b[22m\u001b[22m\u001b[1m(\u001b[22m\u001b[22m::Module, ::String, ::String\u001b[1m)\u001b[22m\u001b[22m at \u001b[1mC:\\Users\\Michael\\.julia\\v0.6\\Compat\\src\\Compat.jl:71\u001b[22m\u001b[22m\n",
      " [9] \u001b[1mexecute_request\u001b[22m\u001b[22m\u001b[1m(\u001b[22m\u001b[22m::ZMQ.Socket, ::IJulia.Msg\u001b[1m)\u001b[22m\u001b[22m at \u001b[1mC:\\Users\\Michael\\.julia\\v0.6\\IJulia\\src\\execute_request.jl:158\u001b[22m\u001b[22m\n",
      " [10] \u001b[1m(::Compat.#inner#17{Array{Any,1},IJulia.#execute_request,Tuple{ZMQ.Socket,IJulia.Msg}})\u001b[22m\u001b[22m\u001b[1m(\u001b[22m\u001b[22m\u001b[1m)\u001b[22m\u001b[22m at \u001b[1mC:\\Users\\Michael\\.julia\\v0.6\\Compat\\src\\Compat.jl:385\u001b[22m\u001b[22m\n",
      " [11] \u001b[1meventloop\u001b[22m\u001b[22m\u001b[1m(\u001b[22m\u001b[22m::ZMQ.Socket\u001b[1m)\u001b[22m\u001b[22m at \u001b[1mC:\\Users\\Michael\\.julia\\v0.6\\IJulia\\src\\eventloop.jl:8\u001b[22m\u001b[22m\n",
      " [12] \u001b[1m(::IJulia.##14#17)\u001b[22m\u001b[22m\u001b[1m(\u001b[22m\u001b[22m\u001b[1m)\u001b[22m\u001b[22m at \u001b[1m.\\task.jl:335\u001b[22m\u001b[22m\n",
      "while loading In[26], in expression starting on line 9\n",
      "\u001b[1m\u001b[33mWARNING: \u001b[39m\u001b[22m\u001b[33mArray{T}(::Type{T}, m::Int, n::Int) is deprecated, use Array{T}(m, n) instead.\u001b[39m\n",
      "Stacktrace:\n",
      " [1] \u001b[1mdepwarn\u001b[22m\u001b[22m\u001b[1m(\u001b[22m\u001b[22m::String, ::Symbol\u001b[1m)\u001b[22m\u001b[22m at \u001b[1m.\\deprecated.jl:70\u001b[22m\u001b[22m\n",
      " [2] \u001b[1mArray\u001b[22m\u001b[22m\u001b[1m(\u001b[22m\u001b[22m::Type{Int64}, ::Int64, ::Int64\u001b[1m)\u001b[22m\u001b[22m at \u001b[1m.\\deprecated.jl:57\u001b[22m\u001b[22m\n",
      " [3] \u001b[1mMultiPoly.PolyUnion\u001b[22m\u001b[22m\u001b[1m(\u001b[22m\u001b[22m::Array{MultiPoly.MPoly{Float64},1}\u001b[1m)\u001b[22m\u001b[22m at \u001b[1mC:\\Users\\Michael\\.julia\\v0.6\\MultiPoly\\src\\polyunion.jl:9\u001b[22m\u001b[22m\n",
      " [4] \u001b[1m*\u001b[22m\u001b[22m\u001b[1m(\u001b[22m\u001b[22m::MultiPoly.MPoly{Float64}, ::MultiPoly.MPoly{Float64}\u001b[1m)\u001b[22m\u001b[22m at \u001b[1mC:\\Users\\Michael\\.julia\\v0.6\\MultiPoly\\src\\mpolyarithmetic.jl:63\u001b[22m\u001b[22m\n",
      " [5] \u001b[1m^\u001b[22m\u001b[22m\u001b[1m(\u001b[22m\u001b[22m::MultiPoly.MPoly{Float64}, ::Int64\u001b[1m)\u001b[22m\u001b[22m at \u001b[1mC:\\Users\\Michael\\.julia\\v0.6\\MultiPoly\\src\\mpolyarithmetic.jl:92\u001b[22m\u001b[22m (repeats 2 times)\n",
      " [6] \u001b[1mliteral_pow\u001b[22m\u001b[22m\u001b[1m(\u001b[22m\u001b[22m::Base.#^, ::MultiPoly.MPoly{Float64}, ::Type{Val{3}}\u001b[1m)\u001b[22m\u001b[22m at \u001b[1m.\\intfuncs.jl:205\u001b[22m\u001b[22m\n",
      " [7] \u001b[1minclude_string\u001b[22m\u001b[22m\u001b[1m(\u001b[22m\u001b[22m::String, ::String\u001b[1m)\u001b[22m\u001b[22m at \u001b[1m.\\loading.jl:515\u001b[22m\u001b[22m\n",
      " [8] \u001b[1minclude_string\u001b[22m\u001b[22m\u001b[1m(\u001b[22m\u001b[22m::Module, ::String, ::String\u001b[1m)\u001b[22m\u001b[22m at \u001b[1mC:\\Users\\Michael\\.julia\\v0.6\\Compat\\src\\Compat.jl:71\u001b[22m\u001b[22m\n",
      " [9] \u001b[1mexecute_request\u001b[22m\u001b[22m\u001b[1m(\u001b[22m\u001b[22m::ZMQ.Socket, ::IJulia.Msg\u001b[1m)\u001b[22m\u001b[22m at \u001b[1mC:\\Users\\Michael\\.julia\\v0.6\\IJulia\\src\\execute_request.jl:158\u001b[22m\u001b[22m\n",
      " [10] \u001b[1m(::Compat.#inner#17{Array{Any,1},IJulia.#execute_request,Tuple{ZMQ.Socket,IJulia.Msg}})\u001b[22m\u001b[22m\u001b[1m(\u001b[22m\u001b[22m\u001b[1m)\u001b[22m\u001b[22m at \u001b[1mC:\\Users\\Michael\\.julia\\v0.6\\Compat\\src\\Compat.jl:385\u001b[22m\u001b[22m\n",
      " [11] \u001b[1meventloop\u001b[22m\u001b[22m\u001b[1m(\u001b[22m\u001b[22m::ZMQ.Socket\u001b[1m)\u001b[22m\u001b[22m at \u001b[1mC:\\Users\\Michael\\.julia\\v0.6\\IJulia\\src\\eventloop.jl:8\u001b[22m\u001b[22m\n",
      " [12] \u001b[1m(::IJulia.##14#17)\u001b[22m\u001b[22m\u001b[1m(\u001b[22m\u001b[22m\u001b[1m)\u001b[22m\u001b[22m at \u001b[1m.\\task.jl:335\u001b[22m\u001b[22m\n",
      "while loading In[26], in expression starting on line 10\n",
      "\u001b[1m\u001b[33mWARNING: \u001b[39m\u001b[22m\u001b[33mArray{T}(::Type{T}, m::Int, n::Int) is deprecated, use Array{T}(m, n) instead.\u001b[39m\n",
      "Stacktrace:\n",
      " [1] \u001b[1mdepwarn\u001b[22m\u001b[22m\u001b[1m(\u001b[22m\u001b[22m::String, ::Symbol\u001b[1m)\u001b[22m\u001b[22m at \u001b[1m.\\deprecated.jl:70\u001b[22m\u001b[22m\n",
      " [2] \u001b[1mArray\u001b[22m\u001b[22m\u001b[1m(\u001b[22m\u001b[22m::Type{Int64}, ::Int64, ::Int64\u001b[1m)\u001b[22m\u001b[22m at \u001b[1m.\\deprecated.jl:57\u001b[22m\u001b[22m\n",
      " [3] \u001b[1mMultiPoly.PolyUnion\u001b[22m\u001b[22m\u001b[1m(\u001b[22m\u001b[22m::Array{MultiPoly.MPoly{JuMP.GenericAffExpr{Float64,JuMP.Variable}},1}\u001b[1m)\u001b[22m\u001b[22m at \u001b[1mC:\\Users\\Michael\\.julia\\v0.6\\MultiPoly\\src\\polyunion.jl:9\u001b[22m\u001b[22m\n",
      " [4] \u001b[1m*\u001b[22m\u001b[22m\u001b[1m(\u001b[22m\u001b[22m::MultiPoly.MPoly{JuMP.GenericAffExpr{Float64,JuMP.Variable}}, ::MultiPoly.MPoly{Float64}\u001b[1m)\u001b[22m\u001b[22m at \u001b[1mC:\\Users\\Michael\\.julia\\v0.6\\MultiPoly\\src\\mpolyarithmetic.jl:63\u001b[22m\u001b[22m\n",
      " [5] \u001b[1minclude_string\u001b[22m\u001b[22m\u001b[1m(\u001b[22m\u001b[22m::String, ::String\u001b[1m)\u001b[22m\u001b[22m at \u001b[1m.\\loading.jl:515\u001b[22m\u001b[22m\n",
      " [6] \u001b[1minclude_string\u001b[22m\u001b[22m\u001b[1m(\u001b[22m\u001b[22m::Module, ::String, ::String\u001b[1m)\u001b[22m\u001b[22m at \u001b[1mC:\\Users\\Michael\\.julia\\v0.6\\Compat\\src\\Compat.jl:71\u001b[22m\u001b[22m\n",
      " [7] \u001b[1mexecute_request\u001b[22m\u001b[22m\u001b[1m(\u001b[22m\u001b[22m::ZMQ.Socket, ::IJulia.Msg\u001b[1m)\u001b[22m\u001b[22m at \u001b[1mC:\\Users\\Michael\\.julia\\v0.6\\IJulia\\src\\execute_request.jl:158\u001b[22m\u001b[22m\n",
      " [8] \u001b[1m(::Compat.#inner#17{Array{Any,1},IJulia.#execute_request,Tuple{ZMQ.Socket,IJulia.Msg}})\u001b[22m\u001b[22m\u001b[1m(\u001b[22m\u001b[22m\u001b[1m)\u001b[22m\u001b[22m at \u001b[1mC:\\Users\\Michael\\.julia\\v0.6\\Compat\\src\\Compat.jl:385\u001b[22m\u001b[22m\n",
      " [9] \u001b[1meventloop\u001b[22m\u001b[22m\u001b[1m(\u001b[22m\u001b[22m::ZMQ.Socket\u001b[1m)\u001b[22m\u001b[22m at \u001b[1mC:\\Users\\Michael\\.julia\\v0.6\\IJulia\\src\\eventloop.jl:8\u001b[22m\u001b[22m\n",
      " [10] \u001b[1m(::IJulia.##14#17)\u001b[22m\u001b[22m\u001b[1m(\u001b[22m\u001b[22m\u001b[1m)\u001b[22m\u001b[22m at \u001b[1m.\\task.jl:335\u001b[22m\u001b[22m\n",
      "while loading In[26], in expression starting on line 14\n"
     ]
    },
    {
     "data": {
      "text/latex": [
       "$$ \\begin{alignat*}{1}\\max\\quad & γ\\\\\n",
       "\\text{Subject to} \\quad & -γ - coeff_{1} - Q_{1,1} = -1\\\\\n",
       " & 10 coeff_{1} - coeff_{2} - Q_{1,2} - Q_{2,1} = 0\\\\\n",
       " & 10 coeff_{2} - Q_{1,3} - Q_{2,2} - Q_{3,1} = 0\\\\\n",
       " & -4 coeff_{1} - coeff_{3} - Q_{1,4} - Q_{4,1} = 0\\\\\n",
       " & -4 coeff_{2} + 10 coeff_{3} - Q_{1,5} - Q_{2,4} - Q_{4,2} - Q_{5,1} = 0\\\\\n",
       " & -4 coeff_{3} - Q_{1,6} - Q_{4,4} - Q_{6,1} = -3\\\\\n",
       " & -coeff_{4} - Q_{1,7} - Q_{7,1} = 0\\\\\n",
       " & 10 coeff_{4} - Q_{1,8} - Q_{2,7} - Q_{7,2} - Q_{8,1} = 0\\\\\n",
       " & -4 coeff_{4} - Q_{1,9} - Q_{4,7} - Q_{7,4} - Q_{9,1} = 0\\\\\n",
       " & -Q_{1,10} - Q_{7,7} - Q_{10,1} = 0\\\\\n",
       " & -Q_{2,3} - Q_{3,2} = 0\\\\\n",
       " & -Q_{2,5} - Q_{3,4} - Q_{4,3} - Q_{5,2} = 0\\\\\n",
       " & -Q_{2,6} - Q_{4,5} - Q_{5,4} - Q_{6,2} = 0\\\\\n",
       " & -Q_{2,8} - Q_{3,7} - Q_{7,3} - Q_{8,2} = 0\\\\\n",
       " & -Q_{2,9} - Q_{4,8} - Q_{5,7} - Q_{7,5} - Q_{8,4} - Q_{9,2} = 0\\\\\n",
       " & -Q_{2,10} - Q_{7,8} - Q_{8,7} - Q_{10,2} = 0\\\\\n",
       " & -Q_{3,3} = -2\\\\\n",
       " & -Q_{3,5} - Q_{5,3} = 0\\\\\n",
       " & -Q_{3,6} - Q_{5,5} - Q_{6,3} = 0\\\\\n",
       " & -Q_{3,8} - Q_{8,3} = 0\\\\\n",
       " & -Q_{3,9} - Q_{5,8} - Q_{8,5} - Q_{9,3} = 0\\\\\n",
       " & -Q_{3,10} - Q_{8,8} - Q_{10,3} = 0\\\\\n",
       " & -Q_{4,6} - Q_{6,4} = 0\\\\\n",
       " & -Q_{4,9} - Q_{6,7} - Q_{7,6} - Q_{9,4} = 0\\\\\n",
       " & -Q_{4,10} - Q_{7,9} - Q_{9,7} - Q_{10,4} = 0\\\\\n",
       " & -Q_{5,6} - Q_{6,5} = 0\\\\\n",
       " & -Q_{5,9} - Q_{6,8} - Q_{8,6} - Q_{9,5} = 0\\\\\n",
       " & -Q_{5,10} - Q_{8,9} - Q_{9,8} - Q_{10,5} = 0\\\\\n",
       " & -Q_{6,6} = 0\\\\\n",
       " & -Q_{6,9} - Q_{9,6} = 0\\\\\n",
       " & -Q_{6,10} - Q_{9,9} - Q_{10,6} = 0\\\\\n",
       " & coeff_{1} - Q_{7,10} - Q_{10,7} = 0\\\\\n",
       " & coeff_{2} - Q_{8,10} - Q_{10,8} = 0\\\\\n",
       " & coeff_{3} - Q_{9,10} - Q_{10,9} = 0\\\\\n",
       " & coeff_{4} - Q_{10,10} = -1\\\\\n",
       " & coeff_{i} \\quad\\forall i \\in \\{1,2,3,4\\}\\\\\n",
       " & Q_{i,j} \\quad\\forall i \\in \\{1,2,\\dots,9,10\\}, j \\in \\{1,2,\\dots,9,10\\}\\\\\n",
       " & γ\\\\\n",
       "\\end{alignat*}\n",
       " $$"
      ],
      "text/plain": [
       "Maximization problem with:\n",
       " * 35 linear constraints\n",
       " * 1 semidefinite constraint\n",
       " * 105 variables\n",
       "Solver is Mosek"
      ]
     },
     "execution_count": 26,
     "metadata": {},
     "output_type": "execute_result"
    }
   ],
   "source": [
    "m = Model(solver=MosekSolver())\n",
    "\n",
    "@variable(m, γ)\n",
    "\n",
    "x = generator(:x)\n",
    "y = generator(:y)\n",
    "z = generator(:z)\n",
    "v = defPolynomial(m, [:x, :y, :z], 1)\n",
    "p = x^4 + 3y^2 + 2z^4 + 1\n",
    "f = x^3 - 4y + 10z - 1\n",
    "\n",
    "@objective(m, Max, γ)\n",
    "\n",
    "addSoSConstraint(m, p - γ + v*f)\n",
    "\n",
    "m"
   ]
  },
  {
   "cell_type": "code",
   "execution_count": 27,
   "metadata": {},
   "outputs": [
    {
     "name": "stdout",
     "output_type": "stream",
     "text": [
      "Problem\n",
      "  Name                   :                 \n",
      "  Objective sense        : min             \n",
      "  Type                   : CONIC (conic optimization problem)\n",
      "  Constraints            : 135             \n",
      "  Cones                  : 0               \n",
      "  Scalar variables       : 105             \n",
      "  Matrix variables       : 1               \n",
      "  Integer variables      : 0               \n",
      "\n",
      "Optimizer started.\n",
      "Conic interior-point optimizer started.\n",
      "Presolve started.\n",
      "Linear dependency checker started.\n",
      "Linear dependency checker terminated.\n",
      "Eliminator started.\n",
      "Freed constraints in eliminator : 78\n",
      "Eliminator terminated.\n",
      "Eliminator - tries                  : 1                 time                   : 0.00            \n",
      "Lin. dep.  - tries                  : 1                 time                   : 0.00            \n",
      "Lin. dep.  - number                 : 0               \n",
      "Presolve terminated. Time: 0.00    \n",
      "Optimizer  - threads                : 4               \n",
      "Optimizer  - solved problem         : the primal      \n",
      "Optimizer  - Constraints            : 55\n",
      "Optimizer  - Cones                  : 1\n",
      "Optimizer  - Scalar variables       : 26                conic                  : 26              \n",
      "Optimizer  - Semi-definite variables: 1                 scalarized             : 55              \n",
      "Factor     - setup time             : 0.00              dense det. time        : 0.00            \n",
      "Factor     - ML order time          : 0.00              GP order time          : 0.00            \n",
      "Factor     - nonzeros before factor : 1540              after factor           : 1540            \n",
      "Factor     - dense dim.             : 0                 flops                  : 7.07e+004       \n",
      "ITE PFEAS    DFEAS    GFEAS    PRSTATUS   POBJ              DOBJ              MU       TIME  \n",
      "0   1.0e+000 1.0e+000 1.0e+000 0.00e+000  0.000000000e+000  0.000000000e+000  1.0e+000 0.00  \n",
      "1   2.4e-001 2.4e-001 5.8e-001 1.02e+000  -1.223961839e-001 -3.360720539e-001 2.4e-001 0.00  \n",
      "2   6.4e-002 6.4e-002 3.3e-001 1.16e+000  -9.246355326e-001 -9.933491654e-001 6.4e-002 0.00  \n",
      "3   1.3e-002 1.3e-002 1.6e-001 1.15e+000  -9.735527352e-001 -9.868869855e-001 1.3e-002 0.00  \n",
      "4   3.2e-003 3.2e-003 8.1e-002 1.10e+000  -9.936931220e-001 -9.969512921e-001 3.2e-003 0.02  \n",
      "5   1.0e-003 1.0e-003 4.2e-002 9.54e-001  -9.968862817e-001 -9.976974314e-001 1.0e-003 0.02  \n",
      "6   3.1e-004 3.1e-004 2.6e-002 1.10e+000  -9.997911546e-001 -1.000096784e+000 3.1e-004 0.02  \n",
      "7   7.2e-005 7.2e-005 1.1e-002 9.38e-001  -9.999675581e-001 -1.000011964e+000 7.2e-005 0.02  \n",
      "8   1.6e-005 1.6e-005 5.4e-003 1.02e+000  -1.000171494e+000 -1.000184760e+000 1.6e-005 0.02  \n",
      "9   3.8e-006 3.8e-006 2.5e-003 9.50e-001  -1.000188048e+000 -1.000190425e+000 3.8e-006 0.02  \n",
      "10  1.0e-006 1.0e-006 1.4e-003 1.05e+000  -1.000197341e+000 -1.000198220e+000 1.0e-006 0.02  \n",
      "11  3.0e-007 3.0e-007 6.7e-004 8.98e-001  -1.000198095e+000 -1.000198260e+000 3.0e-007 0.02  \n",
      "12  8.3e-008 8.3e-008 4.0e-004 1.12e+000  -1.000199040e+000 -1.000199118e+000 8.3e-008 0.02  \n",
      "13  1.7e-008 1.7e-008 1.7e-004 9.65e-001  -1.000199100e+000 -1.000199111e+000 1.7e-008 0.02  \n",
      "Interior-point optimizer terminated. Time: 0.02. \n",
      "\n",
      "Optimizer terminated. Time: 0.03    \n",
      "\n",
      "Interior-point solution summary\n",
      "  Problem status  : PRIMAL_AND_DUAL_FEASIBLE\n",
      "  Solution status : OPTIMAL\n",
      "  Primal.  obj: -1.0001991001e+000  nrm: 3e+000   Viol.  con: 3e-008   var: 0e+000   barvar: 0e+000 \n",
      "  Dual.    obj: -1.0001991114e+000  nrm: 3e+000   Viol.  con: 0e+000   var: 2e-008   barvar: 3e-008 \n"
     ]
    },
    {
     "data": {
      "text/plain": [
       ":Optimal"
      ]
     },
     "execution_count": 27,
     "metadata": {},
     "output_type": "execute_result"
    }
   ],
   "source": [
    "solve(m)"
   ]
  },
  {
   "cell_type": "code",
   "execution_count": 28,
   "metadata": {},
   "outputs": [
    {
     "data": {
      "text/html": [
       "1.00019910012356"
      ],
      "text/plain": [
       "1.00019910012356"
      ]
     },
     "execution_count": 28,
     "metadata": {},
     "output_type": "execute_result"
    }
   ],
   "source": [
    "getvalue(γ)"
   ]
  }
 ],
 "metadata": {
  "kernelspec": {
   "display_name": "Julia 0.6.2",
   "language": "julia",
   "name": "julia-0.6"
  },
  "language_info": {
   "file_extension": ".jl",
   "mimetype": "application/julia",
   "name": "julia",
   "version": "0.6.0"
  }
 },
 "nbformat": 4,
 "nbformat_minor": 2
}
