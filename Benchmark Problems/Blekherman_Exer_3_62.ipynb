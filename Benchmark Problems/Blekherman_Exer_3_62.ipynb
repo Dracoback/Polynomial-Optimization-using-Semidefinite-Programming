{
 "cells": [
  {
   "cell_type": "code",
   "execution_count": 29,
   "metadata": {
    "collapsed": true
   },
   "outputs": [],
   "source": [
    "# Import packages.\n",
    "using JuMP, SCS, Mayday, Mosek"
   ]
  },
  {
   "cell_type": "code",
   "execution_count": 30,
   "metadata": {},
   "outputs": [
    {
     "name": "stderr",
     "output_type": "stream",
     "text": [
      "\u001b[1m\u001b[33mWARNING: \u001b[39m\u001b[22m\u001b[33mArray{T}(::Type{T}, m::Int, n::Int) is deprecated, use Array{T}(m, n) instead.\u001b[39m\n",
      "Stacktrace:\n",
      " [1] \u001b[1mdepwarn\u001b[22m\u001b[22m\u001b[1m(\u001b[22m\u001b[22m::String, ::Symbol\u001b[1m)\u001b[22m\u001b[22m at \u001b[1m.\\deprecated.jl:70\u001b[22m\u001b[22m\n",
      " [2] \u001b[1mArray\u001b[22m\u001b[22m\u001b[1m(\u001b[22m\u001b[22m::Type{Int64}, ::Int64, ::Int64\u001b[1m)\u001b[22m\u001b[22m at \u001b[1m.\\deprecated.jl:57\u001b[22m\u001b[22m\n",
      " [3] \u001b[1mMultiPoly.PolyUnion\u001b[22m\u001b[22m\u001b[1m(\u001b[22m\u001b[22m::Array{MultiPoly.MPoly{JuMP.GenericAffExpr{Float64,JuMP.Variable}},1}\u001b[1m)\u001b[22m\u001b[22m at \u001b[1mC:\\Users\\Michael\\.julia\\v0.6\\MultiPoly\\src\\polyunion.jl:9\u001b[22m\u001b[22m\n",
      " [4] \u001b[1m+\u001b[22m\u001b[22m\u001b[1m(\u001b[22m\u001b[22m::MultiPoly.MPoly{JuMP.GenericAffExpr{Float64,JuMP.Variable}}, ::MultiPoly.MPoly{JuMP.GenericAffExpr{Float64,JuMP.Variable}}\u001b[1m)\u001b[22m\u001b[22m at \u001b[1mC:\\Users\\Michael\\.julia\\v0.6\\MultiPoly\\src\\mpolyarithmetic.jl:13\u001b[22m\u001b[22m\n",
      " [5] \u001b[1m_mapreduce\u001b[22m\u001b[22m\u001b[1m(\u001b[22m\u001b[22m::Base.#identity, ::Base.#+, ::IndexLinear, ::Array{MultiPoly.MPoly{JuMP.GenericAffExpr{Float64,JuMP.Variable}},1}\u001b[1m)\u001b[22m\u001b[22m at \u001b[1m.\\reduce.jl:273\u001b[22m\u001b[22m\n",
      " [6] \u001b[1mdefPolynomial\u001b[22m\u001b[22m\u001b[1m(\u001b[22m\u001b[22m::JuMP.Model, ::Array{Symbol,1}, ::Array{MultiPoly.MPoly{Float64},1}\u001b[1m)\u001b[22m\u001b[22m at \u001b[1mC:\\Users\\Michael\\.julia\\v0.6\\Mayday\\src\\Mayday.jl:61\u001b[22m\u001b[22m\n",
      " [7] \u001b[1mdefPolynomial\u001b[22m\u001b[22m\u001b[1m(\u001b[22m\u001b[22m::JuMP.Model, ::Array{Symbol,1}, ::Int64\u001b[1m)\u001b[22m\u001b[22m at \u001b[1mC:\\Users\\Michael\\.julia\\v0.6\\Mayday\\src\\Mayday.jl:64\u001b[22m\u001b[22m\n",
      " [8] \u001b[1minclude_string\u001b[22m\u001b[22m\u001b[1m(\u001b[22m\u001b[22m::String, ::String\u001b[1m)\u001b[22m\u001b[22m at \u001b[1m.\\loading.jl:515\u001b[22m\u001b[22m\n",
      " [9] \u001b[1minclude_string\u001b[22m\u001b[22m\u001b[1m(\u001b[22m\u001b[22m::Module, ::String, ::String\u001b[1m)\u001b[22m\u001b[22m at \u001b[1mC:\\Users\\Michael\\.julia\\v0.6\\Compat\\src\\Compat.jl:71\u001b[22m\u001b[22m\n",
      " [10] \u001b[1mexecute_request\u001b[22m\u001b[22m\u001b[1m(\u001b[22m\u001b[22m::ZMQ.Socket, ::IJulia.Msg\u001b[1m)\u001b[22m\u001b[22m at \u001b[1mC:\\Users\\Michael\\.julia\\v0.6\\IJulia\\src\\execute_request.jl:158\u001b[22m\u001b[22m\n",
      " [11] \u001b[1m(::Compat.#inner#17{Array{Any,1},IJulia.#execute_request,Tuple{ZMQ.Socket,IJulia.Msg}})\u001b[22m\u001b[22m\u001b[1m(\u001b[22m\u001b[22m\u001b[1m)\u001b[22m\u001b[22m at \u001b[1mC:\\Users\\Michael\\.julia\\v0.6\\Compat\\src\\Compat.jl:385\u001b[22m\u001b[22m\n",
      " [12] \u001b[1meventloop\u001b[22m\u001b[22m\u001b[1m(\u001b[22m\u001b[22m::ZMQ.Socket\u001b[1m)\u001b[22m\u001b[22m at \u001b[1mC:\\Users\\Michael\\.julia\\v0.6\\IJulia\\src\\eventloop.jl:8\u001b[22m\u001b[22m\n",
      " [13] \u001b[1m(::IJulia.##14#17)\u001b[22m\u001b[22m\u001b[1m(\u001b[22m\u001b[22m\u001b[1m)\u001b[22m\u001b[22m at \u001b[1m.\\task.jl:335\u001b[22m\u001b[22m\n",
      "while loading In[30], in expression starting on line 7\n",
      "\u001b[1m\u001b[33mWARNING: \u001b[39m\u001b[22m\u001b[33mArray{T}(::Type{T}, m::Int, n::Int) is deprecated, use Array{T}(m, n) instead.\u001b[39m\n",
      "Stacktrace:\n",
      " [1] \u001b[1mdepwarn\u001b[22m\u001b[22m\u001b[1m(\u001b[22m\u001b[22m::String, ::Symbol\u001b[1m)\u001b[22m\u001b[22m at \u001b[1m.\\deprecated.jl:70\u001b[22m\u001b[22m\n",
      " [2] \u001b[1mArray\u001b[22m\u001b[22m\u001b[1m(\u001b[22m\u001b[22m::Type{Int64}, ::Int64, ::Int64\u001b[1m)\u001b[22m\u001b[22m at \u001b[1m.\\deprecated.jl:57\u001b[22m\u001b[22m\n",
      " [3] \u001b[1mMultiPoly.PolyUnion\u001b[22m\u001b[22m\u001b[1m(\u001b[22m\u001b[22m::Array{MultiPoly.MPoly{Float64},1}\u001b[1m)\u001b[22m\u001b[22m at \u001b[1mC:\\Users\\Michael\\.julia\\v0.6\\MultiPoly\\src\\polyunion.jl:9\u001b[22m\u001b[22m\n",
      " [4] \u001b[1m*\u001b[22m\u001b[22m\u001b[1m(\u001b[22m\u001b[22m::MultiPoly.MPoly{Float64}, ::MultiPoly.MPoly{Float64}\u001b[1m)\u001b[22m\u001b[22m at \u001b[1mC:\\Users\\Michael\\.julia\\v0.6\\MultiPoly\\src\\mpolyarithmetic.jl:63\u001b[22m\u001b[22m\n",
      " [5] \u001b[1m^\u001b[22m\u001b[22m\u001b[1m(\u001b[22m\u001b[22m::MultiPoly.MPoly{Float64}, ::Int64\u001b[1m)\u001b[22m\u001b[22m at \u001b[1mC:\\Users\\Michael\\.julia\\v0.6\\MultiPoly\\src\\mpolyarithmetic.jl:92\u001b[22m\u001b[22m (repeats 2 times)\n",
      " [6] \u001b[1mliteral_pow\u001b[22m\u001b[22m\u001b[1m(\u001b[22m\u001b[22m::Base.#^, ::MultiPoly.MPoly{Float64}, ::Type{Val{4}}\u001b[1m)\u001b[22m\u001b[22m at \u001b[1m.\\intfuncs.jl:205\u001b[22m\u001b[22m\n",
      " [7] \u001b[1minclude_string\u001b[22m\u001b[22m\u001b[1m(\u001b[22m\u001b[22m::String, ::String\u001b[1m)\u001b[22m\u001b[22m at \u001b[1m.\\loading.jl:515\u001b[22m\u001b[22m\n",
      " [8] \u001b[1minclude_string\u001b[22m\u001b[22m\u001b[1m(\u001b[22m\u001b[22m::Module, ::String, ::String\u001b[1m)\u001b[22m\u001b[22m at \u001b[1mC:\\Users\\Michael\\.julia\\v0.6\\Compat\\src\\Compat.jl:71\u001b[22m\u001b[22m\n",
      " [9] \u001b[1mexecute_request\u001b[22m\u001b[22m\u001b[1m(\u001b[22m\u001b[22m::ZMQ.Socket, ::IJulia.Msg\u001b[1m)\u001b[22m\u001b[22m at \u001b[1mC:\\Users\\Michael\\.julia\\v0.6\\IJulia\\src\\execute_request.jl:158\u001b[22m\u001b[22m\n",
      " [10] \u001b[1m(::Compat.#inner#17{Array{Any,1},IJulia.#execute_request,Tuple{ZMQ.Socket,IJulia.Msg}})\u001b[22m\u001b[22m\u001b[1m(\u001b[22m\u001b[22m\u001b[1m)\u001b[22m\u001b[22m at \u001b[1mC:\\Users\\Michael\\.julia\\v0.6\\Compat\\src\\Compat.jl:385\u001b[22m\u001b[22m\n",
      " [11] \u001b[1meventloop\u001b[22m\u001b[22m\u001b[1m(\u001b[22m\u001b[22m::ZMQ.Socket\u001b[1m)\u001b[22m\u001b[22m at \u001b[1mC:\\Users\\Michael\\.julia\\v0.6\\IJulia\\src\\eventloop.jl:8\u001b[22m\u001b[22m\n",
      " [12] \u001b[1m(::IJulia.##14#17)\u001b[22m\u001b[22m\u001b[1m(\u001b[22m\u001b[22m\u001b[1m)\u001b[22m\u001b[22m at \u001b[1m.\\task.jl:335\u001b[22m\u001b[22m\n",
      "while loading In[30], in expression starting on line 8\n",
      "\u001b[1m\u001b[33mWARNING: \u001b[39m\u001b[22m\u001b[33mArray{T}(::Type{T}, m::Int, n::Int) is deprecated, use Array{T}(m, n) instead.\u001b[39m\n",
      "Stacktrace:\n",
      " [1] \u001b[1mdepwarn\u001b[22m\u001b[22m\u001b[1m(\u001b[22m\u001b[22m::String, ::Symbol\u001b[1m)\u001b[22m\u001b[22m at \u001b[1m.\\deprecated.jl:70\u001b[22m\u001b[22m\n",
      " [2] \u001b[1mArray\u001b[22m\u001b[22m\u001b[1m(\u001b[22m\u001b[22m::Type{Int64}, ::Int64, ::Int64\u001b[1m)\u001b[22m\u001b[22m at \u001b[1m.\\deprecated.jl:57\u001b[22m\u001b[22m\n",
      " [3] \u001b[1mMultiPoly.PolyUnion\u001b[22m\u001b[22m\u001b[1m(\u001b[22m\u001b[22m::Array{MultiPoly.MPoly{Float64},1}\u001b[1m)\u001b[22m\u001b[22m at \u001b[1mC:\\Users\\Michael\\.julia\\v0.6\\MultiPoly\\src\\polyunion.jl:9\u001b[22m\u001b[22m\n",
      " [4] \u001b[1m*\u001b[22m\u001b[22m\u001b[1m(\u001b[22m\u001b[22m::MultiPoly.MPoly{Float64}, ::MultiPoly.MPoly{Float64}\u001b[1m)\u001b[22m\u001b[22m at \u001b[1mC:\\Users\\Michael\\.julia\\v0.6\\MultiPoly\\src\\mpolyarithmetic.jl:63\u001b[22m\u001b[22m\n",
      " [5] \u001b[1m^\u001b[22m\u001b[22m\u001b[1m(\u001b[22m\u001b[22m::MultiPoly.MPoly{Float64}, ::Int64\u001b[1m)\u001b[22m\u001b[22m at \u001b[1mC:\\Users\\Michael\\.julia\\v0.6\\MultiPoly\\src\\mpolyarithmetic.jl:92\u001b[22m\u001b[22m (repeats 2 times)\n",
      " [6] \u001b[1mliteral_pow\u001b[22m\u001b[22m\u001b[1m(\u001b[22m\u001b[22m::Base.#^, ::MultiPoly.MPoly{Float64}, ::Type{Val{3}}\u001b[1m)\u001b[22m\u001b[22m at \u001b[1m.\\intfuncs.jl:205\u001b[22m\u001b[22m\n",
      " [7] \u001b[1minclude_string\u001b[22m\u001b[22m\u001b[1m(\u001b[22m\u001b[22m::String, ::String\u001b[1m)\u001b[22m\u001b[22m at \u001b[1m.\\loading.jl:515\u001b[22m\u001b[22m\n",
      " [8] \u001b[1minclude_string\u001b[22m\u001b[22m\u001b[1m(\u001b[22m\u001b[22m::Module, ::String, ::String\u001b[1m)\u001b[22m\u001b[22m at \u001b[1mC:\\Users\\Michael\\.julia\\v0.6\\Compat\\src\\Compat.jl:71\u001b[22m\u001b[22m\n",
      " [9] \u001b[1mexecute_request\u001b[22m\u001b[22m\u001b[1m(\u001b[22m\u001b[22m::ZMQ.Socket, ::IJulia.Msg\u001b[1m)\u001b[22m\u001b[22m at \u001b[1mC:\\Users\\Michael\\.julia\\v0.6\\IJulia\\src\\execute_request.jl:158\u001b[22m\u001b[22m\n",
      " [10] \u001b[1m(::Compat.#inner#17{Array{Any,1},IJulia.#execute_request,Tuple{ZMQ.Socket,IJulia.Msg}})\u001b[22m\u001b[22m\u001b[1m(\u001b[22m\u001b[22m\u001b[1m)\u001b[22m\u001b[22m at \u001b[1mC:\\Users\\Michael\\.julia\\v0.6\\Compat\\src\\Compat.jl:385\u001b[22m\u001b[22m\n",
      " [11] \u001b[1meventloop\u001b[22m\u001b[22m\u001b[1m(\u001b[22m\u001b[22m::ZMQ.Socket\u001b[1m)\u001b[22m\u001b[22m at \u001b[1mC:\\Users\\Michael\\.julia\\v0.6\\IJulia\\src\\eventloop.jl:8\u001b[22m\u001b[22m\n",
      " [12] \u001b[1m(::IJulia.##14#17)\u001b[22m\u001b[22m\u001b[1m(\u001b[22m\u001b[22m\u001b[1m)\u001b[22m\u001b[22m at \u001b[1m.\\task.jl:335\u001b[22m\u001b[22m\n",
      "while loading In[30], in expression starting on line 9\n",
      "\u001b[1m\u001b[33mWARNING: \u001b[39m\u001b[22m\u001b[33mArray{T}(::Type{T}, m::Int, n::Int) is deprecated, use Array{T}(m, n) instead.\u001b[39m\n",
      "Stacktrace:\n",
      " [1] \u001b[1mdepwarn\u001b[22m\u001b[22m\u001b[1m(\u001b[22m\u001b[22m::String, ::Symbol\u001b[1m)\u001b[22m\u001b[22m at \u001b[1m.\\deprecated.jl:70\u001b[22m\u001b[22m\n",
      " [2] \u001b[1mArray\u001b[22m\u001b[22m\u001b[1m(\u001b[22m\u001b[22m::Type{Int64}, ::Int64, ::Int64\u001b[1m)\u001b[22m\u001b[22m at \u001b[1m.\\deprecated.jl:57\u001b[22m\u001b[22m\n",
      " [3] \u001b[1mMultiPoly.PolyUnion\u001b[22m\u001b[22m\u001b[1m(\u001b[22m\u001b[22m::Array{MultiPoly.MPoly{JuMP.GenericAffExpr{Float64,JuMP.Variable}},1}\u001b[1m)\u001b[22m\u001b[22m at \u001b[1mC:\\Users\\Michael\\.julia\\v0.6\\MultiPoly\\src\\polyunion.jl:9\u001b[22m\u001b[22m\n",
      " [4] \u001b[1m*\u001b[22m\u001b[22m\u001b[1m(\u001b[22m\u001b[22m::MultiPoly.MPoly{JuMP.GenericAffExpr{Float64,JuMP.Variable}}, ::MultiPoly.MPoly{Float64}\u001b[1m)\u001b[22m\u001b[22m at \u001b[1mC:\\Users\\Michael\\.julia\\v0.6\\MultiPoly\\src\\mpolyarithmetic.jl:63\u001b[22m\u001b[22m\n",
      " [5] \u001b[1minclude_string\u001b[22m\u001b[22m\u001b[1m(\u001b[22m\u001b[22m::String, ::String\u001b[1m)\u001b[22m\u001b[22m at \u001b[1m.\\loading.jl:515\u001b[22m\u001b[22m\n",
      " [6] \u001b[1minclude_string\u001b[22m\u001b[22m\u001b[1m(\u001b[22m\u001b[22m::Module, ::String, ::String\u001b[1m)\u001b[22m\u001b[22m at \u001b[1mC:\\Users\\Michael\\.julia\\v0.6\\Compat\\src\\Compat.jl:71\u001b[22m\u001b[22m\n",
      " [7] \u001b[1mexecute_request\u001b[22m\u001b[22m\u001b[1m(\u001b[22m\u001b[22m::ZMQ.Socket, ::IJulia.Msg\u001b[1m)\u001b[22m\u001b[22m at \u001b[1mC:\\Users\\Michael\\.julia\\v0.6\\IJulia\\src\\execute_request.jl:158\u001b[22m\u001b[22m\n",
      " [8] \u001b[1m(::Compat.#inner#17{Array{Any,1},IJulia.#execute_request,Tuple{ZMQ.Socket,IJulia.Msg}})\u001b[22m\u001b[22m\u001b[1m(\u001b[22m\u001b[22m\u001b[1m)\u001b[22m\u001b[22m at \u001b[1mC:\\Users\\Michael\\.julia\\v0.6\\Compat\\src\\Compat.jl:385\u001b[22m\u001b[22m\n",
      " [9] \u001b[1meventloop\u001b[22m\u001b[22m\u001b[1m(\u001b[22m\u001b[22m::ZMQ.Socket\u001b[1m)\u001b[22m\u001b[22m at \u001b[1mC:\\Users\\Michael\\.julia\\v0.6\\IJulia\\src\\eventloop.jl:8\u001b[22m\u001b[22m\n",
      " [10] \u001b[1m(::IJulia.##14#17)\u001b[22m\u001b[22m\u001b[1m(\u001b[22m\u001b[22m\u001b[1m)\u001b[22m\u001b[22m at \u001b[1m.\\task.jl:335\u001b[22m\u001b[22m\n",
      "while loading In[30], in expression starting on line 13\n"
     ]
    },
    {
     "data": {
      "text/latex": [
       "$$ \\begin{alignat*}{1}\\max\\quad & γ\\\\\n",
       "\\text{Subject to} \\quad & -γ - coeff_{1} - Q_{1,1} = -1\\\\\n",
       " & -4 coeff_{1} - coeff_{2} - Q_{1,2} - Q_{2,1} = 0\\\\\n",
       " & -4 coeff_{2} - Q_{1,3} - Q_{2,2} - Q_{3,1} = 3\\\\\n",
       " & coeff_{1} - Q_{2,3} - Q_{3,2} = 0\\\\\n",
       " & coeff_{2} - Q_{3,3} = -1\\\\\n",
       " & coeff_{i} \\quad\\forall i \\in \\{1,2\\}\\\\\n",
       " & Q_{i,j} \\quad\\forall i \\in \\{1,2,3\\}, j \\in \\{1,2,3\\}\\\\\n",
       " & γ\\\\\n",
       "\\end{alignat*}\n",
       " $$"
      ],
      "text/plain": [
       "Maximization problem with:\n",
       " * 5 linear constraints\n",
       " * 1 semidefinite constraint\n",
       " * 12 variables\n",
       "Solver is SCS"
      ]
     },
     "execution_count": 30,
     "metadata": {},
     "output_type": "execute_result"
    }
   ],
   "source": [
    "# Example comes from Exercise 3.62 on page 80 of Blekherman.\n",
    "m = Model(solver=SCSSolver())\n",
    "\n",
    "@variable(m, γ)\n",
    "\n",
    "x = generator(:x)\n",
    "v = defPolynomial(m, [:x], 1)\n",
    "p = x^4 - 3x^2 + 1\n",
    "f = x^3 - 4x - 1\n",
    "\n",
    "@objective(m, Max, γ)\n",
    "\n",
    "addSoSConstraint(m, p - γ + v*f)\n",
    "\n",
    "m"
   ]
  },
  {
   "cell_type": "code",
   "execution_count": 31,
   "metadata": {},
   "outputs": [
    {
     "data": {
      "text/plain": [
       ":Optimal"
      ]
     },
     "execution_count": 31,
     "metadata": {},
     "output_type": "execute_result"
    }
   ],
   "source": [
    "solve(m)"
   ]
  },
  {
   "cell_type": "code",
   "execution_count": 32,
   "metadata": {},
   "outputs": [
    {
     "name": "stdout",
     "output_type": "stream",
     "text": [
      "----------------------------------------------------------------------------\n",
      "\tSCS v1.1.5 - Splitting Conic Solver\n",
      "\t(c) Brendan O'Donoghue, Stanford University, 2012\n",
      "----------------------------------------------------------------------------\n",
      "Lin-sys: sparse-direct, nnz in A = 31\n",
      "eps = 1.00e-004, alpha = 1.80, max_iters = 20000, normalize = 1, scale = 5.00\n",
      "Variables n = 12, constraints m = 14\n",
      "Cones:\tprimal zero / dual free vars: 8\n",
      "\tsd vars: 6, sd blks: 1\n",
      "Setup time: 2.21e-004s\n",
      "----------------------------------------------------------------------------\n",
      " Iter | pri res | dua res | rel gap | pri obj | dua obj | kap/tau | time (s)\n",
      "----------------------------------------------------------------------------\n",
      "     0|1.#Je+000 1.#Je+000 -1.#Je+000 -1.#Je+000 -1.#Je+000 1.#Je+000 3.82e-005 \n",
      "   100|1.56e-005 3.25e-005 6.58e-006 -8.10e-001 -8.10e-001 0.00e+000 3.78e-004 \n",
      "----------------------------------------------------------------------------\n",
      "Status: Solved\n",
      "Timing: Total solve time: 3.79e-004s\n",
      "\tLin-sys: nnz in L factor: 65, avg solve time: 2.51e-007s\n",
      "\tCones: avg projection time: 3.01e-006s\n",
      "----------------------------------------------------------------------------\n",
      "Error metrics:\n",
      "dist(s, K) = 1.8010e-009, dist(y, K*) = 1.6942e-009, s'y/m = -3.3983e-012\n",
      "|Ax + s - b|_2 / (1 + |b|_2) = 1.5603e-005\n",
      "|A'y + c|_2 / (1 + |c|_2) = 3.2455e-005\n",
      "|c'x + b'y| / (1 + |c'x| + |b'y|) = 6.5826e-006\n",
      "----------------------------------------------------------------------------\n",
      "c'x = -0.8105, -b'y = -0.8105\n",
      "============================================================================\n"
     ]
    },
    {
     "data": {
      "text/html": [
       "0.8104579180090413"
      ],
      "text/plain": [
       "0.8104579180090413"
      ]
     },
     "execution_count": 32,
     "metadata": {},
     "output_type": "execute_result"
    }
   ],
   "source": [
    "getvalue(γ)"
   ]
  },
  {
   "cell_type": "code",
   "execution_count": 33,
   "metadata": {},
   "outputs": [
    {
     "name": "stderr",
     "output_type": "stream",
     "text": [
      "\u001b[1m\u001b[33mWARNING: \u001b[39m\u001b[22m\u001b[33mArray{T}(::Type{T}, m::Int, n::Int) is deprecated, use Array{T}(m, n) instead.\u001b[39m\n",
      "Stacktrace:\n",
      " [1] \u001b[1mdepwarn\u001b[22m\u001b[22m\u001b[1m(\u001b[22m\u001b[22m::String, ::Symbol\u001b[1m)\u001b[22m\u001b[22m at \u001b[1m.\\deprecated.jl:70\u001b[22m\u001b[22m\n",
      " [2] \u001b[1mArray\u001b[22m\u001b[22m\u001b[1m(\u001b[22m\u001b[22m::Type{Int64}, ::Int64, ::Int64\u001b[1m)\u001b[22m\u001b[22m at \u001b[1m.\\deprecated.jl:57\u001b[22m\u001b[22m\n",
      " [3] \u001b[1mMultiPoly.PolyUnion\u001b[22m\u001b[22m\u001b[1m(\u001b[22m\u001b[22m::Array{MultiPoly.MPoly{JuMP.GenericAffExpr{Float64,JuMP.Variable}},1}\u001b[1m)\u001b[22m\u001b[22m at \u001b[1mC:\\Users\\Michael\\.julia\\v0.6\\MultiPoly\\src\\polyunion.jl:9\u001b[22m\u001b[22m\n",
      " [4] \u001b[1m+\u001b[22m\u001b[22m\u001b[1m(\u001b[22m\u001b[22m::MultiPoly.MPoly{JuMP.GenericAffExpr{Float64,JuMP.Variable}}, ::MultiPoly.MPoly{JuMP.GenericAffExpr{Float64,JuMP.Variable}}\u001b[1m)\u001b[22m\u001b[22m at \u001b[1mC:\\Users\\Michael\\.julia\\v0.6\\MultiPoly\\src\\mpolyarithmetic.jl:13\u001b[22m\u001b[22m\n",
      " [5] \u001b[1m_mapreduce\u001b[22m\u001b[22m\u001b[1m(\u001b[22m\u001b[22m::Base.#identity, ::Base.#+, ::IndexLinear, ::Array{MultiPoly.MPoly{JuMP.GenericAffExpr{Float64,JuMP.Variable}},1}\u001b[1m)\u001b[22m\u001b[22m at \u001b[1m.\\reduce.jl:273\u001b[22m\u001b[22m\n",
      " [6] \u001b[1mdefPolynomial\u001b[22m\u001b[22m\u001b[1m(\u001b[22m\u001b[22m::JuMP.Model, ::Array{Symbol,1}, ::Array{MultiPoly.MPoly{Float64},1}\u001b[1m)\u001b[22m\u001b[22m at \u001b[1mC:\\Users\\Michael\\.julia\\v0.6\\Mayday\\src\\Mayday.jl:61\u001b[22m\u001b[22m\n",
      " [7] \u001b[1mdefPolynomial\u001b[22m\u001b[22m\u001b[1m(\u001b[22m\u001b[22m::JuMP.Model, ::Array{Symbol,1}, ::Int64\u001b[1m)\u001b[22m\u001b[22m at \u001b[1mC:\\Users\\Michael\\.julia\\v0.6\\Mayday\\src\\Mayday.jl:64\u001b[22m\u001b[22m\n",
      " [8] \u001b[1minclude_string\u001b[22m\u001b[22m\u001b[1m(\u001b[22m\u001b[22m::String, ::String\u001b[1m)\u001b[22m\u001b[22m at \u001b[1m.\\loading.jl:515\u001b[22m\u001b[22m\n",
      " [9] \u001b[1minclude_string\u001b[22m\u001b[22m\u001b[1m(\u001b[22m\u001b[22m::Module, ::String, ::String\u001b[1m)\u001b[22m\u001b[22m at \u001b[1mC:\\Users\\Michael\\.julia\\v0.6\\Compat\\src\\Compat.jl:71\u001b[22m\u001b[22m\n",
      " [10] \u001b[1mexecute_request\u001b[22m\u001b[22m\u001b[1m(\u001b[22m\u001b[22m::ZMQ.Socket, ::IJulia.Msg\u001b[1m)\u001b[22m\u001b[22m at \u001b[1mC:\\Users\\Michael\\.julia\\v0.6\\IJulia\\src\\execute_request.jl:158\u001b[22m\u001b[22m\n",
      " [11] \u001b[1m(::Compat.#inner#17{Array{Any,1},IJulia.#execute_request,Tuple{ZMQ.Socket,IJulia.Msg}})\u001b[22m\u001b[22m\u001b[1m(\u001b[22m\u001b[22m\u001b[1m)\u001b[22m\u001b[22m at \u001b[1mC:\\Users\\Michael\\.julia\\v0.6\\Compat\\src\\Compat.jl:385\u001b[22m\u001b[22m\n",
      " [12] \u001b[1meventloop\u001b[22m\u001b[22m\u001b[1m(\u001b[22m\u001b[22m::ZMQ.Socket\u001b[1m)\u001b[22m\u001b[22m at \u001b[1mC:\\Users\\Michael\\.julia\\v0.6\\IJulia\\src\\eventloop.jl:8\u001b[22m\u001b[22m\n",
      " [13] \u001b[1m(::IJulia.##14#17)\u001b[22m\u001b[22m\u001b[1m(\u001b[22m\u001b[22m\u001b[1m)\u001b[22m\u001b[22m at \u001b[1m.\\task.jl:335\u001b[22m\u001b[22m\n",
      "while loading In[33], in expression starting on line 7\n",
      "\u001b[1m\u001b[33mWARNING: \u001b[39m\u001b[22m\u001b[33mArray{T}(::Type{T}, m::Int, n::Int) is deprecated, use Array{T}(m, n) instead.\u001b[39m\n",
      "Stacktrace:\n",
      " [1] \u001b[1mdepwarn\u001b[22m\u001b[22m\u001b[1m(\u001b[22m\u001b[22m::String, ::Symbol\u001b[1m)\u001b[22m\u001b[22m at \u001b[1m.\\deprecated.jl:70\u001b[22m\u001b[22m\n",
      " [2] \u001b[1mArray\u001b[22m\u001b[22m\u001b[1m(\u001b[22m\u001b[22m::Type{Int64}, ::Int64, ::Int64\u001b[1m)\u001b[22m\u001b[22m at \u001b[1m.\\deprecated.jl:57\u001b[22m\u001b[22m\n",
      " [3] \u001b[1mMultiPoly.PolyUnion\u001b[22m\u001b[22m\u001b[1m(\u001b[22m\u001b[22m::Array{MultiPoly.MPoly{Float64},1}\u001b[1m)\u001b[22m\u001b[22m at \u001b[1mC:\\Users\\Michael\\.julia\\v0.6\\MultiPoly\\src\\polyunion.jl:9\u001b[22m\u001b[22m\n",
      " [4] \u001b[1m*\u001b[22m\u001b[22m\u001b[1m(\u001b[22m\u001b[22m::MultiPoly.MPoly{Float64}, ::MultiPoly.MPoly{Float64}\u001b[1m)\u001b[22m\u001b[22m at \u001b[1mC:\\Users\\Michael\\.julia\\v0.6\\MultiPoly\\src\\mpolyarithmetic.jl:63\u001b[22m\u001b[22m\n",
      " [5] \u001b[1m^\u001b[22m\u001b[22m\u001b[1m(\u001b[22m\u001b[22m::MultiPoly.MPoly{Float64}, ::Int64\u001b[1m)\u001b[22m\u001b[22m at \u001b[1mC:\\Users\\Michael\\.julia\\v0.6\\MultiPoly\\src\\mpolyarithmetic.jl:92\u001b[22m\u001b[22m (repeats 2 times)\n",
      " [6] \u001b[1mliteral_pow\u001b[22m\u001b[22m\u001b[1m(\u001b[22m\u001b[22m::Base.#^, ::MultiPoly.MPoly{Float64}, ::Type{Val{4}}\u001b[1m)\u001b[22m\u001b[22m at \u001b[1m.\\intfuncs.jl:205\u001b[22m\u001b[22m\n",
      " [7] \u001b[1minclude_string\u001b[22m\u001b[22m\u001b[1m(\u001b[22m\u001b[22m::String, ::String\u001b[1m)\u001b[22m\u001b[22m at \u001b[1m.\\loading.jl:515\u001b[22m\u001b[22m\n",
      " [8] \u001b[1minclude_string\u001b[22m\u001b[22m\u001b[1m(\u001b[22m\u001b[22m::Module, ::String, ::String\u001b[1m)\u001b[22m\u001b[22m at \u001b[1mC:\\Users\\Michael\\.julia\\v0.6\\Compat\\src\\Compat.jl:71\u001b[22m\u001b[22m\n",
      " [9] \u001b[1mexecute_request\u001b[22m\u001b[22m\u001b[1m(\u001b[22m\u001b[22m::ZMQ.Socket, ::IJulia.Msg\u001b[1m)\u001b[22m\u001b[22m at \u001b[1mC:\\Users\\Michael\\.julia\\v0.6\\IJulia\\src\\execute_request.jl:158\u001b[22m\u001b[22m\n",
      " [10] \u001b[1m(::Compat.#inner#17{Array{Any,1},IJulia.#execute_request,Tuple{ZMQ.Socket,IJulia.Msg}})\u001b[22m\u001b[22m\u001b[1m(\u001b[22m\u001b[22m\u001b[1m)\u001b[22m\u001b[22m at \u001b[1mC:\\Users\\Michael\\.julia\\v0.6\\Compat\\src\\Compat.jl:385\u001b[22m\u001b[22m\n",
      " [11] \u001b[1meventloop\u001b[22m\u001b[22m\u001b[1m(\u001b[22m\u001b[22m::ZMQ.Socket\u001b[1m)\u001b[22m\u001b[22m at \u001b[1mC:\\Users\\Michael\\.julia\\v0.6\\IJulia\\src\\eventloop.jl:8\u001b[22m\u001b[22m\n",
      " [12] \u001b[1m(::IJulia.##14#17)\u001b[22m\u001b[22m\u001b[1m(\u001b[22m\u001b[22m\u001b[1m)\u001b[22m\u001b[22m at \u001b[1m.\\task.jl:335\u001b[22m\u001b[22m\n",
      "while loading In[33], in expression starting on line 8\n",
      "\u001b[1m\u001b[33mWARNING: \u001b[39m\u001b[22m\u001b[33mArray{T}(::Type{T}, m::Int, n::Int) is deprecated, use Array{T}(m, n) instead.\u001b[39m\n",
      "Stacktrace:\n",
      " [1] \u001b[1mdepwarn\u001b[22m\u001b[22m\u001b[1m(\u001b[22m\u001b[22m::String, ::Symbol\u001b[1m)\u001b[22m\u001b[22m at \u001b[1m.\\deprecated.jl:70\u001b[22m\u001b[22m\n",
      " [2] \u001b[1mArray\u001b[22m\u001b[22m\u001b[1m(\u001b[22m\u001b[22m::Type{Int64}, ::Int64, ::Int64\u001b[1m)\u001b[22m\u001b[22m at \u001b[1m.\\deprecated.jl:57\u001b[22m\u001b[22m\n",
      " [3] \u001b[1mMultiPoly.PolyUnion\u001b[22m\u001b[22m\u001b[1m(\u001b[22m\u001b[22m::Array{MultiPoly.MPoly{Float64},1}\u001b[1m)\u001b[22m\u001b[22m at \u001b[1mC:\\Users\\Michael\\.julia\\v0.6\\MultiPoly\\src\\polyunion.jl:9\u001b[22m\u001b[22m\n",
      " [4] \u001b[1m*\u001b[22m\u001b[22m\u001b[1m(\u001b[22m\u001b[22m::MultiPoly.MPoly{Float64}, ::MultiPoly.MPoly{Float64}\u001b[1m)\u001b[22m\u001b[22m at \u001b[1mC:\\Users\\Michael\\.julia\\v0.6\\MultiPoly\\src\\mpolyarithmetic.jl:63\u001b[22m\u001b[22m\n",
      " [5] \u001b[1m^\u001b[22m\u001b[22m\u001b[1m(\u001b[22m\u001b[22m::MultiPoly.MPoly{Float64}, ::Int64\u001b[1m)\u001b[22m\u001b[22m at \u001b[1mC:\\Users\\Michael\\.julia\\v0.6\\MultiPoly\\src\\mpolyarithmetic.jl:92\u001b[22m\u001b[22m (repeats 2 times)\n",
      " [6] \u001b[1mliteral_pow\u001b[22m\u001b[22m\u001b[1m(\u001b[22m\u001b[22m::Base.#^, ::MultiPoly.MPoly{Float64}, ::Type{Val{3}}\u001b[1m)\u001b[22m\u001b[22m at \u001b[1m.\\intfuncs.jl:205\u001b[22m\u001b[22m\n",
      " [7] \u001b[1minclude_string\u001b[22m\u001b[22m\u001b[1m(\u001b[22m\u001b[22m::String, ::String\u001b[1m)\u001b[22m\u001b[22m at \u001b[1m.\\loading.jl:515\u001b[22m\u001b[22m\n",
      " [8] \u001b[1minclude_string\u001b[22m\u001b[22m\u001b[1m(\u001b[22m\u001b[22m::Module, ::String, ::String\u001b[1m)\u001b[22m\u001b[22m at \u001b[1mC:\\Users\\Michael\\.julia\\v0.6\\Compat\\src\\Compat.jl:71\u001b[22m\u001b[22m\n",
      " [9] \u001b[1mexecute_request\u001b[22m\u001b[22m\u001b[1m(\u001b[22m\u001b[22m::ZMQ.Socket, ::IJulia.Msg\u001b[1m)\u001b[22m\u001b[22m at \u001b[1mC:\\Users\\Michael\\.julia\\v0.6\\IJulia\\src\\execute_request.jl:158\u001b[22m\u001b[22m\n",
      " [10] \u001b[1m(::Compat.#inner#17{Array{Any,1},IJulia.#execute_request,Tuple{ZMQ.Socket,IJulia.Msg}})\u001b[22m\u001b[22m\u001b[1m(\u001b[22m\u001b[22m\u001b[1m)\u001b[22m\u001b[22m at \u001b[1mC:\\Users\\Michael\\.julia\\v0.6\\Compat\\src\\Compat.jl:385\u001b[22m\u001b[22m\n",
      " [11] \u001b[1meventloop\u001b[22m\u001b[22m\u001b[1m(\u001b[22m\u001b[22m::ZMQ.Socket\u001b[1m)\u001b[22m\u001b[22m at \u001b[1mC:\\Users\\Michael\\.julia\\v0.6\\IJulia\\src\\eventloop.jl:8\u001b[22m\u001b[22m\n",
      " [12] \u001b[1m(::IJulia.##14#17)\u001b[22m\u001b[22m\u001b[1m(\u001b[22m\u001b[22m\u001b[1m)\u001b[22m\u001b[22m at \u001b[1m.\\task.jl:335\u001b[22m\u001b[22m\n",
      "while loading In[33], in expression starting on line 9\n",
      "\u001b[1m\u001b[33mWARNING: \u001b[39m\u001b[22m\u001b[33mArray{T}(::Type{T}, m::Int, n::Int) is deprecated, use Array{T}(m, n) instead.\u001b[39m\n",
      "Stacktrace:\n",
      " [1] \u001b[1mdepwarn\u001b[22m\u001b[22m\u001b[1m(\u001b[22m\u001b[22m::String, ::Symbol\u001b[1m)\u001b[22m\u001b[22m at \u001b[1m.\\deprecated.jl:70\u001b[22m\u001b[22m\n",
      " [2] \u001b[1mArray\u001b[22m\u001b[22m\u001b[1m(\u001b[22m\u001b[22m::Type{Int64}, ::Int64, ::Int64\u001b[1m)\u001b[22m\u001b[22m at \u001b[1m.\\deprecated.jl:57\u001b[22m\u001b[22m\n",
      " [3] \u001b[1mMultiPoly.PolyUnion\u001b[22m\u001b[22m\u001b[1m(\u001b[22m\u001b[22m::Array{MultiPoly.MPoly{JuMP.GenericAffExpr{Float64,JuMP.Variable}},1}\u001b[1m)\u001b[22m\u001b[22m at \u001b[1mC:\\Users\\Michael\\.julia\\v0.6\\MultiPoly\\src\\polyunion.jl:9\u001b[22m\u001b[22m\n",
      " [4] \u001b[1m*\u001b[22m\u001b[22m\u001b[1m(\u001b[22m\u001b[22m::MultiPoly.MPoly{JuMP.GenericAffExpr{Float64,JuMP.Variable}}, ::MultiPoly.MPoly{Float64}\u001b[1m)\u001b[22m\u001b[22m at \u001b[1mC:\\Users\\Michael\\.julia\\v0.6\\MultiPoly\\src\\mpolyarithmetic.jl:63\u001b[22m\u001b[22m\n",
      " [5] \u001b[1minclude_string\u001b[22m\u001b[22m\u001b[1m(\u001b[22m\u001b[22m::String, ::String\u001b[1m)\u001b[22m\u001b[22m at \u001b[1m.\\loading.jl:515\u001b[22m\u001b[22m\n",
      " [6] \u001b[1minclude_string\u001b[22m\u001b[22m\u001b[1m(\u001b[22m\u001b[22m::Module, ::String, ::String\u001b[1m)\u001b[22m\u001b[22m at \u001b[1mC:\\Users\\Michael\\.julia\\v0.6\\Compat\\src\\Compat.jl:71\u001b[22m\u001b[22m\n",
      " [7] \u001b[1mexecute_request\u001b[22m\u001b[22m\u001b[1m(\u001b[22m\u001b[22m::ZMQ.Socket, ::IJulia.Msg\u001b[1m)\u001b[22m\u001b[22m at \u001b[1mC:\\Users\\Michael\\.julia\\v0.6\\IJulia\\src\\execute_request.jl:158\u001b[22m\u001b[22m\n",
      " [8] \u001b[1m(::Compat.#inner#17{Array{Any,1},IJulia.#execute_request,Tuple{ZMQ.Socket,IJulia.Msg}})\u001b[22m\u001b[22m\u001b[1m(\u001b[22m\u001b[22m\u001b[1m)\u001b[22m\u001b[22m at \u001b[1mC:\\Users\\Michael\\.julia\\v0.6\\Compat\\src\\Compat.jl:385\u001b[22m\u001b[22m\n",
      " [9] \u001b[1meventloop\u001b[22m\u001b[22m\u001b[1m(\u001b[22m\u001b[22m::ZMQ.Socket\u001b[1m)\u001b[22m\u001b[22m at \u001b[1mC:\\Users\\Michael\\.julia\\v0.6\\IJulia\\src\\eventloop.jl:8\u001b[22m\u001b[22m\n",
      " [10] \u001b[1m(::IJulia.##14#17)\u001b[22m\u001b[22m\u001b[1m(\u001b[22m\u001b[22m\u001b[1m)\u001b[22m\u001b[22m at \u001b[1m.\\task.jl:335\u001b[22m\u001b[22m\n",
      "while loading In[33], in expression starting on line 13\n"
     ]
    },
    {
     "data": {
      "text/latex": [
       "$$ \\begin{alignat*}{1}\\max\\quad & γ\\\\\n",
       "\\text{Subject to} \\quad & -γ - coeff_{1} - Q_{1,1} = -1\\\\\n",
       " & -4 coeff_{1} - coeff_{2} - Q_{1,2} - Q_{2,1} = 0\\\\\n",
       " & -4 coeff_{2} - Q_{1,3} - Q_{2,2} - Q_{3,1} = 3\\\\\n",
       " & coeff_{1} - Q_{2,3} - Q_{3,2} = 0\\\\\n",
       " & coeff_{2} - Q_{3,3} = -1\\\\\n",
       " & coeff_{i} \\quad\\forall i \\in \\{1,2\\}\\\\\n",
       " & Q_{i,j} \\quad\\forall i \\in \\{1,2,3\\}, j \\in \\{1,2,3\\}\\\\\n",
       " & γ\\\\\n",
       "\\end{alignat*}\n",
       " $$"
      ],
      "text/plain": [
       "Maximization problem with:\n",
       " * 5 linear constraints\n",
       " * 1 semidefinite constraint\n",
       " * 12 variables\n",
       "Solver is Mosek"
      ]
     },
     "execution_count": 33,
     "metadata": {},
     "output_type": "execute_result"
    }
   ],
   "source": [
    "# Example comes from Exercise 3.62 on page 80 of Blekherman.\n",
    "m = Model(solver=MosekSolver())\n",
    "\n",
    "@variable(m, γ)\n",
    "\n",
    "x = generator(:x)\n",
    "v = defPolynomial(m, [:x], 1)\n",
    "p = x^4 - 3x^2 + 1\n",
    "f = x^3 - 4x - 1\n",
    "\n",
    "@objective(m, Max, γ)\n",
    "\n",
    "addSoSConstraint(m, p - γ + v*f)\n",
    "\n",
    "m"
   ]
  },
  {
   "cell_type": "code",
   "execution_count": 34,
   "metadata": {},
   "outputs": [
    {
     "name": "stdout",
     "output_type": "stream",
     "text": [
      "Problem\n",
      "  Name                   :                 \n",
      "  Objective sense        : min             \n",
      "  Type                   : CONIC (conic optimization problem)\n",
      "  Constraints            : 14              \n",
      "  Cones                  : 0               \n",
      "  Scalar variables       : 12              \n",
      "  Matrix variables       : 1               \n",
      "  Integer variables      : 0               \n",
      "\n",
      "Optimizer started.\n",
      "Conic interior-point optimizer started.\n",
      "Presolve started.\n",
      "Linear dependency checker started.\n",
      "Linear dependency checker terminated.\n",
      "Eliminator started.\n",
      "Freed constraints in eliminator : 8\n",
      "Eliminator terminated.\n",
      "Eliminator - tries                  : 1                 time                   : 0.00            \n",
      "Lin. dep.  - tries                  : 1                 time                   : 0.00            \n",
      "Lin. dep.  - number                 : 0               \n",
      "Presolve terminated. Time: 0.00    \n",
      "Optimizer  - threads                : 4               \n",
      "Optimizer  - solved problem         : the primal      \n",
      "Optimizer  - Constraints            : 6\n",
      "Optimizer  - Cones                  : 1\n",
      "Optimizer  - Scalar variables       : 5                 conic                  : 5               \n",
      "Optimizer  - Semi-definite variables: 1                 scalarized             : 6               \n",
      "Factor     - setup time             : 0.00              dense det. time        : 0.00            \n",
      "Factor     - ML order time          : 0.00              GP order time          : 0.00            \n",
      "Factor     - nonzeros before factor : 21                after factor           : 21              \n",
      "Factor     - dense dim.             : 0                 flops                  : 3.22e+002       \n",
      "ITE PFEAS    DFEAS    GFEAS    PRSTATUS   POBJ              DOBJ              MU       TIME  \n",
      "0   1.0e+000 1.0e+000 1.0e+000 0.00e+000  0.000000000e+000  0.000000000e+000  1.0e+000 0.00  \n",
      "1   2.5e-001 2.5e-001 5.1e-001 7.16e-001  -4.708066989e-001 -4.957376629e-001 2.5e-001 0.00  \n",
      "2   4.0e-002 4.0e-002 2.9e-001 1.02e+000  -8.017067027e-001 -8.224174120e-001 4.0e-002 0.00  \n",
      "3   9.6e-004 9.6e-004 4.8e-002 1.22e+000  -8.101632729e-001 -8.106036324e-001 9.6e-004 0.00  \n",
      "4   2.8e-006 2.8e-006 2.5e-003 1.01e+000  -8.104630931e-001 -8.104643333e-001 2.8e-006 0.00  \n",
      "5   2.9e-007 2.9e-007 8.1e-004 9.99e-001  -8.104655720e-001 -8.104656989e-001 2.9e-007 0.00  \n",
      "6   1.7e-008 1.7e-008 1.9e-004 1.00e+000  -8.104659534e-001 -8.104659607e-001 1.7e-008 0.00  \n",
      "Interior-point optimizer terminated. Time: 0.00. \n",
      "\n",
      "Optimizer terminated. Time: 0.00    \n",
      "\n",
      "Interior-point solution summary\n",
      "  Problem status  : PRIMAL_AND_DUAL_FEASIBLE\n",
      "  Solution status : OPTIMAL\n",
      "  Primal.  obj: -8.1046595342e-001  nrm: 3e+000   Viol.  con: 3e-008   var: 0e+000   barvar: 0e+000 \n",
      "  Dual.    obj: -8.1046596071e-001  nrm: 1e+000   Viol.  con: 0e+000   var: 2e-008   barvar: 1e-008 \n"
     ]
    },
    {
     "data": {
      "text/plain": [
       ":Optimal"
      ]
     },
     "execution_count": 34,
     "metadata": {},
     "output_type": "execute_result"
    }
   ],
   "source": [
    "solve(m)"
   ]
  },
  {
   "cell_type": "code",
   "execution_count": 35,
   "metadata": {},
   "outputs": [
    {
     "data": {
      "text/html": [
       "0.810465953422004"
      ],
      "text/plain": [
       "0.810465953422004"
      ]
     },
     "execution_count": 35,
     "metadata": {},
     "output_type": "execute_result"
    }
   ],
   "source": [
    "getvalue(γ)"
   ]
  }
 ],
 "metadata": {
  "kernelspec": {
   "display_name": "Julia 0.6.2",
   "language": "julia",
   "name": "julia-0.6"
  },
  "language_info": {
   "file_extension": ".jl",
   "mimetype": "application/julia",
   "name": "julia",
   "version": "0.6.0"
  }
 },
 "nbformat": 4,
 "nbformat_minor": 2
}
