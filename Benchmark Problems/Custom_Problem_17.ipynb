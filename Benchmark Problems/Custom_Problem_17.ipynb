{
 "cells": [
  {
   "cell_type": "code",
   "execution_count": 1,
   "metadata": {
    "collapsed": true
   },
   "outputs": [],
   "source": [
    "# Import packages.\n",
    "using JuMP, SCS, Mayday, Mosek"
   ]
  },
  {
   "cell_type": "code",
   "execution_count": 2,
   "metadata": {},
   "outputs": [
    {
     "name": "stdout",
     "output_type": "stream",
     "text": [
      "----------------------------------------------------------------------------\n",
      "\tSCS v1.1.5 - Splitting Conic Solver\n",
      "\t(c) Brendan O'Donoghue, Stanford University, 2012\n",
      "----------------------------------------------------------------------------\n",
      "Lin-sys: sparse-direct, nnz in A = 49645\n",
      "eps = 1.00e-004, alpha = 1.80, max_iters = 20000, normalize = 1, scale = 5.00\n",
      "Variables n = 16255, constraints m = 17163\n",
      "Cones:\tprimal zero / dual free vars: 9162\n",
      "\tsd vars: 8001, sd blks: 1\n",
      "Setup time: 1.34e-002s\n",
      "----------------------------------------------------------------------------\n",
      " Iter | pri res | dua res | rel gap | pri obj | dua obj | kap/tau | time (s)\n",
      "----------------------------------------------------------------------------\n",
      "     0|1.#Je+000 1.#Je+000 -1.#Je+000 -1.#Je+000 1.#Je+000 1.#Je+000 1.48e-002 \n",
      "   100|3.14e-002 7.59e-002 2.62e-004 1.98e+000 1.98e+000 0.00e+000 6.68e-001 \n",
      "   200|1.34e-002 1.26e-002 1.31e-004 2.08e+000 2.08e+000 0.00e+000 1.33e+000 \n",
      "   300|4.83e-003 4.09e-003 2.79e-004 2.25e+000 2.25e+000 0.00e+000 1.96e+000 \n",
      "   400|5.96e-004 1.62e-003 4.08e-006 2.26e+000 2.26e+000 0.00e+000 2.51e+000 \n",
      "   500|6.06e-004 2.12e-004 2.54e-006 2.26e+000 2.26e+000 0.00e+000 3.08e+000 \n",
      "   600|5.16e-004 8.95e-005 1.74e-008 2.26e+000 2.26e+000 0.00e+000 3.61e+000 \n",
      "   700|5.04e-004 5.03e-005 2.45e-007 2.26e+000 2.26e+000 0.00e+000 4.13e+000 \n",
      "   800|5.05e-004 3.50e-005 1.01e-008 2.26e+000 2.26e+000 0.00e+000 4.66e+000 \n",
      "   900|5.06e-004 4.10e-005 1.34e-007 2.26e+000 2.26e+000 0.00e+000 5.25e+000 \n",
      "  1000|5.07e-004 4.69e-005 1.80e-007 2.26e+000 2.26e+000 0.00e+000 5.79e+000 \n",
      "  1100|5.08e-004 5.29e-005 2.19e-007 2.27e+000 2.27e+000 0.00e+000 6.32e+000 \n",
      "  1200|5.09e-004 5.90e-005 2.64e-007 2.27e+000 2.27e+000 0.00e+000 6.90e+000 \n",
      "  1300|5.10e-004 6.50e-005 3.07e-007 2.27e+000 2.27e+000 0.00e+000 7.47e+000 \n",
      "  1400|5.11e-004 7.10e-005 3.50e-007 2.27e+000 2.27e+000 0.00e+000 8.03e+000 \n",
      "  1500|5.12e-004 7.71e-005 3.95e-007 2.27e+000 2.27e+000 0.00e+000 8.62e+000 \n",
      "  1600|5.14e-004 8.33e-005 4.40e-007 2.27e+000 2.27e+000 0.00e+000 9.28e+000 \n",
      "  1700|5.15e-004 8.94e-005 4.85e-007 2.27e+000 2.27e+000 0.00e+000 9.89e+000 \n",
      "  1800|5.17e-004 9.56e-005 5.30e-007 2.27e+000 2.27e+000 0.00e+000 1.06e+001 \n",
      "  1900|5.18e-004 1.02e-004 5.75e-007 2.27e+000 2.27e+000 0.00e+000 1.11e+001 \n",
      "  2000|5.20e-004 1.08e-004 6.20e-007 2.27e+000 2.27e+000 0.00e+000 1.17e+001 \n",
      "  2100|5.21e-004 1.15e-004 6.65e-007 2.27e+000 2.27e+000 0.00e+000 1.22e+001 \n",
      "  2200|5.23e-004 1.21e-004 7.11e-007 2.27e+000 2.27e+000 0.00e+000 1.28e+001 \n",
      "  2300|5.25e-004 1.27e-004 7.57e-007 2.27e+000 2.27e+000 0.00e+000 1.33e+001 \n",
      "  2400|5.27e-004 1.34e-004 8.03e-007 2.27e+000 2.27e+000 0.00e+000 1.39e+001 \n",
      "  2500|5.29e-004 1.41e-004 8.49e-007 2.27e+000 2.27e+000 0.00e+000 1.44e+001 \n",
      "  2600|5.30e-004 1.47e-004 8.95e-007 2.27e+000 2.27e+000 0.00e+000 1.50e+001 \n",
      "  2700|5.33e-004 1.54e-004 9.41e-007 2.27e+000 2.27e+000 0.00e+000 1.55e+001 \n",
      "  2800|5.35e-004 1.61e-004 9.88e-007 2.27e+000 2.27e+000 0.00e+000 1.60e+001 \n",
      "  2900|5.37e-004 1.68e-004 1.03e-006 2.27e+000 2.27e+000 0.00e+000 1.66e+001 \n",
      "  3000|5.39e-004 1.75e-004 1.08e-006 2.27e+000 2.27e+000 0.00e+000 1.71e+001 \n",
      "  3100|5.41e-004 1.82e-004 1.13e-006 2.27e+000 2.27e+000 0.00e+000 1.76e+001 \n",
      "  3200|5.44e-004 1.89e-004 1.17e-006 2.27e+000 2.27e+000 0.00e+000 1.82e+001 \n",
      "  3300|5.46e-004 1.96e-004 1.22e-006 2.27e+000 2.27e+000 0.00e+000 1.87e+001 \n",
      "  3400|5.48e-004 2.03e-004 1.27e-006 2.27e+000 2.27e+000 0.00e+000 1.93e+001 \n",
      "  3500|5.51e-004 2.11e-004 1.32e-006 2.27e+000 2.27e+000 0.00e+000 1.98e+001 \n",
      "  3600|5.54e-004 2.18e-004 1.36e-006 2.27e+000 2.27e+000 0.00e+000 2.04e+001 \n",
      "  3700|5.56e-004 2.26e-004 1.41e-006 2.27e+000 2.27e+000 0.00e+000 2.10e+001 \n",
      "  3800|5.59e-004 2.34e-004 1.46e-006 2.27e+000 2.27e+000 0.00e+000 2.17e+001 \n",
      "  3900|5.62e-004 2.41e-004 1.50e-006 2.27e+000 2.27e+000 0.00e+000 2.23e+001 \n",
      "  4000|5.64e-004 2.49e-004 1.55e-006 2.27e+000 2.27e+000 0.00e+000 2.28e+001 \n",
      "  4100|5.67e-004 2.57e-004 1.60e-006 2.27e+000 2.27e+000 0.00e+000 2.34e+001 \n",
      "  4200|5.70e-004 2.64e-004 1.64e-006 2.27e+000 2.27e+000 0.00e+000 2.40e+001 \n",
      "  4300|5.73e-004 2.71e-004 1.65e-006 2.27e+000 2.27e+000 0.00e+000 2.46e+001 \n",
      "  4400|1.07e-004 1.35e-004 3.53e-006 2.28e+000 2.28e+000 0.00e+000 2.50e+001 \n",
      "  4420|6.34e-005 8.72e-005 9.68e-007 2.28e+000 2.28e+000 0.00e+000 2.51e+001 \n",
      "----------------------------------------------------------------------------\n",
      "Status: Solved\n",
      "Timing: Total solve time: 2.51e+001s\n",
      "\tLin-sys: nnz in L factor: 106618, avg solve time: 6.59e-004s\n",
      "\tCones: avg projection time: 4.52e-003s\n",
      "----------------------------------------------------------------------------\n",
      "Error metrics:\n",
      "dist(s, K) = 1.4252e-015, dist(y, K*) = 1.2538e-009, s'y/m = 1.1442e-013\n",
      "|Ax + s - b|_2 / (1 + |b|_2) = 6.3433e-005\n",
      "|A'y + c|_2 / (1 + |c|_2) = 8.7154e-005\n",
      "|c'x + b'y| / (1 + |c'x| + |b'y|) = 9.6826e-007\n",
      "----------------------------------------------------------------------------\n",
      "c'x = 2.2763, -b'y = 2.2763\n",
      "============================================================================\n"
     ]
    },
    {
     "data": {
      "text/plain": [
       ":Optimal"
      ]
     },
     "execution_count": 2,
     "metadata": {},
     "output_type": "execute_result"
    }
   ],
   "source": [
    "m = Model(solver=SCSSolver())\n",
    "\n",
    "@variable(m, γ)\n",
    "\n",
    "a = generator(:a)\n",
    "b = generator(:b)\n",
    "c = generator(:c)\n",
    "x = generator(:x)\n",
    "y = generator(:y)\n",
    "v = defPolynomial(m, [:a, :b, :c, :x, :y], 5)\n",
    "#w = defPolynomial(m, [:a, :b, :c, :x, :y], 6)\n",
    "#r = defPolynomial(m, [:a, :b, :c, :x, :y], 7)\n",
    "s = defPolynomial(m, [:a, :b, :c, :x, :y], 4)\n",
    "p = a^8 + + 4b^8 - 3b^2*c^3 + c^8 + 2x^4 + 5y^4 - 2x^2 - 3y^2 - 3a^2\n",
    "f1 = 4a + b^2 + 7c^3 + x^3 - 4y^2 - 1\n",
    "#f2 = a^2 - 4b^2 + c + x - 5y\n",
    "#f3 = a + b - c +2x + 14y\n",
    "f4 = -3a^4 + b^3 - c^4 + x^2 - 12y^4\n",
    "\n",
    "@objective(m, Max, γ)\n",
    "\n",
    "addSoSConstraint(m, p - γ + v*f1 + s*f4)\n",
    "\n",
    "solve(m)"
   ]
  },
  {
   "cell_type": "code",
   "execution_count": 3,
   "metadata": {},
   "outputs": [
    {
     "data": {
      "text/html": [
       "-2.2762684695738846"
      ],
      "text/plain": [
       "-2.2762684695738846"
      ]
     },
     "execution_count": 3,
     "metadata": {},
     "output_type": "execute_result"
    }
   ],
   "source": [
    "getvalue(γ)"
   ]
  },
  {
   "cell_type": "code",
   "execution_count": 4,
   "metadata": {},
   "outputs": [
    {
     "name": "stdout",
     "output_type": "stream",
     "text": [
      "Problem\n",
      "  Name                   :                 \n",
      "  Objective sense        : min             \n",
      "  Type                   : CONIC (conic optimization problem)\n",
      "  Constraints            : 17163           \n",
      "  Cones                  : 0               \n",
      "  Scalar variables       : 16255           \n",
      "  Matrix variables       : 1               \n",
      "  Integer variables      : 0               \n",
      "\n",
      "Optimizer started.\n",
      "Conic interior-point optimizer started.\n",
      "Presolve started.\n",
      "Linear dependency checker started.\n",
      "Linear dependency checker terminated.\n",
      "Eliminator started.\n",
      "Freed constraints in eliminator : 9110\n",
      "Eliminator terminated.\n",
      "Eliminator started.\n",
      "Freed constraints in eliminator : 0\n",
      "Eliminator terminated.\n",
      "Eliminator - tries                  : 2                 time                   : 0.00            \n",
      "Lin. dep.  - tries                  : 1                 time                   : 0.02            \n",
      "Lin. dep.  - number                 : 0               \n",
      "Presolve terminated. Time: 0.06    \n",
      "Optimizer  - threads                : 4               \n",
      "Optimizer  - solved problem         : the primal      \n",
      "Optimizer  - Constraints            : 8052\n",
      "Optimizer  - Cones                  : 1\n",
      "Optimizer  - Scalar variables       : 7145              conic                  : 7145            \n",
      "Optimizer  - Semi-definite variables: 1                 scalarized             : 8001            \n",
      "Factor     - setup time             : 9.22              dense det. time        : 0.00            \n",
      "Factor     - ML order time          : 4.33              GP order time          : 0.00            \n",
      "Factor     - nonzeros before factor : 3.20e+007         after factor           : 3.20e+007       \n",
      "Factor     - dense dim.             : 2                 flops                  : 1.71e+011       \n",
      "ITE PFEAS    DFEAS    GFEAS    PRSTATUS   POBJ              DOBJ              MU       TIME  \n",
      "0   1.0e+000 1.0e+000 1.0e+000 0.00e+000  0.000000000e+000  0.000000000e+000  1.0e+000 9.30  \n",
      "1   4.6e-001 4.6e-001 4.9e-001 -1.72e-001 1.202177822e+000  2.055138341e+000  4.6e-001 13.80 \n",
      "2   7.1e-002 7.1e-002 7.4e-001 8.76e-001  2.615947998e+000  2.452054381e+000  7.1e-002 18.27 \n",
      "3   2.2e-002 2.2e-002 3.8e-001 1.50e+000  2.050310756e+000  2.016105958e+000  2.2e-002 22.41 \n",
      "4   3.4e-003 3.4e-003 1.1e-001 1.08e+000  2.256500948e+000  2.252954200e+000  3.4e-003 27.73 \n",
      "5   1.3e-004 1.3e-004 5.4e-002 1.16e+000  2.275058007e+000  2.274830719e+000  1.3e-004 32.78 \n",
      "6   1.4e-006 1.4e-006 3.1e-003 1.00e+000  2.276884826e+000  2.276883000e+000  1.4e-006 37.42 \n",
      "7   1.0e-010 5.8e-011 3.3e-011 1.00e+000  2.276901949e+000  2.276901949e+000  5.0e-011 41.75 \n",
      "Interior-point optimizer terminated. Time: 41.80. \n",
      "\n",
      "Optimizer terminated. Time: 41.83   \n",
      "\n",
      "Interior-point solution summary\n",
      "  Problem status  : PRIMAL_AND_DUAL_FEASIBLE\n",
      "  Solution status : OPTIMAL\n",
      "  Primal.  obj: 2.2769019492e+000   nrm: 5e+000   Viol.  con: 9e-010   var: 0e+000   barvar: 0e+000 \n",
      "  Dual.    obj: 2.2769019491e+000   nrm: 1e+000   Viol.  con: 0e+000   var: 8e-012   barvar: 5e-011 \n"
     ]
    },
    {
     "data": {
      "text/plain": [
       ":Optimal"
      ]
     },
     "execution_count": 4,
     "metadata": {},
     "output_type": "execute_result"
    }
   ],
   "source": [
    "m = Model(solver=MosekSolver())\n",
    "\n",
    "@variable(m, γ)\n",
    "\n",
    "a = generator(:a)\n",
    "b = generator(:b)\n",
    "c = generator(:c)\n",
    "x = generator(:x)\n",
    "y = generator(:y)\n",
    "v = defPolynomial(m, [:a, :b, :c, :x, :y], 5)\n",
    "#w = defPolynomial(m, [:a, :b, :c, :x, :y], 6)\n",
    "#r = defPolynomial(m, [:a, :b, :c, :x, :y], 7)\n",
    "s = defPolynomial(m, [:a, :b, :c, :x, :y], 4)\n",
    "p = a^8 + + 4b^8 - 3b^2*c^3 + c^8 + 2x^4 + 5y^4 - 2x^2 - 3y^2 - 3a^2\n",
    "f1 = 4a + b^2 + 7c^3 + x^3 - 4y^2 - 1\n",
    "#f2 = a^2 - 4b^2 + c + x - 5y\n",
    "#f3 = a + b - c +2x + 14y\n",
    "f4 = -3a^4 + b^3 - c^4 + x^2 - 12y^4\n",
    "\n",
    "@objective(m, Max, γ)\n",
    "\n",
    "addSoSConstraint(m, p - γ + v*f1 + s*f4)\n",
    "\n",
    "solve(m)"
   ]
  },
  {
   "cell_type": "code",
   "execution_count": 5,
   "metadata": {},
   "outputs": [
    {
     "data": {
      "text/html": [
       "-2.276901949169049"
      ],
      "text/plain": [
       "-2.276901949169049"
      ]
     },
     "execution_count": 5,
     "metadata": {},
     "output_type": "execute_result"
    }
   ],
   "source": [
    "getvalue(γ)"
   ]
  }
 ],
 "metadata": {
  "kernelspec": {
   "display_name": "Julia 0.6.2",
   "language": "julia",
   "name": "julia-0.6"
  },
  "language_info": {
   "file_extension": ".jl",
   "mimetype": "application/julia",
   "name": "julia",
   "version": "0.6.2"
  }
 },
 "nbformat": 4,
 "nbformat_minor": 2
}
