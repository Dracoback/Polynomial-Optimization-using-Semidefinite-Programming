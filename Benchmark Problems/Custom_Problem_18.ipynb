{
 "cells": [
  {
   "cell_type": "code",
   "execution_count": 16,
   "metadata": {
    "collapsed": true
   },
   "outputs": [],
   "source": [
    "# Import packages.\n",
    "using JuMP, SCS, Mayday, Mosek"
   ]
  },
  {
   "cell_type": "code",
   "execution_count": 17,
   "metadata": {},
   "outputs": [
    {
     "name": "stdout",
     "output_type": "stream",
     "text": [
      "----------------------------------------------------------------------------\n",
      "\tSCS v1.1.5 - Splitting Conic Solver\n",
      "\t(c) Brendan O'Donoghue, Stanford University, 2012\n",
      "----------------------------------------------------------------------------\n",
      "Lin-sys: sparse-direct, nnz in A = 10297\n",
      "eps = 1.00e-004, alpha = 1.80, max_iters = 20000, normalize = 1, scale = 5.00\n",
      "Variables n = 3313, constraints m = 3422\n",
      "Cones:\tprimal zero / dual free vars: 1826\n",
      "\tsd vars: 1596, sd blks: 1\n",
      "Setup time: 2.75e-003s\n",
      "----------------------------------------------------------------------------\n",
      " Iter | pri res | dua res | rel gap | pri obj | dua obj | kap/tau | time (s)\n",
      "----------------------------------------------------------------------------\n",
      "     0|1.#Je+000 1.#Je+000 -1.#Je+000 1.#Je+000 1.#Je+000 1.#Je+000 4.33e-003 \n",
      "   100|1.20e-003 7.55e-004 5.14e-005 1.32e+001 1.32e+001 0.00e+000 1.87e-001 \n",
      "   200|1.17e-003 5.38e-004 7.88e-005 1.32e+001 1.32e+001 0.00e+000 3.64e-001 \n",
      "   300|1.35e-003 7.33e-004 1.12e-004 1.32e+001 1.32e+001 3.04e-016 5.35e-001 \n",
      "   400|5.30e-004 5.22e-004 1.76e-006 1.32e+001 1.32e+001 0.00e+000 7.04e-001 \n",
      "   500|4.35e-004 1.50e-004 2.35e-005 1.32e+001 1.32e+001 0.00e+000 8.65e-001 \n",
      "   600|4.44e-004 1.76e-004 2.75e-005 1.32e+001 1.32e+001 0.00e+000 1.03e+000 \n",
      "   700|4.54e-004 2.03e-004 3.19e-005 1.32e+001 1.32e+001 0.00e+000 1.20e+000 \n",
      "   800|4.64e-004 2.32e-004 3.64e-005 1.32e+001 1.32e+001 0.00e+000 1.36e+000 \n",
      "   900|4.76e-004 2.62e-004 4.11e-005 1.32e+001 1.32e+001 0.00e+000 1.53e+000 \n",
      "  1000|2.96e-004 5.74e-004 3.71e-005 1.32e+001 1.32e+001 0.00e+000 1.70e+000 \n",
      "  1100|8.89e-005 2.15e-004 1.49e-007 1.32e+001 1.32e+001 0.00e+000 1.86e+000 \n",
      "  1160|6.06e-005 9.89e-005 3.90e-006 1.32e+001 1.32e+001 0.00e+000 1.95e+000 \n",
      "----------------------------------------------------------------------------\n",
      "Status: Solved\n",
      "Timing: Total solve time: 1.95e+000s\n",
      "\tLin-sys: nnz in L factor: 27105, avg solve time: 1.09e-004s\n",
      "\tCones: avg projection time: 1.52e-003s\n",
      "----------------------------------------------------------------------------\n",
      "Error metrics:\n",
      "dist(s, K) = 3.1948e-016, dist(y, K*) = 2.2383e-009, s'y/m = 4.0515e-014\n",
      "|Ax + s - b|_2 / (1 + |b|_2) = 6.0599e-005\n",
      "|A'y + c|_2 / (1 + |c|_2) = 9.8895e-005\n",
      "|c'x + b'y| / (1 + |c'x| + |b'y|) = 3.8957e-006\n",
      "----------------------------------------------------------------------------\n",
      "c'x = 13.2014, -b'y = 13.2015\n",
      "============================================================================\n"
     ]
    },
    {
     "data": {
      "text/plain": [
       ":Optimal"
      ]
     },
     "execution_count": 17,
     "metadata": {},
     "output_type": "execute_result"
    }
   ],
   "source": [
    "m = Model(solver=SCSSolver())\n",
    "\n",
    "@variable(m, γ)\n",
    "\n",
    "x = generator(:x)\n",
    "y = generator(:y)\n",
    "z = generator(:z)\n",
    "v = defPolynomial(m, [:x, :y, :z], 5)\n",
    "w = defPolynomial(m, [:x, :y, :z], 7)\n",
    "p = 2x^10 - x^4 + 3y^10 + 2z^4 + z^8 - 13\n",
    "f = x^5 - 4y^3 + 10z^2 - 1\n",
    "g = 2x^3 - x + 2y + 3y^2 - x*z + z^3\n",
    "\n",
    "@objective(m, Max, γ)\n",
    "\n",
    "addSoSConstraint(m, p - γ + v*f + w*g)\n",
    "\n",
    "solve(m)"
   ]
  },
  {
   "cell_type": "code",
   "execution_count": 18,
   "metadata": {},
   "outputs": [
    {
     "data": {
      "text/html": [
       "-13.201440459254016"
      ],
      "text/plain": [
       "-13.201440459254016"
      ]
     },
     "execution_count": 18,
     "metadata": {},
     "output_type": "execute_result"
    }
   ],
   "source": [
    "getvalue(γ)"
   ]
  },
  {
   "cell_type": "code",
   "execution_count": 19,
   "metadata": {},
   "outputs": [
    {
     "name": "stdout",
     "output_type": "stream",
     "text": [
      "Problem\n",
      "  Name                   :                 \n",
      "  Objective sense        : min             \n",
      "  Type                   : CONIC (conic optimization problem)\n",
      "  Constraints            : 3422            \n",
      "  Cones                  : 0               \n",
      "  Scalar variables       : 3313            \n",
      "  Matrix variables       : 1               \n",
      "  Integer variables      : 0               \n",
      "\n",
      "Optimizer started.\n",
      "Conic interior-point optimizer started.\n",
      "Presolve started.\n",
      "Linear dependency checker started.\n",
      "Linear dependency checker terminated.\n",
      "Eliminator started.\n",
      "Freed constraints in eliminator : 1789\n",
      "Eliminator terminated.\n",
      "Eliminator started.\n",
      "Freed constraints in eliminator : 0\n",
      "Eliminator terminated.\n",
      "Eliminator - tries                  : 2                 time                   : 0.00            \n",
      "Lin. dep.  - tries                  : 1                 time                   : 0.00            \n",
      "Lin. dep.  - number                 : 0               \n",
      "Presolve terminated. Time: 0.01    \n",
      "Optimizer  - threads                : 4               \n",
      "Optimizer  - solved problem         : the primal      \n",
      "Optimizer  - Constraints            : 1632\n",
      "Optimizer  - Cones                  : 1\n",
      "Optimizer  - Scalar variables       : 1524              conic                  : 1524            \n",
      "Optimizer  - Semi-definite variables: 1                 scalarized             : 1596            \n",
      "Factor     - setup time             : 0.16              dense det. time        : 0.00            \n",
      "Factor     - ML order time          : 0.06              GP order time          : 0.00            \n",
      "Factor     - nonzeros before factor : 1.28e+006         after factor           : 1.29e+006       \n",
      "Factor     - dense dim.             : 2                 flops                  : 1.37e+009       \n",
      "ITE PFEAS    DFEAS    GFEAS    PRSTATUS   POBJ              DOBJ              MU       TIME  \n",
      "0   7.5e+000 1.0e+000 1.0e+000 0.00e+000  0.000000000e+000  0.000000000e+000  1.0e+000 0.19  \n",
      "1   3.2e+000 4.2e-001 3.1e-001 -1.01e+000 2.595945591e+000  6.765463643e+000  4.2e-001 0.30  \n",
      "2   3.4e-001 4.6e-002 3.1e-001 1.11e+000  1.309006889e+001  1.299976040e+001  4.6e-002 0.41  \n",
      "3   1.8e-002 2.4e-003 7.4e-002 1.68e+000  1.319107267e+001  1.318894241e+001  2.4e-003 0.53  \n",
      "4   3.2e-003 4.2e-004 3.5e-002 1.15e+000  1.319862602e+001  1.319816790e+001  4.2e-004 0.61  \n",
      "5   2.5e-004 3.4e-005 9.9e-003 1.01e+000  1.320146528e+001  1.320142896e+001  3.4e-005 0.70  \n",
      "6   1.4e-008 1.8e-009 1.8e-009 1.00e+000  1.320139814e+001  1.320139814e+001  1.8e-009 0.80  \n",
      "Interior-point optimizer terminated. Time: 0.80. \n",
      "\n",
      "Optimizer terminated. Time: 0.81    \n",
      "\n",
      "Interior-point solution summary\n",
      "  Problem status  : PRIMAL_AND_DUAL_FEASIBLE\n",
      "  Solution status : OPTIMAL\n",
      "  Primal.  obj: 1.3201398137e+001   nrm: 1e+001   Viol.  con: 2e-008   var: 0e+000   barvar: 0e+000 \n",
      "  Dual.    obj: 1.3201398135e+001   nrm: 1e+000   Viol.  con: 0e+000   var: 8e-010   barvar: 2e-009 \n"
     ]
    },
    {
     "data": {
      "text/plain": [
       ":Optimal"
      ]
     },
     "execution_count": 19,
     "metadata": {},
     "output_type": "execute_result"
    }
   ],
   "source": [
    "m = Model(solver=MosekSolver())\n",
    "\n",
    "@variable(m, γ)\n",
    "\n",
    "x = generator(:x)\n",
    "y = generator(:y)\n",
    "z = generator(:z)\n",
    "v = defPolynomial(m, [:x, :y, :z], 5)\n",
    "w = defPolynomial(m, [:x, :y, :z], 7)\n",
    "p = 2x^10 - x^4 + 3y^10 + 2z^4 + z^8 - 13\n",
    "f = x^5 - 4y^3 + 10z^2 - 1\n",
    "g = 2x^3 - x + 2y + 3y^2 - x*z + z^3\n",
    "\n",
    "@objective(m, Max, γ)\n",
    "\n",
    "addSoSConstraint(m, p - γ + v*f + w*g)\n",
    "\n",
    "solve(m)"
   ]
  },
  {
   "cell_type": "code",
   "execution_count": 20,
   "metadata": {},
   "outputs": [
    {
     "data": {
      "text/html": [
       "-13.201398137482537"
      ],
      "text/plain": [
       "-13.201398137482537"
      ]
     },
     "execution_count": 20,
     "metadata": {},
     "output_type": "execute_result"
    }
   ],
   "source": [
    "getvalue(γ)"
   ]
  }
 ],
 "metadata": {
  "kernelspec": {
   "display_name": "Julia 0.6.2",
   "language": "julia",
   "name": "julia-0.6"
  },
  "language_info": {
   "file_extension": ".jl",
   "mimetype": "application/julia",
   "name": "julia",
   "version": "0.6.0"
  }
 },
 "nbformat": 4,
 "nbformat_minor": 2
}
