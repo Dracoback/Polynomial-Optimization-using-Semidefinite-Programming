{
 "cells": [
  {
   "cell_type": "code",
   "execution_count": 9,
   "metadata": {
    "collapsed": true
   },
   "outputs": [],
   "source": [
    "# Import packages.\n",
    "using JuMP, SCS, Mayday, Mosek, Plots"
   ]
  },
  {
   "cell_type": "code",
   "execution_count": 10,
   "metadata": {},
   "outputs": [
    {
     "name": "stderr",
     "output_type": "stream",
     "text": [
      "\u001b[1m\u001b[33mWARNING: \u001b[39m\u001b[22m\u001b[33mArray(::Type{T}, m::Int, n::Int) where T is deprecated, use Array{T}(m, n) instead.\u001b[39m\n",
      "Stacktrace:\n",
      " [1] \u001b[1mdepwarn\u001b[22m\u001b[22m\u001b[1m(\u001b[22m\u001b[22m::String, ::Symbol\u001b[1m)\u001b[22m\u001b[22m at \u001b[1m.\\deprecated.jl:70\u001b[22m\u001b[22m\n",
      " [2] \u001b[1mArray\u001b[22m\u001b[22m\u001b[1m(\u001b[22m\u001b[22m::Type{Int64}, ::Int64, ::Int64\u001b[1m)\u001b[22m\u001b[22m at \u001b[1m.\\deprecated.jl:57\u001b[22m\u001b[22m\n",
      " [3] \u001b[1mMultiPoly.PolyUnion\u001b[22m\u001b[22m\u001b[1m(\u001b[22m\u001b[22m::Array{MultiPoly.MPoly{Float64},1}\u001b[1m)\u001b[22m\u001b[22m at \u001b[1mC:\\Users\\Michael\\.julia\\v0.6\\MultiPoly\\src\\polyunion.jl:9\u001b[22m\u001b[22m\n",
      " [4] \u001b[1m*\u001b[22m\u001b[22m\u001b[1m(\u001b[22m\u001b[22m::MultiPoly.MPoly{Float64}, ::MultiPoly.MPoly{Float64}\u001b[1m)\u001b[22m\u001b[22m at \u001b[1mC:\\Users\\Michael\\.julia\\v0.6\\MultiPoly\\src\\mpolyarithmetic.jl:63\u001b[22m\u001b[22m\n",
      " [5] \u001b[1m_mapreduce\u001b[22m\u001b[22m\u001b[1m(\u001b[22m\u001b[22m::Base.#identity, ::Base.#*, ::IndexLinear, ::Array{MultiPoly.MPoly{Float64},1}\u001b[1m)\u001b[22m\u001b[22m at \u001b[1m.\\reduce.jl:273\u001b[22m\u001b[22m\n",
      " [6] \u001b[1m_collect\u001b[22m\u001b[22m\u001b[1m(\u001b[22m\u001b[22m::Array{Array{Int64,1},1}, ::Base.Generator{Array{Array{Int64,1},1},Mayday.##1#3{Array{Symbol,1},Mayday.#monomial}}, ::Base.EltypeUnknown, ::Base.HasShape\u001b[1m)\u001b[22m\u001b[22m at \u001b[1m.\\array.jl:488\u001b[22m\u001b[22m\n",
      " [7] \u001b[1mdefSoSPolynomial\u001b[22m\u001b[22m\u001b[1m(\u001b[22m\u001b[22m::JuMP.Model, ::Array{Symbol,1}, ::Int64\u001b[1m)\u001b[22m\u001b[22m at \u001b[1mC:\\Users\\Michael\\.julia\\v0.6\\Mayday\\src\\Mayday.jl:83\u001b[22m\u001b[22m\n",
      " [8] \u001b[1minclude_string\u001b[22m\u001b[22m\u001b[1m(\u001b[22m\u001b[22m::String, ::String\u001b[1m)\u001b[22m\u001b[22m at \u001b[1m.\\loading.jl:522\u001b[22m\u001b[22m\n",
      " [9] \u001b[1minclude_string\u001b[22m\u001b[22m\u001b[1m(\u001b[22m\u001b[22m::Module, ::String, ::String\u001b[1m)\u001b[22m\u001b[22m at \u001b[1mC:\\Users\\Michael\\.julia\\v0.6\\Compat\\src\\Compat.jl:71\u001b[22m\u001b[22m\n",
      " [10] \u001b[1mexecute_request\u001b[22m\u001b[22m\u001b[1m(\u001b[22m\u001b[22m::ZMQ.Socket, ::IJulia.Msg\u001b[1m)\u001b[22m\u001b[22m at \u001b[1mC:\\Users\\Michael\\.julia\\v0.6\\IJulia\\src\\execute_request.jl:158\u001b[22m\u001b[22m\n",
      " [11] \u001b[1m(::Compat.#inner#17{Array{Any,1},IJulia.#execute_request,Tuple{ZMQ.Socket,IJulia.Msg}})\u001b[22m\u001b[22m\u001b[1m(\u001b[22m\u001b[22m\u001b[1m)\u001b[22m\u001b[22m at \u001b[1mC:\\Users\\Michael\\.julia\\v0.6\\Compat\\src\\Compat.jl:385\u001b[22m\u001b[22m\n",
      " [12] \u001b[1meventloop\u001b[22m\u001b[22m\u001b[1m(\u001b[22m\u001b[22m::ZMQ.Socket\u001b[1m)\u001b[22m\u001b[22m at \u001b[1mC:\\Users\\Michael\\.julia\\v0.6\\IJulia\\src\\eventloop.jl:8\u001b[22m\u001b[22m\n",
      " [13] \u001b[1m(::IJulia.##14#17)\u001b[22m\u001b[22m\u001b[1m(\u001b[22m\u001b[22m\u001b[1m)\u001b[22m\u001b[22m at \u001b[1m.\\task.jl:335\u001b[22m\u001b[22m\n",
      "while loading In[10], in expression starting on line 18\n",
      "\u001b[1m\u001b[33mWARNING: \u001b[39m\u001b[22m\u001b[33mArray(::Type{T}, m::Int, n::Int) where T is deprecated, use Array{T}(m, n) instead.\u001b[39m\n",
      "Stacktrace:\n",
      " [1] \u001b[1mdepwarn\u001b[22m\u001b[22m\u001b[1m(\u001b[22m\u001b[22m::String, ::Symbol\u001b[1m)\u001b[22m\u001b[22m at \u001b[1m.\\deprecated.jl:70\u001b[22m\u001b[22m\n",
      " [2] \u001b[1mArray\u001b[22m\u001b[22m\u001b[1m(\u001b[22m\u001b[22m::Type{Int64}, ::Int64, ::Int64\u001b[1m)\u001b[22m\u001b[22m at \u001b[1m.\\deprecated.jl:57\u001b[22m\u001b[22m\n",
      " [3] \u001b[1mMultiPoly.PolyUnion\u001b[22m\u001b[22m\u001b[1m(\u001b[22m\u001b[22m::Array{MultiPoly.MPoly{Float64},1}\u001b[1m)\u001b[22m\u001b[22m at \u001b[1mC:\\Users\\Michael\\.julia\\v0.6\\MultiPoly\\src\\polyunion.jl:9\u001b[22m\u001b[22m\n",
      " [4] \u001b[1m*\u001b[22m\u001b[22m\u001b[1m(\u001b[22m\u001b[22m::MultiPoly.MPoly{Float64}, ::MultiPoly.MPoly{Float64}\u001b[1m)\u001b[22m\u001b[22m at \u001b[1mC:\\Users\\Michael\\.julia\\v0.6\\MultiPoly\\src\\mpolyarithmetic.jl:63\u001b[22m\u001b[22m\n",
      " [5] \u001b[1m_mapreduce\u001b[22m\u001b[22m\u001b[1m(\u001b[22m\u001b[22m::Base.#identity, ::Base.#*, ::IndexLinear, ::Array{MultiPoly.MPoly{Float64},1}\u001b[1m)\u001b[22m\u001b[22m at \u001b[1m.\\reduce.jl:273\u001b[22m\u001b[22m\n",
      " [6] \u001b[1m_collect\u001b[22m\u001b[22m\u001b[1m(\u001b[22m\u001b[22m::Array{Array{Int64,1},1}, ::Base.Generator{Array{Array{Int64,1},1},Mayday.##1#3{Array{Symbol,1},Mayday.#monomial}}, ::Base.EltypeUnknown, ::Base.HasShape\u001b[1m)\u001b[22m\u001b[22m at \u001b[1m.\\array.jl:488\u001b[22m\u001b[22m\n",
      " [7] \u001b[1mdefSoSPolynomial\u001b[22m\u001b[22m\u001b[1m(\u001b[22m\u001b[22m::JuMP.Model, ::Array{Symbol,1}, ::Int64\u001b[1m)\u001b[22m\u001b[22m at \u001b[1mC:\\Users\\Michael\\.julia\\v0.6\\Mayday\\src\\Mayday.jl:83\u001b[22m\u001b[22m\n",
      " [8] \u001b[1minclude_string\u001b[22m\u001b[22m\u001b[1m(\u001b[22m\u001b[22m::String, ::String\u001b[1m)\u001b[22m\u001b[22m at \u001b[1m.\\loading.jl:522\u001b[22m\u001b[22m\n",
      " [9] \u001b[1minclude_string\u001b[22m\u001b[22m\u001b[1m(\u001b[22m\u001b[22m::Module, ::String, ::String\u001b[1m)\u001b[22m\u001b[22m at \u001b[1mC:\\Users\\Michael\\.julia\\v0.6\\Compat\\src\\Compat.jl:71\u001b[22m\u001b[22m\n",
      " [10] \u001b[1mexecute_request\u001b[22m\u001b[22m\u001b[1m(\u001b[22m\u001b[22m::ZMQ.Socket, ::IJulia.Msg\u001b[1m)\u001b[22m\u001b[22m at \u001b[1mC:\\Users\\Michael\\.julia\\v0.6\\IJulia\\src\\execute_request.jl:158\u001b[22m\u001b[22m\n",
      " [11] \u001b[1m(::Compat.#inner#17{Array{Any,1},IJulia.#execute_request,Tuple{ZMQ.Socket,IJulia.Msg}})\u001b[22m\u001b[22m\u001b[1m(\u001b[22m\u001b[22m\u001b[1m)\u001b[22m\u001b[22m at \u001b[1mC:\\Users\\Michael\\.julia\\v0.6\\Compat\\src\\Compat.jl:385\u001b[22m\u001b[22m\n",
      " [12] \u001b[1meventloop\u001b[22m\u001b[22m\u001b[1m(\u001b[22m\u001b[22m::ZMQ.Socket\u001b[1m)\u001b[22m\u001b[22m at \u001b[1mC:\\Users\\Michael\\.julia\\v0.6\\IJulia\\src\\eventloop.jl:8\u001b[22m\u001b[22m\n",
      " [13] \u001b[1m(::IJulia.##14#17)\u001b[22m\u001b[22m\u001b[1m(\u001b[22m\u001b[22m\u001b[1m)\u001b[22m\u001b[22m at \u001b[1m.\\task.jl:335\u001b[22m\u001b[22m\n",
      "while loading In[10], in expression starting on line 19\n",
      "\u001b[1m\u001b[33mWARNING: \u001b[39m\u001b[22m\u001b[33mArray(::Type{T}, m::Int, n::Int) where T is deprecated, use Array{T}(m, n) instead.\u001b[39m\n",
      "Stacktrace:\n",
      " [1] \u001b[1mdepwarn\u001b[22m\u001b[22m\u001b[1m(\u001b[22m\u001b[22m::String, ::Symbol\u001b[1m)\u001b[22m\u001b[22m at \u001b[1m.\\deprecated.jl:70\u001b[22m\u001b[22m\n",
      " [2] \u001b[1mArray\u001b[22m\u001b[22m\u001b[1m(\u001b[22m\u001b[22m::Type{Int64}, ::Int64, ::Int64\u001b[1m)\u001b[22m\u001b[22m at \u001b[1m.\\deprecated.jl:57\u001b[22m\u001b[22m\n",
      " [3] \u001b[1mMultiPoly.PolyUnion\u001b[22m\u001b[22m\u001b[1m(\u001b[22m\u001b[22m::Array{MultiPoly.MPoly{Float64},1}\u001b[1m)\u001b[22m\u001b[22m at \u001b[1mC:\\Users\\Michael\\.julia\\v0.6\\MultiPoly\\src\\polyunion.jl:9\u001b[22m\u001b[22m\n",
      " [4] \u001b[1m*\u001b[22m\u001b[22m\u001b[1m(\u001b[22m\u001b[22m::MultiPoly.MPoly{Float64}, ::MultiPoly.MPoly{Float64}\u001b[1m)\u001b[22m\u001b[22m at \u001b[1mC:\\Users\\Michael\\.julia\\v0.6\\MultiPoly\\src\\mpolyarithmetic.jl:63\u001b[22m\u001b[22m\n",
      " [5] \u001b[1m_mapreduce\u001b[22m\u001b[22m\u001b[1m(\u001b[22m\u001b[22m::Base.#identity, ::Base.#*, ::IndexLinear, ::Array{MultiPoly.MPoly{Float64},1}\u001b[1m)\u001b[22m\u001b[22m at \u001b[1m.\\reduce.jl:273\u001b[22m\u001b[22m\n",
      " [6] \u001b[1m_collect\u001b[22m\u001b[22m\u001b[1m(\u001b[22m\u001b[22m::Array{Array{Int64,1},1}, ::Base.Generator{Array{Array{Int64,1},1},Mayday.##1#3{Array{Symbol,1},Mayday.#monomial}}, ::Base.EltypeUnknown, ::Base.HasShape\u001b[1m)\u001b[22m\u001b[22m at \u001b[1m.\\array.jl:488\u001b[22m\u001b[22m\n",
      " [7] \u001b[1mdefSoSPolynomial\u001b[22m\u001b[22m\u001b[1m(\u001b[22m\u001b[22m::JuMP.Model, ::Array{Symbol,1}, ::Int64\u001b[1m)\u001b[22m\u001b[22m at \u001b[1mC:\\Users\\Michael\\.julia\\v0.6\\Mayday\\src\\Mayday.jl:83\u001b[22m\u001b[22m\n",
      " [8] \u001b[1minclude_string\u001b[22m\u001b[22m\u001b[1m(\u001b[22m\u001b[22m::String, ::String\u001b[1m)\u001b[22m\u001b[22m at \u001b[1m.\\loading.jl:522\u001b[22m\u001b[22m\n",
      " [9] \u001b[1minclude_string\u001b[22m\u001b[22m\u001b[1m(\u001b[22m\u001b[22m::Module, ::String, ::String\u001b[1m)\u001b[22m\u001b[22m at \u001b[1mC:\\Users\\Michael\\.julia\\v0.6\\Compat\\src\\Compat.jl:71\u001b[22m\u001b[22m\n",
      " [10] \u001b[1mexecute_request\u001b[22m\u001b[22m\u001b[1m(\u001b[22m\u001b[22m::ZMQ.Socket, ::IJulia.Msg\u001b[1m)\u001b[22m\u001b[22m at \u001b[1mC:\\Users\\Michael\\.julia\\v0.6\\IJulia\\src\\execute_request.jl:158\u001b[22m\u001b[22m\n",
      " [11] \u001b[1m(::Compat.#inner#17{Array{Any,1},IJulia.#execute_request,Tuple{ZMQ.Socket,IJulia.Msg}})\u001b[22m\u001b[22m\u001b[1m(\u001b[22m\u001b[22m\u001b[1m)\u001b[22m\u001b[22m at \u001b[1mC:\\Users\\Michael\\.julia\\v0.6\\Compat\\src\\Compat.jl:385\u001b[22m\u001b[22m\n",
      " [12] \u001b[1meventloop\u001b[22m\u001b[22m\u001b[1m(\u001b[22m\u001b[22m::ZMQ.Socket\u001b[1m)\u001b[22m\u001b[22m at \u001b[1mC:\\Users\\Michael\\.julia\\v0.6\\IJulia\\src\\eventloop.jl:8\u001b[22m\u001b[22m\n",
      " [13] \u001b[1m(::IJulia.##14#17)\u001b[22m\u001b[22m\u001b[1m(\u001b[22m\u001b[22m\u001b[1m)\u001b[22m\u001b[22m at \u001b[1m.\\task.jl:335\u001b[22m\u001b[22m\n",
      "while loading In[10], in expression starting on line 20\n",
      "\u001b[1m\u001b[33mWARNING: \u001b[39m\u001b[22m\u001b[33mArray(::Type{T}, m::Int, n::Int) where T is deprecated, use Array{T}(m, n) instead.\u001b[39m\n",
      "Stacktrace:\n",
      " [1] \u001b[1mdepwarn\u001b[22m\u001b[22m\u001b[1m(\u001b[22m\u001b[22m::String, ::Symbol\u001b[1m)\u001b[22m\u001b[22m at \u001b[1m.\\deprecated.jl:70\u001b[22m\u001b[22m\n",
      " [2] \u001b[1mArray\u001b[22m\u001b[22m\u001b[1m(\u001b[22m\u001b[22m::Type{Int64}, ::Int64, ::Int64\u001b[1m)\u001b[22m\u001b[22m at \u001b[1m.\\deprecated.jl:57\u001b[22m\u001b[22m\n",
      " [3] \u001b[1mMultiPoly.PolyUnion\u001b[22m\u001b[22m\u001b[1m(\u001b[22m\u001b[22m::Array{MultiPoly.MPoly{Float64},1}\u001b[1m)\u001b[22m\u001b[22m at \u001b[1mC:\\Users\\Michael\\.julia\\v0.6\\MultiPoly\\src\\polyunion.jl:9\u001b[22m\u001b[22m\n",
      " [4] \u001b[1m*\u001b[22m\u001b[22m\u001b[1m(\u001b[22m\u001b[22m::MultiPoly.MPoly{Float64}, ::MultiPoly.MPoly{Float64}\u001b[1m)\u001b[22m\u001b[22m at \u001b[1mC:\\Users\\Michael\\.julia\\v0.6\\MultiPoly\\src\\mpolyarithmetic.jl:63\u001b[22m\u001b[22m\n",
      " [5] \u001b[1m_mapreduce\u001b[22m\u001b[22m\u001b[1m(\u001b[22m\u001b[22m::Base.#identity, ::Base.#*, ::IndexLinear, ::Array{MultiPoly.MPoly{Float64},1}\u001b[1m)\u001b[22m\u001b[22m at \u001b[1m.\\reduce.jl:273\u001b[22m\u001b[22m\n",
      " [6] \u001b[1m_collect\u001b[22m\u001b[22m\u001b[1m(\u001b[22m\u001b[22m::Array{Array{Int64,1},1}, ::Base.Generator{Array{Array{Int64,1},1},Mayday.##1#3{Array{Symbol,1},Mayday.#monomial}}, ::Base.EltypeUnknown, ::Base.HasShape\u001b[1m)\u001b[22m\u001b[22m at \u001b[1m.\\array.jl:488\u001b[22m\u001b[22m\n",
      " [7] \u001b[1mdefSoSPolynomial\u001b[22m\u001b[22m\u001b[1m(\u001b[22m\u001b[22m::JuMP.Model, ::Array{Symbol,1}, ::Int64\u001b[1m)\u001b[22m\u001b[22m at \u001b[1mC:\\Users\\Michael\\.julia\\v0.6\\Mayday\\src\\Mayday.jl:83\u001b[22m\u001b[22m\n",
      " [8] \u001b[1minclude_string\u001b[22m\u001b[22m\u001b[1m(\u001b[22m\u001b[22m::String, ::String\u001b[1m)\u001b[22m\u001b[22m at \u001b[1m.\\loading.jl:522\u001b[22m\u001b[22m\n",
      " [9] \u001b[1minclude_string\u001b[22m\u001b[22m\u001b[1m(\u001b[22m\u001b[22m::Module, ::String, ::String\u001b[1m)\u001b[22m\u001b[22m at \u001b[1mC:\\Users\\Michael\\.julia\\v0.6\\Compat\\src\\Compat.jl:71\u001b[22m\u001b[22m\n",
      " [10] \u001b[1mexecute_request\u001b[22m\u001b[22m\u001b[1m(\u001b[22m\u001b[22m::ZMQ.Socket, ::IJulia.Msg\u001b[1m)\u001b[22m\u001b[22m at \u001b[1mC:\\Users\\Michael\\.julia\\v0.6\\IJulia\\src\\execute_request.jl:158\u001b[22m\u001b[22m\n",
      " [11] \u001b[1m(::Compat.#inner#17{Array{Any,1},IJulia.#execute_request,Tuple{ZMQ.Socket,IJulia.Msg}})\u001b[22m\u001b[22m\u001b[1m(\u001b[22m\u001b[22m\u001b[1m)\u001b[22m\u001b[22m at \u001b[1mC:\\Users\\Michael\\.julia\\v0.6\\Compat\\src\\Compat.jl:385\u001b[22m\u001b[22m\n",
      " [12] \u001b[1meventloop\u001b[22m\u001b[22m\u001b[1m(\u001b[22m\u001b[22m::ZMQ.Socket\u001b[1m)\u001b[22m\u001b[22m at \u001b[1mC:\\Users\\Michael\\.julia\\v0.6\\IJulia\\src\\eventloop.jl:8\u001b[22m\u001b[22m\n",
      " [13] \u001b[1m(::IJulia.##14#17)\u001b[22m\u001b[22m\u001b[1m(\u001b[22m\u001b[22m\u001b[1m)\u001b[22m\u001b[22m at \u001b[1m.\\task.jl:335\u001b[22m\u001b[22m\n",
      "while loading In[10], in expression starting on line 21\n",
      "\u001b[1m\u001b[33mWARNING: \u001b[39m\u001b[22m\u001b[33mArray(::Type{T}, m::Int, n::Int) where T is deprecated, use Array{T}(m, n) instead.\u001b[39m\n",
      "Stacktrace:\n",
      " [1] \u001b[1mdepwarn\u001b[22m\u001b[22m\u001b[1m(\u001b[22m\u001b[22m::String, ::Symbol\u001b[1m)\u001b[22m\u001b[22m at \u001b[1m.\\deprecated.jl:70\u001b[22m\u001b[22m\n",
      " [2] \u001b[1mArray\u001b[22m\u001b[22m\u001b[1m(\u001b[22m\u001b[22m::Type{Int64}, ::Int64, ::Int64\u001b[1m)\u001b[22m\u001b[22m at \u001b[1m.\\deprecated.jl:57\u001b[22m\u001b[22m\n",
      " [3] \u001b[1mMultiPoly.PolyUnion\u001b[22m\u001b[22m\u001b[1m(\u001b[22m\u001b[22m::Array{MultiPoly.MPoly{Float64},1}\u001b[1m)\u001b[22m\u001b[22m at \u001b[1mC:\\Users\\Michael\\.julia\\v0.6\\MultiPoly\\src\\polyunion.jl:9\u001b[22m\u001b[22m\n",
      " [4] \u001b[1m*\u001b[22m\u001b[22m\u001b[1m(\u001b[22m\u001b[22m::MultiPoly.MPoly{Float64}, ::MultiPoly.MPoly{Float64}\u001b[1m)\u001b[22m\u001b[22m at \u001b[1mC:\\Users\\Michael\\.julia\\v0.6\\MultiPoly\\src\\mpolyarithmetic.jl:63\u001b[22m\u001b[22m\n",
      " [5] \u001b[1m_mapreduce\u001b[22m\u001b[22m\u001b[1m(\u001b[22m\u001b[22m::Base.#identity, ::Base.#*, ::IndexLinear, ::Array{MultiPoly.MPoly{Float64},1}\u001b[1m)\u001b[22m\u001b[22m at \u001b[1m.\\reduce.jl:273\u001b[22m\u001b[22m\n",
      " [6] \u001b[1m_collect\u001b[22m\u001b[22m\u001b[1m(\u001b[22m\u001b[22m::Array{Array{Int64,1},1}, ::Base.Generator{Array{Array{Int64,1},1},Mayday.##1#3{Array{Symbol,1},Mayday.#monomial}}, ::Base.EltypeUnknown, ::Base.HasShape\u001b[1m)\u001b[22m\u001b[22m at \u001b[1m.\\array.jl:488\u001b[22m\u001b[22m\n",
      " [7] \u001b[1mdefSoSPolynomial\u001b[22m\u001b[22m\u001b[1m(\u001b[22m\u001b[22m::JuMP.Model, ::Array{Symbol,1}, ::Int64\u001b[1m)\u001b[22m\u001b[22m at \u001b[1mC:\\Users\\Michael\\.julia\\v0.6\\Mayday\\src\\Mayday.jl:83\u001b[22m\u001b[22m\n",
      " [8] \u001b[1minclude_string\u001b[22m\u001b[22m\u001b[1m(\u001b[22m\u001b[22m::String, ::String\u001b[1m)\u001b[22m\u001b[22m at \u001b[1m.\\loading.jl:522\u001b[22m\u001b[22m\n",
      " [9] \u001b[1minclude_string\u001b[22m\u001b[22m\u001b[1m(\u001b[22m\u001b[22m::Module, ::String, ::String\u001b[1m)\u001b[22m\u001b[22m at \u001b[1mC:\\Users\\Michael\\.julia\\v0.6\\Compat\\src\\Compat.jl:71\u001b[22m\u001b[22m\n",
      " [10] \u001b[1mexecute_request\u001b[22m\u001b[22m\u001b[1m(\u001b[22m\u001b[22m::ZMQ.Socket, ::IJulia.Msg\u001b[1m)\u001b[22m\u001b[22m at \u001b[1mC:\\Users\\Michael\\.julia\\v0.6\\IJulia\\src\\execute_request.jl:158\u001b[22m\u001b[22m\n",
      " [11] \u001b[1m(::Compat.#inner#17{Array{Any,1},IJulia.#execute_request,Tuple{ZMQ.Socket,IJulia.Msg}})\u001b[22m\u001b[22m\u001b[1m(\u001b[22m\u001b[22m\u001b[1m)\u001b[22m\u001b[22m at \u001b[1mC:\\Users\\Michael\\.julia\\v0.6\\Compat\\src\\Compat.jl:385\u001b[22m\u001b[22m\n",
      " [12] \u001b[1meventloop\u001b[22m\u001b[22m\u001b[1m(\u001b[22m\u001b[22m::ZMQ.Socket\u001b[1m)\u001b[22m\u001b[22m at \u001b[1mC:\\Users\\Michael\\.julia\\v0.6\\IJulia\\src\\eventloop.jl:8\u001b[22m\u001b[22m\n",
      " [13] \u001b[1m(::IJulia.##14#17)\u001b[22m\u001b[22m\u001b[1m(\u001b[22m\u001b[22m\u001b[1m)\u001b[22m\u001b[22m at \u001b[1m.\\task.jl:335\u001b[22m\u001b[22m\n",
      "while loading In[10], in expression starting on line 22\n"
     ]
    },
    {
     "name": "stderr",
     "output_type": "stream",
     "text": [
      "\u001b[1m\u001b[33mWARNING: \u001b[39m\u001b[22m\u001b[33mArray(::Type{T}, m::Int, n::Int) where T is deprecated, use Array{T}(m, n) instead.\u001b[39m\n",
      "Stacktrace:\n",
      " [1] \u001b[1mdepwarn\u001b[22m\u001b[22m\u001b[1m(\u001b[22m\u001b[22m::String, ::Symbol\u001b[1m)\u001b[22m\u001b[22m at \u001b[1m.\\deprecated.jl:70\u001b[22m\u001b[22m\n",
      " [2] \u001b[1mArray\u001b[22m\u001b[22m\u001b[1m(\u001b[22m\u001b[22m::Type{Int64}, ::Int64, ::Int64\u001b[1m)\u001b[22m\u001b[22m at \u001b[1m.\\deprecated.jl:57\u001b[22m\u001b[22m\n",
      " [3] \u001b[1mMultiPoly.PolyUnion\u001b[22m\u001b[22m\u001b[1m(\u001b[22m\u001b[22m::Array{MultiPoly.MPoly{Float64},1}\u001b[1m)\u001b[22m\u001b[22m at \u001b[1mC:\\Users\\Michael\\.julia\\v0.6\\MultiPoly\\src\\polyunion.jl:9\u001b[22m\u001b[22m\n",
      " [4] \u001b[1m*\u001b[22m\u001b[22m\u001b[1m(\u001b[22m\u001b[22m::MultiPoly.MPoly{Float64}, ::MultiPoly.MPoly{Float64}\u001b[1m)\u001b[22m\u001b[22m at \u001b[1mC:\\Users\\Michael\\.julia\\v0.6\\MultiPoly\\src\\mpolyarithmetic.jl:63\u001b[22m\u001b[22m\n",
      " [5] \u001b[1m^\u001b[22m\u001b[22m\u001b[1m(\u001b[22m\u001b[22m::MultiPoly.MPoly{Float64}, ::Int64\u001b[1m)\u001b[22m\u001b[22m at \u001b[1mC:\\Users\\Michael\\.julia\\v0.6\\MultiPoly\\src\\mpolyarithmetic.jl:92\u001b[22m\u001b[22m\n",
      " [6] \u001b[1mp\u001b[22m\u001b[22m\u001b[1m(\u001b[22m\u001b[22m::MultiPoly.MPoly{Float64}, ::MultiPoly.MPoly{Float64}\u001b[1m)\u001b[22m\u001b[22m at \u001b[1m.\\In[10]:15\u001b[22m\u001b[22m\n",
      " [7] \u001b[1minclude_string\u001b[22m\u001b[22m\u001b[1m(\u001b[22m\u001b[22m::String, ::String\u001b[1m)\u001b[22m\u001b[22m at \u001b[1m.\\loading.jl:522\u001b[22m\u001b[22m\n",
      " [8] \u001b[1minclude_string\u001b[22m\u001b[22m\u001b[1m(\u001b[22m\u001b[22m::Module, ::String, ::String\u001b[1m)\u001b[22m\u001b[22m at \u001b[1mC:\\Users\\Michael\\.julia\\v0.6\\Compat\\src\\Compat.jl:71\u001b[22m\u001b[22m\n",
      " [9] \u001b[1mexecute_request\u001b[22m\u001b[22m\u001b[1m(\u001b[22m\u001b[22m::ZMQ.Socket, ::IJulia.Msg\u001b[1m)\u001b[22m\u001b[22m at \u001b[1mC:\\Users\\Michael\\.julia\\v0.6\\IJulia\\src\\execute_request.jl:158\u001b[22m\u001b[22m\n",
      " [10] \u001b[1m(::Compat.#inner#17{Array{Any,1},IJulia.#execute_request,Tuple{ZMQ.Socket,IJulia.Msg}})\u001b[22m\u001b[22m\u001b[1m(\u001b[22m\u001b[22m\u001b[1m)\u001b[22m\u001b[22m at \u001b[1mC:\\Users\\Michael\\.julia\\v0.6\\Compat\\src\\Compat.jl:385\u001b[22m\u001b[22m\n",
      " [11] \u001b[1meventloop\u001b[22m\u001b[22m\u001b[1m(\u001b[22m\u001b[22m::ZMQ.Socket\u001b[1m)\u001b[22m\u001b[22m at \u001b[1mC:\\Users\\Michael\\.julia\\v0.6\\IJulia\\src\\eventloop.jl:8\u001b[22m\u001b[22m\n",
      " [12] \u001b[1m(::IJulia.##14#17)\u001b[22m\u001b[22m\u001b[1m(\u001b[22m\u001b[22m\u001b[1m)\u001b[22m\u001b[22m at \u001b[1m.\\task.jl:335\u001b[22m\u001b[22m\n",
      "while loading In[10], in expression starting on line 32\n",
      "\u001b[1m\u001b[33mWARNING: \u001b[39m\u001b[22m\u001b[33mArray(::Type{T}, m::Int, n::Int) where T is deprecated, use Array{T}(m, n) instead.\u001b[39m\n",
      "Stacktrace:\n",
      " [1] \u001b[1mdepwarn\u001b[22m\u001b[22m\u001b[1m(\u001b[22m\u001b[22m::String, ::Symbol\u001b[1m)\u001b[22m\u001b[22m at \u001b[1m.\\deprecated.jl:70\u001b[22m\u001b[22m\n",
      " [2] \u001b[1mArray\u001b[22m\u001b[22m\u001b[1m(\u001b[22m\u001b[22m::Type{Int64}, ::Int64, ::Int64\u001b[1m)\u001b[22m\u001b[22m at \u001b[1m.\\deprecated.jl:57\u001b[22m\u001b[22m\n",
      " [3] \u001b[1mMultiPoly.PolyUnion\u001b[22m\u001b[22m\u001b[1m(\u001b[22m\u001b[22m::Array{MultiPoly.MPoly{Float64},1}\u001b[1m)\u001b[22m\u001b[22m at \u001b[1mC:\\Users\\Michael\\.julia\\v0.6\\MultiPoly\\src\\polyunion.jl:9\u001b[22m\u001b[22m\n",
      " [4] \u001b[1m*\u001b[22m\u001b[22m\u001b[1m(\u001b[22m\u001b[22m::MultiPoly.MPoly{Float64}, ::MultiPoly.MPoly{Float64}\u001b[1m)\u001b[22m\u001b[22m at \u001b[1mC:\\Users\\Michael\\.julia\\v0.6\\MultiPoly\\src\\mpolyarithmetic.jl:63\u001b[22m\u001b[22m\n",
      " [5] \u001b[1m^\u001b[22m\u001b[22m\u001b[1m(\u001b[22m\u001b[22m::MultiPoly.MPoly{Float64}, ::Int64\u001b[1m)\u001b[22m\u001b[22m at \u001b[1mC:\\Users\\Michael\\.julia\\v0.6\\MultiPoly\\src\\mpolyarithmetic.jl:92\u001b[22m\u001b[22m\n",
      " [6] \u001b[1mp\u001b[22m\u001b[22m\u001b[1m(\u001b[22m\u001b[22m::MultiPoly.MPoly{Float64}, ::MultiPoly.MPoly{Float64}\u001b[1m)\u001b[22m\u001b[22m at \u001b[1m.\\In[10]:15\u001b[22m\u001b[22m\n",
      " [7] \u001b[1minclude_string\u001b[22m\u001b[22m\u001b[1m(\u001b[22m\u001b[22m::String, ::String\u001b[1m)\u001b[22m\u001b[22m at \u001b[1m.\\loading.jl:522\u001b[22m\u001b[22m\n",
      " [8] \u001b[1minclude_string\u001b[22m\u001b[22m\u001b[1m(\u001b[22m\u001b[22m::Module, ::String, ::String\u001b[1m)\u001b[22m\u001b[22m at \u001b[1mC:\\Users\\Michael\\.julia\\v0.6\\Compat\\src\\Compat.jl:71\u001b[22m\u001b[22m\n",
      " [9] \u001b[1mexecute_request\u001b[22m\u001b[22m\u001b[1m(\u001b[22m\u001b[22m::ZMQ.Socket, ::IJulia.Msg\u001b[1m)\u001b[22m\u001b[22m at \u001b[1mC:\\Users\\Michael\\.julia\\v0.6\\IJulia\\src\\execute_request.jl:158\u001b[22m\u001b[22m\n",
      " [10] \u001b[1m(::Compat.#inner#17{Array{Any,1},IJulia.#execute_request,Tuple{ZMQ.Socket,IJulia.Msg}})\u001b[22m\u001b[22m\u001b[1m(\u001b[22m\u001b[22m\u001b[1m)\u001b[22m\u001b[22m at \u001b[1mC:\\Users\\Michael\\.julia\\v0.6\\Compat\\src\\Compat.jl:385\u001b[22m\u001b[22m\n",
      " [11] \u001b[1meventloop\u001b[22m\u001b[22m\u001b[1m(\u001b[22m\u001b[22m::ZMQ.Socket\u001b[1m)\u001b[22m\u001b[22m at \u001b[1mC:\\Users\\Michael\\.julia\\v0.6\\IJulia\\src\\eventloop.jl:8\u001b[22m\u001b[22m\n",
      " [12] \u001b[1m(::IJulia.##14#17)\u001b[22m\u001b[22m\u001b[1m(\u001b[22m\u001b[22m\u001b[1m)\u001b[22m\u001b[22m at \u001b[1m.\\task.jl:335\u001b[22m\u001b[22m\n",
      "while loading In[10], in expression starting on line 33\n",
      "\u001b[1m\u001b[33mWARNING: \u001b[39m\u001b[22m\u001b[33mArray(::Type{T}, m::Int, n::Int) where T is deprecated, use Array{T}(m, n) instead.\u001b[39m\n",
      "Stacktrace:\n",
      " [1] \u001b[1mdepwarn\u001b[22m\u001b[22m\u001b[1m(\u001b[22m\u001b[22m::String, ::Symbol\u001b[1m)\u001b[22m\u001b[22m at \u001b[1m.\\deprecated.jl:70\u001b[22m\u001b[22m\n",
      " [2] \u001b[1mArray\u001b[22m\u001b[22m\u001b[1m(\u001b[22m\u001b[22m::Type{Int64}, ::Int64, ::Int64\u001b[1m)\u001b[22m\u001b[22m at \u001b[1m.\\deprecated.jl:57\u001b[22m\u001b[22m\n",
      " [3] \u001b[1mMultiPoly.PolyUnion\u001b[22m\u001b[22m\u001b[1m(\u001b[22m\u001b[22m::Array{MultiPoly.MPoly{Float64},1}\u001b[1m)\u001b[22m\u001b[22m at \u001b[1mC:\\Users\\Michael\\.julia\\v0.6\\MultiPoly\\src\\polyunion.jl:9\u001b[22m\u001b[22m\n",
      " [4] \u001b[1m*\u001b[22m\u001b[22m\u001b[1m(\u001b[22m\u001b[22m::MultiPoly.MPoly{Float64}, ::MultiPoly.MPoly{Float64}\u001b[1m)\u001b[22m\u001b[22m at \u001b[1mC:\\Users\\Michael\\.julia\\v0.6\\MultiPoly\\src\\mpolyarithmetic.jl:63\u001b[22m\u001b[22m\n",
      " [5] \u001b[1m^\u001b[22m\u001b[22m\u001b[1m(\u001b[22m\u001b[22m::MultiPoly.MPoly{Float64}, ::Int64\u001b[1m)\u001b[22m\u001b[22m at \u001b[1mC:\\Users\\Michael\\.julia\\v0.6\\MultiPoly\\src\\mpolyarithmetic.jl:92\u001b[22m\u001b[22m\n",
      " [6] \u001b[1mp\u001b[22m\u001b[22m\u001b[1m(\u001b[22m\u001b[22m::MultiPoly.MPoly{Float64}, ::MultiPoly.MPoly{Float64}\u001b[1m)\u001b[22m\u001b[22m at \u001b[1m.\\In[10]:15\u001b[22m\u001b[22m\n",
      " [7] \u001b[1minclude_string\u001b[22m\u001b[22m\u001b[1m(\u001b[22m\u001b[22m::String, ::String\u001b[1m)\u001b[22m\u001b[22m at \u001b[1m.\\loading.jl:522\u001b[22m\u001b[22m\n",
      " [8] \u001b[1minclude_string\u001b[22m\u001b[22m\u001b[1m(\u001b[22m\u001b[22m::Module, ::String, ::String\u001b[1m)\u001b[22m\u001b[22m at \u001b[1mC:\\Users\\Michael\\.julia\\v0.6\\Compat\\src\\Compat.jl:71\u001b[22m\u001b[22m\n",
      " [9] \u001b[1mexecute_request\u001b[22m\u001b[22m\u001b[1m(\u001b[22m\u001b[22m::ZMQ.Socket, ::IJulia.Msg\u001b[1m)\u001b[22m\u001b[22m at \u001b[1mC:\\Users\\Michael\\.julia\\v0.6\\IJulia\\src\\execute_request.jl:158\u001b[22m\u001b[22m\n",
      " [10] \u001b[1m(::Compat.#inner#17{Array{Any,1},IJulia.#execute_request,Tuple{ZMQ.Socket,IJulia.Msg}})\u001b[22m\u001b[22m\u001b[1m(\u001b[22m\u001b[22m\u001b[1m)\u001b[22m\u001b[22m at \u001b[1mC:\\Users\\Michael\\.julia\\v0.6\\Compat\\src\\Compat.jl:385\u001b[22m\u001b[22m\n",
      " [11] \u001b[1meventloop\u001b[22m\u001b[22m\u001b[1m(\u001b[22m\u001b[22m::ZMQ.Socket\u001b[1m)\u001b[22m\u001b[22m at \u001b[1mC:\\Users\\Michael\\.julia\\v0.6\\IJulia\\src\\eventloop.jl:8\u001b[22m\u001b[22m\n",
      " [12] \u001b[1m(::IJulia.##14#17)\u001b[22m\u001b[22m\u001b[1m(\u001b[22m\u001b[22m\u001b[1m)\u001b[22m\u001b[22m at \u001b[1m.\\task.jl:335\u001b[22m\u001b[22m\n",
      "while loading In[10], in expression starting on line 34\n",
      "\u001b[1m\u001b[33mWARNING: \u001b[39m\u001b[22m\u001b[33mArray(::Type{T}, m::Int, n::Int) where T is deprecated, use Array{T}(m, n) instead.\u001b[39m\n",
      "Stacktrace:\n",
      " [1] \u001b[1mdepwarn\u001b[22m\u001b[22m\u001b[1m(\u001b[22m\u001b[22m::String, ::Symbol\u001b[1m)\u001b[22m\u001b[22m at \u001b[1m.\\deprecated.jl:70\u001b[22m\u001b[22m\n",
      " [2] \u001b[1mArray\u001b[22m\u001b[22m\u001b[1m(\u001b[22m\u001b[22m::Type{Int64}, ::Int64, ::Int64\u001b[1m)\u001b[22m\u001b[22m at \u001b[1m.\\deprecated.jl:57\u001b[22m\u001b[22m\n",
      " [3] \u001b[1mMultiPoly.PolyUnion\u001b[22m\u001b[22m\u001b[1m(\u001b[22m\u001b[22m::Array{MultiPoly.MPoly{Float64},1}\u001b[1m)\u001b[22m\u001b[22m at \u001b[1mC:\\Users\\Michael\\.julia\\v0.6\\MultiPoly\\src\\polyunion.jl:9\u001b[22m\u001b[22m\n",
      " [4] \u001b[1m*\u001b[22m\u001b[22m\u001b[1m(\u001b[22m\u001b[22m::MultiPoly.MPoly{Float64}, ::MultiPoly.MPoly{Float64}\u001b[1m)\u001b[22m\u001b[22m at \u001b[1mC:\\Users\\Michael\\.julia\\v0.6\\MultiPoly\\src\\mpolyarithmetic.jl:63\u001b[22m\u001b[22m\n",
      " [5] \u001b[1m^\u001b[22m\u001b[22m\u001b[1m(\u001b[22m\u001b[22m::MultiPoly.MPoly{Float64}, ::Int64\u001b[1m)\u001b[22m\u001b[22m at \u001b[1mC:\\Users\\Michael\\.julia\\v0.6\\MultiPoly\\src\\mpolyarithmetic.jl:92\u001b[22m\u001b[22m\n",
      " [6] \u001b[1mp\u001b[22m\u001b[22m\u001b[1m(\u001b[22m\u001b[22m::MultiPoly.MPoly{Float64}, ::MultiPoly.MPoly{Float64}\u001b[1m)\u001b[22m\u001b[22m at \u001b[1m.\\In[10]:15\u001b[22m\u001b[22m\n",
      " [7] \u001b[1minclude_string\u001b[22m\u001b[22m\u001b[1m(\u001b[22m\u001b[22m::String, ::String\u001b[1m)\u001b[22m\u001b[22m at \u001b[1m.\\loading.jl:522\u001b[22m\u001b[22m\n",
      " [8] \u001b[1minclude_string\u001b[22m\u001b[22m\u001b[1m(\u001b[22m\u001b[22m::Module, ::String, ::String\u001b[1m)\u001b[22m\u001b[22m at \u001b[1mC:\\Users\\Michael\\.julia\\v0.6\\Compat\\src\\Compat.jl:71\u001b[22m\u001b[22m\n",
      " [9] \u001b[1mexecute_request\u001b[22m\u001b[22m\u001b[1m(\u001b[22m\u001b[22m::ZMQ.Socket, ::IJulia.Msg\u001b[1m)\u001b[22m\u001b[22m at \u001b[1mC:\\Users\\Michael\\.julia\\v0.6\\IJulia\\src\\execute_request.jl:158\u001b[22m\u001b[22m\n",
      " [10] \u001b[1m(::Compat.#inner#17{Array{Any,1},IJulia.#execute_request,Tuple{ZMQ.Socket,IJulia.Msg}})\u001b[22m\u001b[22m\u001b[1m(\u001b[22m\u001b[22m\u001b[1m)\u001b[22m\u001b[22m at \u001b[1mC:\\Users\\Michael\\.julia\\v0.6\\Compat\\src\\Compat.jl:385\u001b[22m\u001b[22m\n",
      " [11] \u001b[1meventloop\u001b[22m\u001b[22m\u001b[1m(\u001b[22m\u001b[22m::ZMQ.Socket\u001b[1m)\u001b[22m\u001b[22m at \u001b[1mC:\\Users\\Michael\\.julia\\v0.6\\IJulia\\src\\eventloop.jl:8\u001b[22m\u001b[22m\n",
      " [12] \u001b[1m(::IJulia.##14#17)\u001b[22m\u001b[22m\u001b[1m(\u001b[22m\u001b[22m\u001b[1m)\u001b[22m\u001b[22m at \u001b[1m.\\task.jl:335\u001b[22m\u001b[22m\n",
      "while loading In[10], in expression starting on line 35\n",
      "\u001b[1m\u001b[33mWARNING: \u001b[39m\u001b[22m\u001b[33mArray(::Type{T}, m::Int, n::Int) where T is deprecated, use Array{T}(m, n) instead.\u001b[39m\n",
      "Stacktrace:\n",
      " [1] \u001b[1mdepwarn\u001b[22m\u001b[22m\u001b[1m(\u001b[22m\u001b[22m::String, ::Symbol\u001b[1m)\u001b[22m\u001b[22m at \u001b[1m.\\deprecated.jl:70\u001b[22m\u001b[22m\n",
      " [2] \u001b[1mArray\u001b[22m\u001b[22m\u001b[1m(\u001b[22m\u001b[22m::Type{Int64}, ::Int64, ::Int64\u001b[1m)\u001b[22m\u001b[22m at \u001b[1m.\\deprecated.jl:57\u001b[22m\u001b[22m\n",
      " [3] \u001b[1mMultiPoly.PolyUnion\u001b[22m\u001b[22m\u001b[1m(\u001b[22m\u001b[22m::Array{MultiPoly.MPoly{Float64},1}\u001b[1m)\u001b[22m\u001b[22m at \u001b[1mC:\\Users\\Michael\\.julia\\v0.6\\MultiPoly\\src\\polyunion.jl:9\u001b[22m\u001b[22m\n",
      " [4] \u001b[1m*\u001b[22m\u001b[22m\u001b[1m(\u001b[22m\u001b[22m::MultiPoly.MPoly{Float64}, ::MultiPoly.MPoly{Float64}\u001b[1m)\u001b[22m\u001b[22m at \u001b[1mC:\\Users\\Michael\\.julia\\v0.6\\MultiPoly\\src\\mpolyarithmetic.jl:63\u001b[22m\u001b[22m\n",
      " [5] \u001b[1m^\u001b[22m\u001b[22m\u001b[1m(\u001b[22m\u001b[22m::MultiPoly.MPoly{Float64}, ::Int64\u001b[1m)\u001b[22m\u001b[22m at \u001b[1mC:\\Users\\Michael\\.julia\\v0.6\\MultiPoly\\src\\mpolyarithmetic.jl:92\u001b[22m\u001b[22m\n",
      " [6] \u001b[1mp\u001b[22m\u001b[22m\u001b[1m(\u001b[22m\u001b[22m::MultiPoly.MPoly{Float64}, ::MultiPoly.MPoly{Float64}\u001b[1m)\u001b[22m\u001b[22m at \u001b[1m.\\In[10]:15\u001b[22m\u001b[22m\n",
      " [7] \u001b[1minclude_string\u001b[22m\u001b[22m\u001b[1m(\u001b[22m\u001b[22m::String, ::String\u001b[1m)\u001b[22m\u001b[22m at \u001b[1m.\\loading.jl:522\u001b[22m\u001b[22m\n",
      " [8] \u001b[1minclude_string\u001b[22m\u001b[22m\u001b[1m(\u001b[22m\u001b[22m::Module, ::String, ::String\u001b[1m)\u001b[22m\u001b[22m at \u001b[1mC:\\Users\\Michael\\.julia\\v0.6\\Compat\\src\\Compat.jl:71\u001b[22m\u001b[22m\n",
      " [9] \u001b[1mexecute_request\u001b[22m\u001b[22m\u001b[1m(\u001b[22m\u001b[22m::ZMQ.Socket, ::IJulia.Msg\u001b[1m)\u001b[22m\u001b[22m at \u001b[1mC:\\Users\\Michael\\.julia\\v0.6\\IJulia\\src\\execute_request.jl:158\u001b[22m\u001b[22m\n",
      " [10] \u001b[1m(::Compat.#inner#17{Array{Any,1},IJulia.#execute_request,Tuple{ZMQ.Socket,IJulia.Msg}})\u001b[22m\u001b[22m\u001b[1m(\u001b[22m\u001b[22m\u001b[1m)\u001b[22m\u001b[22m at \u001b[1mC:\\Users\\Michael\\.julia\\v0.6\\Compat\\src\\Compat.jl:385\u001b[22m\u001b[22m\n",
      " [11] \u001b[1meventloop\u001b[22m\u001b[22m\u001b[1m(\u001b[22m\u001b[22m::ZMQ.Socket\u001b[1m)\u001b[22m\u001b[22m at \u001b[1mC:\\Users\\Michael\\.julia\\v0.6\\IJulia\\src\\eventloop.jl:8\u001b[22m\u001b[22m\n",
      " [12] \u001b[1m(::IJulia.##14#17)\u001b[22m\u001b[22m\u001b[1m(\u001b[22m\u001b[22m\u001b[1m)\u001b[22m\u001b[22m at \u001b[1m.\\task.jl:335\u001b[22m\u001b[22m\n",
      "while loading In[10], in expression starting on line 36\n"
     ]
    },
    {
     "data": {
      "text/latex": [
       "$$ \\begin{alignat*}{1}\\min\\quad & γ + ψ\\\\\n",
       "\\text{Subject to} \\quad & 5 γ + 3.25 ψ + 10.532500000000002 Q_{1,1} - Q_{1,1} = 162.5\\\\\n",
       " & -2 γ - 3 ψ - 5.7 Q_{1,1} + 10.532500000000002 Q_{1,2} + 10.532500000000002 Q_{2,1} - Q_{1,2} - Q_{2,1} = -215\\\\\n",
       " & γ + ψ + Q_{1,1} - 5.7 Q_{1,2} - 5.7 Q_{2,1} + 10.532500000000002 Q_{2,2} - Q_{1,3} - Q_{2,2} - Q_{3,1} = 142.5\\\\\n",
       " & -4 γ - 2 ψ - 10.100000000000001 Q_{1,1} + 10.532500000000002 Q_{1,3} + 10.532500000000002 Q_{3,1} - Q_{1,4} - Q_{4,1} = -230\\\\\n",
       " & 2 Q_{1,1} - 10.100000000000001 Q_{1,2} - 10.100000000000001 Q_{2,1} - 5.7 Q_{1,3} - 5.7 Q_{3,1} + 10.532500000000002 Q_{2,3} + 10.532500000000002 Q_{3,2} - Q_{1,5} - Q_{2,4} - Q_{4,2} - Q_{5,1} = 160\\\\\n",
       " & γ + ψ + 3 Q_{1,1} - 10.100000000000001 Q_{1,3} - 10.100000000000001 Q_{3,1} + 10.532500000000002 Q_{3,3} - Q_{1,6} - Q_{4,4} - Q_{6,1} = 162.5\\\\\n",
       " & Q_{1,2} + Q_{2,1} - 5.7 Q_{2,2} - Q_{2,3} - Q_{3,2} = -50\\\\\n",
       " & 2 Q_{1,2} + 2 Q_{2,1} + Q_{1,3} + Q_{3,1} - 10.100000000000001 Q_{2,2} - 5.7 Q_{2,3} - 5.7 Q_{3,2} - Q_{2,5} - Q_{3,4} - Q_{4,3} - Q_{5,2} = -60\\\\\n",
       " & 3 Q_{1,2} + 3 Q_{2,1} + 2 Q_{1,3} + 2 Q_{3,1} - 10.100000000000001 Q_{2,3} - 10.100000000000001 Q_{3,2} - 5.7 Q_{3,3} - Q_{2,6} - Q_{4,5} - Q_{5,4} - Q_{6,2} = -50\\\\\n",
       " & Q_{2,2} - Q_{3,3} = 10\\\\\n",
       " & 2 Q_{2,2} + Q_{2,3} + Q_{3,2} - Q_{3,5} - Q_{5,3} = 0\\\\\n",
       " & 3 Q_{2,2} + 2 Q_{2,3} + 2 Q_{3,2} + Q_{3,3} - Q_{3,6} - Q_{5,5} - Q_{6,3} = 20\\\\\n",
       " & 3 Q_{1,3} + 3 Q_{3,1} - 10.100000000000001 Q_{3,3} - Q_{4,6} - Q_{6,4} = -60\\\\\n",
       " & 3 Q_{2,3} + 3 Q_{3,2} + 2 Q_{3,3} - Q_{5,6} - Q_{6,5} = 0\\\\\n",
       " & 3 Q_{3,3} - Q_{6,6} = 10\\\\\n",
       " & 5 γ + 3.25 ψ + 13.5525 Q_{1,1} - Q_{1,1} = 162.5\\\\\n",
       " & -2 γ - 3 ψ - 12 Q_{1,1} + 13.5525 Q_{1,2} + 13.5525 Q_{2,1} - Q_{1,2} - Q_{2,1} = -215\\\\\n",
       " & γ + ψ + 3 Q_{1,1} - 12 Q_{1,2} - 12 Q_{2,1} + 13.5525 Q_{2,2} - Q_{1,3} - Q_{2,2} - Q_{3,1} = 142.5\\\\\n",
       " & -4 γ - 2 ψ - 2.5 Q_{1,1} + 13.5525 Q_{1,3} + 13.5525 Q_{3,1} - Q_{1,4} - Q_{4,1} = -230\\\\\n",
       " & -2.5 Q_{1,2} - 2.5 Q_{2,1} - 12 Q_{1,3} - 12 Q_{3,1} + 13.5525 Q_{2,3} + 13.5525 Q_{3,2} - Q_{1,5} - Q_{2,4} - Q_{4,2} - Q_{5,1} = 160\\\\\n",
       " & γ + ψ + Q_{1,1} - 2.5 Q_{1,3} - 2.5 Q_{3,1} + 13.5525 Q_{3,3} - Q_{1,6} - Q_{4,4} - Q_{6,1} = 162.5\\\\\n",
       " & 3 Q_{1,2} + 3 Q_{2,1} - 12 Q_{2,2} - Q_{2,3} - Q_{3,2} = -50\\\\\n",
       " & 3 Q_{1,3} + 3 Q_{3,1} - 2.5 Q_{2,2} - 12 Q_{2,3} - 12 Q_{3,2} - Q_{2,5} - Q_{3,4} - Q_{4,3} - Q_{5,2} = -60\\\\\n",
       " & Q_{1,2} + Q_{2,1} - 2.5 Q_{2,3} - 2.5 Q_{3,2} - 12 Q_{3,3} - Q_{2,6} - Q_{4,5} - Q_{5,4} - Q_{6,2} = -50\\\\\n",
       " & 3 Q_{2,2} - Q_{3,3} = 10\\\\\n",
       " & 3 Q_{2,3} + 3 Q_{3,2} - Q_{3,5} - Q_{5,3} = 0\\\\\n",
       " & Q_{2,2} + 3 Q_{3,3} - Q_{3,6} - Q_{5,5} - Q_{6,3} = 20\\\\\n",
       " & Q_{1,3} + Q_{3,1} - 2.5 Q_{3,3} - Q_{4,6} - Q_{6,4} = -60\\\\\n",
       " & Q_{2,3} + Q_{3,2} - Q_{5,6} - Q_{6,5} = 0\\\\\n",
       " & Q_{3,3} - Q_{6,6} = 10\\\\\n",
       " & 5 γ + 3.25 ψ + 5.3025 Q_{1,1} - Q_{1,1} = 162.5\\\\\n",
       " & -2 γ - 3 ψ - 3.5 Q_{1,1} + 5.3025 Q_{1,2} + 5.3025 Q_{2,1} - Q_{1,2} - Q_{2,1} = -215\\\\\n",
       " & γ + ψ + Q_{1,1} - 3.5 Q_{1,2} - 3.5 Q_{2,1} + 5.3025 Q_{2,2} - Q_{1,3} - Q_{2,2} - Q_{3,1} = 142.5\\\\\n",
       " & -4 γ - 2 ψ - 3 Q_{1,1} + 5.3025 Q_{1,3} + 5.3025 Q_{3,1} - Q_{1,4} - Q_{4,1} = -230\\\\\n",
       " & -3 Q_{1,2} - 3 Q_{2,1} - 3.5 Q_{1,3} - 3.5 Q_{3,1} + 5.3025 Q_{2,3} + 5.3025 Q_{3,2} - Q_{1,5} - Q_{2,4} - Q_{4,2} - Q_{5,1} = 160\\\\\n",
       " & γ + ψ + Q_{1,1} - 3 Q_{1,3} - 3 Q_{3,1} + 5.3025 Q_{3,3} - Q_{1,6} - Q_{4,4} - Q_{6,1} = 162.5\\\\\n",
       " & Q_{1,2} + Q_{2,1} - 3.5 Q_{2,2} - Q_{2,3} - Q_{3,2} = -50\\\\\n",
       " & Q_{1,3} + Q_{3,1} - 3 Q_{2,2} - 3.5 Q_{2,3} - 3.5 Q_{3,2} - Q_{2,5} - Q_{3,4} - Q_{4,3} - Q_{5,2} = -60\\\\\n",
       " & Q_{1,2} + Q_{2,1} - 3 Q_{2,3} - 3 Q_{3,2} - 3.5 Q_{3,3} - Q_{2,6} - Q_{4,5} - Q_{5,4} - Q_{6,2} = -50\\\\\n",
       " & Q_{2,2} - Q_{3,3} = 10\\\\\n",
       " & Q_{2,3} + Q_{3,2} - Q_{3,5} - Q_{5,3} = 0\\\\\n",
       " & Q_{2,2} + Q_{3,3} - Q_{3,6} - Q_{5,5} - Q_{6,3} = 20\\\\\n",
       " & Q_{1,3} + Q_{3,1} - 3 Q_{3,3} - Q_{4,6} - Q_{6,4} = -60\\\\\n",
       " & Q_{2,3} + Q_{3,2} - Q_{5,6} - Q_{6,5} = 0\\\\\n",
       " & Q_{3,3} - Q_{6,6} = 10\\\\\n",
       " & 5 γ + 3.25 ψ + 6.470000000000001 Q_{1,1} - Q_{1,1} = 162.5\\\\\n",
       " & -2 γ - 3 ψ - 7.200000000000001 Q_{1,1} + 6.470000000000001 Q_{1,2} + 6.470000000000001 Q_{2,1} - Q_{1,2} - Q_{2,1} = -215\\\\\n",
       " & γ + ψ + 3 Q_{1,1} - 7.200000000000001 Q_{1,2} - 7.200000000000001 Q_{2,1} + 6.470000000000001 Q_{2,2} - Q_{1,3} - Q_{2,2} - Q_{3,1} = 142.5\\\\\n",
       " & -4 γ - 2 ψ + 6.470000000000001 Q_{1,3} + 6.470000000000001 Q_{3,1} - Q_{1,4} - Q_{4,1} = -230\\\\\n",
       " & -2 Q_{1,1} - 7.200000000000001 Q_{1,3} - 7.200000000000001 Q_{3,1} + 6.470000000000001 Q_{2,3} + 6.470000000000001 Q_{3,2} - Q_{1,5} - Q_{2,4} - Q_{4,2} - Q_{5,1} = 160\\\\\n",
       " & γ + ψ + Q_{1,1} + 6.470000000000001 Q_{3,3} - Q_{1,6} - Q_{4,4} - Q_{6,1} = 162.5\\\\\n",
       " & 3 Q_{1,2} + 3 Q_{2,1} - 7.200000000000001 Q_{2,2} - Q_{2,3} - Q_{3,2} = -50\\\\\n",
       " & -2 Q_{1,2} - 2 Q_{2,1} + 3 Q_{1,3} + 3 Q_{3,1} - 7.200000000000001 Q_{2,3} - 7.200000000000001 Q_{3,2} - Q_{2,5} - Q_{3,4} - Q_{4,3} - Q_{5,2} = -60\\\\\n",
       " & Q_{1,2} + Q_{2,1} - 2 Q_{1,3} - 2 Q_{3,1} - 7.200000000000001 Q_{3,3} - Q_{2,6} - Q_{4,5} - Q_{5,4} - Q_{6,2} = -50\\\\\n",
       " & 3 Q_{2,2} - Q_{3,3} = 10\\\\\n",
       " & -2 Q_{2,2} + 3 Q_{2,3} + 3 Q_{3,2} - Q_{3,5} - Q_{5,3} = 0\\\\\n",
       " & Q_{2,2} - 2 Q_{2,3} - 2 Q_{3,2} + 3 Q_{3,3} - Q_{3,6} - Q_{5,5} - Q_{6,3} = 20\\\\\n",
       " & Q_{1,3} + Q_{3,1} - Q_{4,6} - Q_{6,4} = -60\\\\\n",
       " & Q_{2,3} + Q_{3,2} - 2 Q_{3,3} - Q_{5,6} - Q_{6,5} = 0\\\\\n",
       " & Q_{3,3} - Q_{6,6} = 10\\\\\n",
       " & 5 γ + 3.25 ψ + 21.94 Q_{1,1} - Q_{1,1} = 162.5\\\\\n",
       " & -2 γ - 3 ψ - 2.8 Q_{1,1} + 21.94 Q_{1,2} + 21.94 Q_{2,1} - Q_{1,2} - Q_{2,1} = -215\\\\\n",
       " & γ + ψ + Q_{1,1} - 2.8 Q_{1,2} - 2.8 Q_{2,1} + 21.94 Q_{2,2} - Q_{1,3} - Q_{2,2} - Q_{3,1} = 142.5\\\\\n",
       " & -4 γ - 2 ψ - 20 Q_{1,1} + 21.94 Q_{1,3} + 21.94 Q_{3,1} - Q_{1,4} - Q_{4,1} = -230\\\\\n",
       " & -20 Q_{1,2} - 20 Q_{2,1} - 2.8 Q_{1,3} - 2.8 Q_{3,1} + 21.94 Q_{2,3} + 21.94 Q_{3,2} - Q_{1,5} - Q_{2,4} - Q_{4,2} - Q_{5,1} = 160\\\\\n",
       " & γ + ψ + 5 Q_{1,1} - 20 Q_{1,3} - 20 Q_{3,1} + 21.94 Q_{3,3} - Q_{1,6} - Q_{4,4} - Q_{6,1} = 162.5\\\\\n",
       " & Q_{1,2} + Q_{2,1} - 2.8 Q_{2,2} - Q_{2,3} - Q_{3,2} = -50\\\\\n",
       " & Q_{1,3} + Q_{3,1} - 20 Q_{2,2} - 2.8 Q_{2,3} - 2.8 Q_{3,2} - Q_{2,5} - Q_{3,4} - Q_{4,3} - Q_{5,2} = -60\\\\\n",
       " & 5 Q_{1,2} + 5 Q_{2,1} - 20 Q_{2,3} - 20 Q_{3,2} - 2.8 Q_{3,3} - Q_{2,6} - Q_{4,5} - Q_{5,4} - Q_{6,2} = -50\\\\\n",
       " & Q_{2,2} - Q_{3,3} = 10\\\\\n",
       " & Q_{2,3} + Q_{3,2} - Q_{3,5} - Q_{5,3} = 0\\\\\n",
       " & 5 Q_{2,2} + Q_{3,3} - Q_{3,6} - Q_{5,5} - Q_{6,3} = 20\\\\\n",
       " & 5 Q_{1,3} + 5 Q_{3,1} - 20 Q_{3,3} - Q_{4,6} - Q_{6,4} = -60\\\\\n",
       " & 5 Q_{2,3} + 5 Q_{3,2} - Q_{5,6} - Q_{6,5} = 0\\\\\n",
       " & 5 Q_{3,3} - Q_{6,6} = 10\\\\\n",
       " & Q_{i,j} \\quad\\forall i \\in \\{1,2,3\\}, j \\in \\{1,2,3\\}\\\\\n",
       " & Q_{i,j} \\quad\\forall i \\in \\{1,2,3\\}, j \\in \\{1,2,3\\}\\\\\n",
       " & Q_{i,j} \\quad\\forall i \\in \\{1,2,3\\}, j \\in \\{1,2,3\\}\\\\\n",
       " & Q_{i,j} \\quad\\forall i \\in \\{1,2,3\\}, j \\in \\{1,2,3\\}\\\\\n",
       " & Q_{i,j} \\quad\\forall i \\in \\{1,2,3\\}, j \\in \\{1,2,3\\}\\\\\n",
       " & Q_{i,j} \\quad\\forall i \\in \\{1,2,\\dots,5,6\\}, j \\in \\{1,2,\\dots,5,6\\}\\\\\n",
       " & Q_{i,j} \\quad\\forall i \\in \\{1,2,\\dots,5,6\\}, j \\in \\{1,2,\\dots,5,6\\}\\\\\n",
       " & Q_{i,j} \\quad\\forall i \\in \\{1,2,\\dots,5,6\\}, j \\in \\{1,2,\\dots,5,6\\}\\\\\n",
       " & Q_{i,j} \\quad\\forall i \\in \\{1,2,\\dots,5,6\\}, j \\in \\{1,2,\\dots,5,6\\}\\\\\n",
       " & Q_{i,j} \\quad\\forall i \\in \\{1,2,\\dots,5,6\\}, j \\in \\{1,2,\\dots,5,6\\}\\\\\n",
       " & γ\\\\\n",
       " & ψ\\\\\n",
       "\\end{alignat*}\n",
       " $$"
      ],
      "text/plain": [
       "Minimization problem with:\n",
       " * 75 linear constraints\n",
       " * 10 semidefinite constraints\n",
       " * 227 variables\n",
       "Solver is Mosek"
      ]
     },
     "execution_count": 10,
     "metadata": {},
     "output_type": "execute_result"
    }
   ],
   "source": [
    "m = Model(solver=MosekSolver())\n",
    "#m = Model(solver=SCSSolver(max_iters = 80000))\n",
    "\n",
    "# Set up variables for the amount of energy used by each transmitter.\n",
    "@variable(m, γ)\n",
    "@variable(m, ψ)\n",
    "\n",
    "x = generator(:x)\n",
    "y = generator(:y)\n",
    "\n",
    "# Minimize the amount of overall energy used by the transmitters.\n",
    "@objective(m, Min, γ + ψ)\n",
    "\n",
    "# The polynomial that must be nonnegative on the constraint sets. \n",
    "p(x,y) = -10((x-1)^2+ (y-1.5)^2)*((x-2)^2 + (y-1)^2) + γ*((x-2)^2 + (y-1)^2) + ψ*((x-1)^2 + (y-1.5)^2)\n",
    "\n",
    "# Define sos polynomials to use for our polynomial equality constraint.\n",
    "d1 = defSoSPolynomial(m, [:x, :y], 1)\n",
    "d2 = defSoSPolynomial(m, [:x, :y], 1)\n",
    "d3 = defSoSPolynomial(m, [:x, :y], 1)\n",
    "d4 = defSoSPolynomial(m, [:x, :y], 1)\n",
    "d5 = defSoSPolynomial(m, [:x, :y], 1)\n",
    "\n",
    "# The g_i's for each of the ellipsoids.\n",
    "g1(x,y) = 0.01-3(x-1.1)^2-2(x-1.1)*(y-1.75)-(y-1.75)^2\n",
    "g2(x,y) = 0.01-(x-1.25)^2-3(y-2)^2\n",
    "g3(x,y) = 0.01-(x-1.5)^2-(y-1.75)^2\n",
    "g4(x,y) = 0.01-(x-1.8)^2+2*(x-1.8)*(y-1.8)-3*(y-1.8)^2\n",
    "g5(x,y) = 0.02-5(x-2)^2-(y-1.4)^2\n",
    "\n",
    "# The sos equality constraints for each ellipsoid.\n",
    "addSoSConstraint(m, p(x,y) - d1*g1(x,y))\n",
    "addSoSConstraint(m, p(x,y) - d2*g2(x,y))\n",
    "addSoSConstraint(m, p(x,y) - d3*g3(x,y))\n",
    "addSoSConstraint(m, p(x,y) - d4*g4(x,y))\n",
    "addSoSConstraint(m, p(x,y) - d5*g5(x,y))\n",
    "\n",
    "m"
   ]
  },
  {
   "cell_type": "code",
   "execution_count": 11,
   "metadata": {},
   "outputs": [
    {
     "name": "stdout",
     "output_type": "stream",
     "text": [
      "Problem\n",
      "  Name                   :                 \n",
      "  Objective sense        : min             \n",
      "  Type                   : CONIC (conic optimization problem)\n",
      "  Constraints            : 300             \n",
      "  Cones                  : 0               \n",
      "  Scalar variables       : 227             \n",
      "  Matrix variables       : 10              \n",
      "  Integer variables      : 0               \n",
      "\n",
      "Optimizer started.\n",
      "Presolve started.\n",
      "Linear dependency checker started.\n",
      "Linear dependency checker terminated.\n",
      "Eliminator started.\n",
      "Freed constraints in eliminator : 165\n",
      "Eliminator terminated.\n",
      "Eliminator - tries                  : 1                 time                   : 0.00            \n",
      "Lin. dep.  - tries                  : 1                 time                   : 0.00            \n",
      "Lin. dep.  - number                 : 0               \n",
      "Presolve terminated. Time: 0.00    \n",
      "Problem\n",
      "  Name                   :                 \n",
      "  Objective sense        : min             \n",
      "  Type                   : CONIC (conic optimization problem)\n",
      "  Constraints            : 300             \n",
      "  Cones                  : 0               \n",
      "  Scalar variables       : 227             \n",
      "  Matrix variables       : 10              \n",
      "  Integer variables      : 0               \n",
      "\n",
      "Optimizer  - threads                : 4               \n",
      "Optimizer  - solved problem         : the primal      \n",
      "Optimizer  - Constraints            : 135\n",
      "Optimizer  - Cones                  : 1\n",
      "Optimizer  - Scalar variables       : 63                conic                  : 63              \n",
      "Optimizer  - Semi-definite variables: 10                scalarized             : 135             \n",
      "Factor     - setup time             : 0.00              dense det. time        : 0.00            \n",
      "Factor     - ML order time          : 0.00              GP order time          : 0.00            \n",
      "Factor     - nonzeros before factor : 9180              after factor           : 9180            \n",
      "Factor     - dense dim.             : 0                 flops                  : 8.60e+05        \n",
      "ITE PFEAS    DFEAS    GFEAS    PRSTATUS   POBJ              DOBJ              MU       TIME  \n",
      "0   5.3e+00  1.0e+00  1.0e+00  0.00e+00   0.000000000e+00   0.000000000e+00   1.0e+00  0.00  \n",
      "1   9.0e-01  1.7e-01  7.7e-02  -9.46e-01  -6.911078032e+00  5.813263367e+01   1.7e-01  0.02  \n",
      "2   1.5e-01  2.9e-02  1.0e-02  -6.09e-01  -1.257662499e+01  1.116750702e+02   2.9e-02  0.02  \n",
      "3   1.5e-02  2.7e-03  5.7e-03  4.85e-01   2.570817447e+01   2.873329396e+01   2.7e-03  0.02  \n",
      "4   2.1e-03  3.9e-04  3.0e-03  1.38e+00   1.203432366e+01   1.223580024e+01   3.9e-04  0.02  \n",
      "5   4.0e-04  7.5e-05  1.8e-03  1.19e+00   8.746968127e+00   8.762116416e+00   7.5e-05  0.02  \n",
      "6   6.2e-05  1.2e-05  7.0e-04  1.10e+00   8.154690063e+00   8.157271094e+00   1.2e-05  0.02  \n",
      "7   1.9e-06  3.6e-07  6.5e-05  1.04e+00   8.120980664e+00   8.121421497e+00   3.6e-07  0.02  \n",
      "8   2.0e-08  3.9e-09  6.7e-06  1.00e+00   8.117948436e+00   8.117953184e+00   3.9e-09  0.02  \n",
      "9   1.2e-09  2.4e-11  4.6e-07  1.00e+00   8.117920256e+00   8.117920279e+00   1.9e-11  0.02  \n",
      "Optimizer terminated. Time: 0.02    \n",
      "\n",
      "\n",
      "Interior-point solution summary\n",
      "  Problem status  : PRIMAL_AND_DUAL_FEASIBLE\n",
      "  Solution status : OPTIMAL\n",
      "  Primal.  obj: 8.1179202555e+00    nrm: 2e+02    Viol.  con: 1e-06    var: 0e+00    barvar: 0e+00  \n",
      "  Dual.    obj: 8.1179202792e+00    nrm: 2e+01    Viol.  con: 0e+00    var: 4e-10    barvar: 9e-10  \n"
     ]
    },
    {
     "data": {
      "text/plain": [
       ":Optimal"
      ]
     },
     "execution_count": 11,
     "metadata": {},
     "output_type": "execute_result"
    }
   ],
   "source": [
    "solve(m)"
   ]
  },
  {
   "cell_type": "code",
   "execution_count": 12,
   "metadata": {},
   "outputs": [
    {
     "data": {
      "text/html": [
       "2.5543808184107966"
      ],
      "text/plain": [
       "2.5543808184107966"
      ]
     },
     "execution_count": 12,
     "metadata": {},
     "output_type": "execute_result"
    }
   ],
   "source": [
    "c1 = getvalue(γ)"
   ]
  },
  {
   "cell_type": "code",
   "execution_count": 13,
   "metadata": {},
   "outputs": [
    {
     "data": {
      "text/html": [
       "5.563539437123734"
      ],
      "text/plain": [
       "5.563539437123734"
      ]
     },
     "execution_count": 13,
     "metadata": {},
     "output_type": "execute_result"
    }
   ],
   "source": [
    "c2 = getvalue(ψ)"
   ]
  },
  {
   "cell_type": "code",
   "execution_count": 14,
   "metadata": {
    "collapsed": true
   },
   "outputs": [],
   "source": [
    "pyplot();"
   ]
  },
  {
   "cell_type": "code",
   "execution_count": 15,
   "metadata": {},
   "outputs": [
    {
     "name": "stderr",
     "output_type": "stream",
     "text": [
      "\u001b[1m\u001b[33mWARNING: \u001b[39m\u001b[22m\u001b[33mKeyword argument markerstrokestyle not supported with Plots.PyPlotBackend().  Choose from: Set(Symbol[:zforeground_color_guide, :top_margin, :group, :background_color, :stride, :yforeground_color_text, :yguidefontcolor, :seriesalpha, :legendfontcolor, :seriescolor, :ztick_direction, :zlims, :overwrite_figure, :normalize, :linestyle, :xflip, :yforeground_color_guide, :fillcolor, :ygrid, :background_color_inside, :bins, :yscale, :clims, :xtickfontcolor, :xguide, :fillalpha, :tick_direction, :yguidefontsize, :legendfontfamily, :foreground_color, :x, :legend, :discrete_values, :ytick_direction, :ribbon, :xdiscrete_values, :legendtitle, :xgridstyle, :orientation, :gridstyle, :markersize, :camera, :xforeground_color_grid, :quiver, :zticks, :markerstrokecolor, :xtickfontsize, :levels, :zgridstyle, :foreground_color_border, :marker_z, :markerstrokealpha, :markeralpha, :zguidefontcolor, :ygridlinewidth, :zlink, :zscale, :smooth, :xticks, :zguidefontsize, :y, :margin, :ytickfontcolor, :title_location, :yforeground_color_border, :zguidefontfamily, :zgridalpha, :ztickfontcolor, :html_output_format, :tickfontcolor, :tickfontsize, :z, :yforeground_color_axis, :xerror, :xguidefontcolor, :primary, :aspect_ratio, :foreground_color_guide, :link, :colorbar_title, :yguide, :titlefont, :yguidefontfamily, :layout, :polar, :right_margin, :xlink, :series_annotations, :inset_subplots, :ytickfontsize, :tickfontfamily, :xrotation, :xgrid, :ygridalpha, :dpi, :xtick_direction, :colorbar, :zflip, :ticks, :linealpha, :arrow, :zgrid, :bar_width, :zguide, :zforeground_color_text, :weights, :xgridalpha, :ygridstyle, :fill_z, :ztickfontfamily, :markershape, :background_color_subplot, :markerstrokewidth, :xguidefontfamily, :gridlinewidth, :foreground_color_subplot, :xgridlinewidth, :foreground_color_text, :yerror, :rotation, :zgridlinewidth, :grid, :xguidefontsize, :xforeground_color_axis, :background_color_outside, :titlefontcolor, :line_z, :size, :projection, :ydiscrete_values, :seriestype, :yflip, :fillrange, :xlims, :xforeground_color_border, :markercolor, :yrotation, :ylink, :yforeground_color_grid, :color_palette, :lims, :xscale, :left_margin, :annotations, :window_title, :zrotation, :foreground_color_axis, :guidefontsize, :foreground_color_title, :bottom_margin, :zdiscrete_values, :framestyle, :scale, :zforeground_color_border, :background_color_legend, :linecolor, :contours, :foreground_color_legend, :title, :subplot_index, :flip, :foreground_color_grid, :linewidth, :ztickfontsize, :gridalpha, :guidefontfamily, :ylims, :bar_position, :xtickfontfamily, :ytickfontfamily, :xforeground_color_text, :show, :legendfontsize, :xforeground_color_guide, :subplot, :label, :guide, :guidefontcolor, :bar_edges, :match_dimensions, :titlefontsize, :titlefontfamily, :zforeground_color_axis, :zforeground_color_grid, :yticks])\u001b[39m\n"
     ]
    },
    {
     "data": {
      "text/html": [
       "<img src=\"data:image/png;base64,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\" />"
      ]
     },
     "execution_count": 15,
     "metadata": {},
     "output_type": "execute_result"
    }
   ],
   "source": [
    "x = 0.9:0.004:2.2\n",
    "y = 0.9:0.004:2.2\n",
    "f(x,y) = c1/((x-1)^2 + (y-1.5)^2) + c2/((x-2)^2 + (y-1)^2)\n",
    "g1(x,y) = 3(x-1.1)^2+2(x-1.1)*(y-1.75)+(y-1.75)^2\n",
    "g2(x,y) = (x-1.25)^2+3(y-2)^2\n",
    "g3(x,y) = (x-1.5)^2+(y-1.75)^2\n",
    "g4(x,y) = (x-1.8)^2-2*(x-1.8)*(y-1.8)+3*(y-1.8)^2\n",
    "g5(x,y) = 5(x-2)^2+(y-1.4)^2\n",
    "X = repmat(x',length(y),1)\n",
    "Y = repmat(y,1,length(x))\n",
    "Z = map(f,X,Y)\n",
    "Z1 = map(g1,X,Y)\n",
    "Z2 = map(g2,X,Y)\n",
    "Z3 = map(g3,X,Y)\n",
    "Z4 = map(g4,X,Y)\n",
    "Z5 = map(g5,X,Y)\n",
    "p2 = contour(x, y, Z.>=10, fill=true)\n",
    "contour!(x, y, Z1.<=0.01)\n",
    "contour!(x, y, Z2.<=0.01)\n",
    "contour!(x, y, Z3.<=0.01)\n",
    "contour!(x, y, Z4.<=0.01)\n",
    "contour!(x, y, Z5.<=0.02)\n",
    "plot!([1], [1.5], marker=:dot, color=:black)\n",
    "plot!([2], [1], marker=:dot, color=:black)"
   ]
  },
  {
   "cell_type": "code",
   "execution_count": 16,
   "metadata": {},
   "outputs": [
    {
     "data": {
      "text/html": [
       "8.11792025553453"
      ],
      "text/plain": [
       "8.11792025553453"
      ]
     },
     "execution_count": 16,
     "metadata": {},
     "output_type": "execute_result"
    }
   ],
   "source": [
    "c1 + c2"
   ]
  },
  {
   "cell_type": "code",
   "execution_count": 21,
   "metadata": {},
   "outputs": [
    {
     "ename": "LoadError",
     "evalue": "\u001b[91msyntax: extra token \"f\" after end of expression\u001b[39m",
     "output_type": "error",
     "traceback": [
      "\u001b[91msyntax: extra token \"f\" after end of expression\u001b[39m",
      "",
      "Stacktrace:",
      " [1] \u001b[1minclude_string\u001b[22m\u001b[22m\u001b[1m(\u001b[22m\u001b[22m::String, ::String\u001b[1m)\u001b[22m\u001b[22m at \u001b[1m.\\loading.jl:522\u001b[22m\u001b[22m"
     ]
    }
   ],
   "source": [
    "x = 0.9:0.005:2.1\n",
    "y = 0.9:0.005:2.1\n",
    "function f(x,y)\n",
    "    c1, c2 = 2.5543781246902038, 5.563542106302917\n",
    "    m = min(norm([x,y] - [1, 1.5]), norm([x,y] - [1, 1.5]))\n",
    "    if m < 1e-1\n",
    "        return 100.\n",
    "    else\n",
    "        return c1/((x-1)^2 + (y-1.5)^2) + c2/((x-2)^2 + (y-1)^2)\n",
    "    end\n",
    "end\n",
    "g1(x,y) = 3(x-1.1)^2+2(x-1.1)*(y-1.75)+(y-1.75)^2\n",
    "g2(x,y) = (x-1.25)^2+3(y-2)^2\n",
    "g3(x,y) = (x-1.5)^2+(y-1.75)^2\n",
    "g4(x,y) = (x-1.8)^2-2*(x-1.8)*(y-1.8)+3*(y-1.8)^2\n",
    "g5(x,y) = 5(x-2)^2+(y-1.4)^2\n",
    "p1 = plot(x, y, f, typ=:contour, levels=5:5:30, clabels=true, style=:dot)\n",
    "plot([1], [1.5], marker=:dot, color=:black)\n",
    "plot!([2], [1], marker=:dot, color=:black)\n",
    "contour!(x, y, g1, levels=[.01])\n",
    "contour!(x, y, g2, levels=[.01])\n",
    "contour!(x, y, g3, levels=[.01])\n",
    "contour!(x, y, g4, levels=[.01])\n",
    "contour!(x, y, g5, levels=[.02])\n",
    "plot!(p1, size=(800, 700), legend=false)\n",
    "Plots.pdf(p1, \"fig\")\n",
    "p1"
   ]
  }
 ],
 "metadata": {
  "kernelspec": {
   "display_name": "Julia 0.6.2",
   "language": "julia",
   "name": "julia-0.6"
  },
  "language_info": {
   "file_extension": ".jl",
   "mimetype": "application/julia",
   "name": "julia",
   "version": "0.6.2"
  }
 },
 "nbformat": 4,
 "nbformat_minor": 2
}
